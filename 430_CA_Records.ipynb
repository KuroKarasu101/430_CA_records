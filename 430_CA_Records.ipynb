{
  "nbformat": 4,
  "nbformat_minor": 0,
  "metadata": {
    "colab": {
      "provenance": []
    },
    "kernelspec": {
      "name": "python3",
      "display_name": "Python 3"
    },
    "language_info": {
      "name": "python"
    }
  },
  "cells": [
    {
      "cell_type": "code",
      "execution_count": null,
      "metadata": {
        "colab": {
          "base_uri": "https://localhost:8080/"
        },
        "id": "5ZGySsvlP_hG",
        "outputId": "f42b4cf1-b011-4908-8d93-727c892c4b33"
      },
      "outputs": [
        {
          "output_type": "stream",
          "name": "stdout",
          "text": [
            "10\n"
          ]
        }
      ],
      "source": [
        "a=10\n",
        "print(a)\n"
      ]
    },
    {
      "cell_type": "code",
      "source": [
        "b=99.99\n",
        "print(b)"
      ],
      "metadata": {
        "colab": {
          "base_uri": "https://localhost:8080/"
        },
        "id": "dIA8daiuQTDd",
        "outputId": "d5c9de9a-abc5-4760-de00-57ca79a5ca8a"
      },
      "execution_count": null,
      "outputs": [
        {
          "output_type": "stream",
          "name": "stdout",
          "text": [
            "99.99\n"
          ]
        }
      ]
    },
    {
      "cell_type": "code",
      "source": [
        "c='Anish'\n",
        "print(c)"
      ],
      "metadata": {
        "colab": {
          "base_uri": "https://localhost:8080/"
        },
        "id": "JHpLrGWiQY6Z",
        "outputId": "ef82cd15-5ac4-4e78-8ef0-60d7997876de"
      },
      "execution_count": null,
      "outputs": [
        {
          "output_type": "stream",
          "name": "stdout",
          "text": [
            "Anish\n"
          ]
        }
      ]
    },
    {
      "cell_type": "code",
      "source": [
        "str=\"Hi I am Anish\"\n",
        "print(str)"
      ],
      "metadata": {
        "colab": {
          "base_uri": "https://localhost:8080/"
        },
        "id": "_uPW9W0hQdI2",
        "outputId": "0c193771-03c5-4e0e-f4a6-bb1a05291930"
      },
      "execution_count": null,
      "outputs": [
        {
          "output_type": "stream",
          "name": "stdout",
          "text": [
            "Hi I am Anish\n"
          ]
        }
      ]
    },
    {
      "cell_type": "code",
      "source": [
        "d=[430, 99.99, 'Anish']\n",
        "print(d)"
      ],
      "metadata": {
        "colab": {
          "base_uri": "https://localhost:8080/"
        },
        "id": "LQEGZ93eRWtg",
        "outputId": "4164a9de-4072-4118-ce43-769d68e6aa26"
      },
      "execution_count": null,
      "outputs": [
        {
          "output_type": "stream",
          "name": "stdout",
          "text": [
            "[430, 99.99, 'Anish']\n"
          ]
        }
      ]
    },
    {
      "cell_type": "code",
      "source": [
        "e=(430, 99.99, 'Anish')\n",
        "print(e)"
      ],
      "metadata": {
        "colab": {
          "base_uri": "https://localhost:8080/"
        },
        "id": "IaOshp_kRfMT",
        "outputId": "05900934-006a-4911-e6a2-3837573f2fa8"
      },
      "execution_count": null,
      "outputs": [
        {
          "output_type": "stream",
          "name": "stdout",
          "text": [
            "(430, 99.99, 'Anish')\n"
          ]
        }
      ]
    },
    {
      "cell_type": "code",
      "source": [
        "f={\"Yaseen\" : 1, \"Anish\" : 2, \"Vipul\" :3, \"Gaurav\" : 4}\n",
        "print(f)"
      ],
      "metadata": {
        "colab": {
          "base_uri": "https://localhost:8080/"
        },
        "id": "ufYbnygBRqYs",
        "outputId": "dad2eb99-1f0a-4909-9586-09137adc503b"
      },
      "execution_count": null,
      "outputs": [
        {
          "output_type": "stream",
          "name": "stdout",
          "text": [
            "{'Yaseen': 1, 'Anish': 2, 'Vipul': 3, 'Gaurav': 4}\n"
          ]
        }
      ]
    },
    {
      "cell_type": "code",
      "source": [
        "n1=int(input())\n",
        "n2=int(input())\n",
        "n3=int(input())\n",
        "if n1>n2 and n1>n3:\n",
        "  print(n1,\"is largest\")\n",
        "if n2>n1 and n2>n3:\n",
        "  print(n2,\"is largest\")\n",
        "if n3>n1 and n3>n2:\n",
        "  print(n3,\"is largest\")"
      ],
      "metadata": {
        "colab": {
          "base_uri": "https://localhost:8080/"
        },
        "id": "UT2sFpTMRwHq",
        "outputId": "143a8538-e20a-4e2c-b939-7d61ce6e24d0"
      },
      "execution_count": null,
      "outputs": [
        {
          "output_type": "stream",
          "name": "stdout",
          "text": [
            "1\n",
            "2\n",
            "3\n",
            "3 is largest\n"
          ]
        }
      ]
    },
    {
      "cell_type": "code",
      "source": [
        "n1=int(input())\n",
        "n2=int(input())\n",
        "n3=int(input())\n",
        "if n1>n2:\n",
        "  if n1>n3:\n",
        "    print(n1, \"is largest\")\n",
        "if n2> n1:\n",
        "  if n2>n3:\n",
        "    print(n2, \"is largest\")\n",
        "if n3>n1:\n",
        "  if n3>n2:\n",
        "    print(n3, \"is largest\")\n"
      ],
      "metadata": {
        "colab": {
          "base_uri": "https://localhost:8080/"
        },
        "id": "qnVJlg1VR_UK",
        "outputId": "34f8fd0d-44d9-4a14-be1b-c7e6582a3fbd"
      },
      "execution_count": null,
      "outputs": [
        {
          "output_type": "stream",
          "name": "stdout",
          "text": [
            "1\n",
            "2\n",
            "3\n",
            "3 is largest\n"
          ]
        }
      ]
    },
    {
      "cell_type": "code",
      "source": [
        "weather = input(\"What is the weather today\\n\")\n",
        "if weather == \"sunny\":\n",
        "  print(\"it is good day for picnic.\")\n",
        "elif weather == \"cloudy\":\n",
        "  print(\"it is not good day for picnic.\")\n",
        "elif weather == \"rainy\":\n",
        "  print(\"keep the umbrella with you.\")\n",
        "else:\n",
        "  print(\"write the correct weather condition\")"
      ],
      "metadata": {
        "colab": {
          "base_uri": "https://localhost:8080/"
        },
        "id": "sEfF3cPmSKJo",
        "outputId": "501102db-109a-49c1-f432-ec4d9df54907"
      },
      "execution_count": null,
      "outputs": [
        {
          "output_type": "stream",
          "name": "stdout",
          "text": [
            "What is the weather today\n",
            "rainy\n",
            "keep the umbrella with you.\n"
          ]
        }
      ]
    },
    {
      "cell_type": "code",
      "source": [
        "i = 1\n",
        "while i<10:\n",
        "  print(\"welcome\")\n",
        "  i=i+1"
      ],
      "metadata": {
        "colab": {
          "base_uri": "https://localhost:8080/"
        },
        "id": "ZirkDmPDSQiq",
        "outputId": "a00235a8-331b-4714-e44e-ae63ba200a25"
      },
      "execution_count": null,
      "outputs": [
        {
          "output_type": "stream",
          "name": "stdout",
          "text": [
            "welcome\n",
            "welcome\n",
            "welcome\n",
            "welcome\n",
            "welcome\n",
            "welcome\n",
            "welcome\n",
            "welcome\n",
            "welcome\n"
          ]
        }
      ]
    },
    {
      "cell_type": "code",
      "source": [
        "print(\"Enter a value\")\n",
        "num = int(input())\n",
        "sum = 0\n",
        "i = 1\n",
        "while i <= num:\n",
        "  sum = sum + i\n",
        "  i =i+1\n",
        "  print(\"sum\", sum)"
      ],
      "metadata": {
        "colab": {
          "base_uri": "https://localhost:8080/"
        },
        "id": "vDoVgiF8SWj6",
        "outputId": "095bbbd8-f3f8-4e70-b0c3-2b6677086c42"
      },
      "execution_count": null,
      "outputs": [
        {
          "output_type": "stream",
          "name": "stdout",
          "text": [
            "Enter a value\n",
            "10\n",
            "sum 1\n",
            "sum 3\n",
            "sum 6\n",
            "sum 10\n",
            "sum 15\n",
            "sum 21\n",
            "sum 28\n",
            "sum 36\n",
            "sum 45\n",
            "sum 55\n"
          ]
        }
      ]
    },
    {
      "cell_type": "code",
      "source": [
        "l1 = [\"c++\", \"java\", \"python\"]\n",
        "for i in l1:\n",
        "  print(\"Loop refers to book\", i)"
      ],
      "metadata": {
        "colab": {
          "base_uri": "https://localhost:8080/"
        },
        "id": "N8UpdrvJSgfg",
        "outputId": "ff586e0c-ceb4-41ed-a386-97c2b7420b7e"
      },
      "execution_count": null,
      "outputs": [
        {
          "output_type": "stream",
          "name": "stdout",
          "text": [
            "Loop refers to book c++\n",
            "Loop refers to book java\n",
            "Loop refers to book python\n"
          ]
        }
      ]
    },
    {
      "cell_type": "code",
      "source": [
        "# Function\n",
        "def my_funtion():\n",
        "  print(\"Hello World\")\n",
        "my_funtion()"
      ],
      "metadata": {
        "colab": {
          "base_uri": "https://localhost:8080/"
        },
        "id": "v1Y926VWSl-K",
        "outputId": "1525b560-2820-4965-b628-b3a56bc0c300"
      },
      "execution_count": null,
      "outputs": [
        {
          "output_type": "stream",
          "name": "stdout",
          "text": [
            "Hello World\n"
          ]
        }
      ]
    },
    {
      "cell_type": "code",
      "source": [
        "def add_num(a,b):\n",
        "    sum = a+b;\n",
        "    return sum;\n",
        "num1 = int(input())\n",
        "num2 = int(input())\n",
        "print(\"The sum is\", add_num(num1 , num2))"
      ],
      "metadata": {
        "colab": {
          "base_uri": "https://localhost:8080/"
        },
        "id": "BMuDLgGiSwKC",
        "outputId": "85e69068-e0e4-4bab-d780-42b0cfb85c2f"
      },
      "execution_count": null,
      "outputs": [
        {
          "output_type": "stream",
          "name": "stdout",
          "text": [
            "1\n",
            "1\n",
            "The sum is 2\n"
          ]
        }
      ]
    },
    {
      "cell_type": "code",
      "source": [
        "def even():\n",
        "  print(\"Enter a number\")\n",
        "  num = int(input())\n",
        "  if (num%2 == 0):\n",
        "    print(num, \"is even\")\n",
        "  else:\n",
        "    print(num, \"is odd\")\n",
        "even()"
      ],
      "metadata": {
        "colab": {
          "base_uri": "https://localhost:8080/"
        },
        "id": "XEqGGLpcSyLR",
        "outputId": "b124edd7-fa77-42f7-c071-89783a443fa3"
      },
      "execution_count": null,
      "outputs": [
        {
          "output_type": "stream",
          "name": "stdout",
          "text": [
            "Enter a number\n",
            "33\n",
            "33 is odd\n"
          ]
        }
      ]
    },
    {
      "cell_type": "code",
      "source": [
        "#Data type of the variable\n",
        "a=10\n",
        "b='true'\n",
        "c=19.3\n",
        "d=[10, 20, 30]\n",
        "print(type(a))\n",
        "print(type(b))\n",
        "print(type(c))\n",
        "print(type(d))"
      ],
      "metadata": {
        "colab": {
          "base_uri": "https://localhost:8080/"
        },
        "id": "7uRBzPpjTB_t",
        "outputId": "b8d7275a-e7c4-41e2-addf-de2797b51d18"
      },
      "execution_count": null,
      "outputs": [
        {
          "output_type": "stream",
          "name": "stdout",
          "text": [
            "<class 'int'>\n",
            "<class 'str'>\n",
            "<class 'float'>\n",
            "<class 'list'>\n"
          ]
        }
      ]
    },
    {
      "cell_type": "code",
      "source": [
        "l1=[\"\",\"\",\"\"]\n",
        "l2=[\"a\",\"\",\"\"]\n",
        "l3=[\"true\",\"true\"]\n",
        "l4=[\"true\",\"false\"]\n",
        "l5=[\"false\",\"false\"]\n",
        "a=all(l1)\n",
        "b=all(l2)\n",
        "c=all(l3)\n",
        "d=all(l4)\n",
        "e=all(l5)\n",
        "print(a)\n",
        "print(b)\n",
        "print(c)\n",
        "print(d)\n",
        "print(e)"
      ],
      "metadata": {
        "colab": {
          "base_uri": "https://localhost:8080/"
        },
        "id": "IMsWBeHyTGoT",
        "outputId": "83686070-57ab-43a3-be7b-7f51ac030090"
      },
      "execution_count": null,
      "outputs": [
        {
          "output_type": "stream",
          "name": "stdout",
          "text": [
            "False\n",
            "False\n",
            "True\n",
            "True\n",
            "True\n"
          ]
        }
      ]
    },
    {
      "cell_type": "code",
      "source": [
        "l1=[\"\",\"\",\"\"]\n",
        "l2=[\"a\",\"\",\"\"]\n",
        "l3=[\"true\",\"true\"]\n",
        "l4=[\"true\",\"false\"]\n",
        "l5=[\"false\",\"false\"]\n",
        "a=any(l1)\n",
        "b=any(l2)\n",
        "c=any(l3)\n",
        "d=any(l4)\n",
        "e=any(l5)\n",
        "print(a)\n",
        "print(b)\n",
        "print(c)\n",
        "print(d)\n",
        "print(e)"
      ],
      "metadata": {
        "colab": {
          "base_uri": "https://localhost:8080/"
        },
        "id": "njw6tIiVTLlI",
        "outputId": "c8a277bb-4b4a-485e-c8b2-b4da70ba16c6"
      },
      "execution_count": null,
      "outputs": [
        {
          "output_type": "stream",
          "name": "stdout",
          "text": [
            "False\n",
            "True\n",
            "True\n",
            "True\n",
            "True\n"
          ]
        }
      ]
    },
    {
      "cell_type": "code",
      "source": [
        "#Basic list operations\n",
        "#append()\n",
        "l1 = [10, 20, \"Python\", 95.5, 314, 5]\n",
        "l1.append(25)\n",
        "print(l1)"
      ],
      "metadata": {
        "colab": {
          "base_uri": "https://localhost:8080/"
        },
        "id": "GoWoyRwHTS12",
        "outputId": "e6be97c1-d254-4905-b641-afafa9d2603a"
      },
      "execution_count": null,
      "outputs": [
        {
          "output_type": "stream",
          "name": "stdout",
          "text": [
            "[10, 20, 'Python', 95.5, 314, 5, 25]\n"
          ]
        }
      ]
    },
    {
      "cell_type": "code",
      "source": [
        "#insert()\n",
        "l1=[\"Python\", \"Java\", \"Essentials of data science\"]\n",
        "print(l1)\n",
        "l1.insert(2,\"HTML\")\n",
        "print(l1)"
      ],
      "metadata": {
        "colab": {
          "base_uri": "https://localhost:8080/"
        },
        "id": "NhmPa9eaTWcn",
        "outputId": "6d5a35ae-3291-4d50-e133-c37ff92005e3"
      },
      "execution_count": null,
      "outputs": [
        {
          "output_type": "stream",
          "name": "stdout",
          "text": [
            "['Python', 'Java', 'Essentials of data science']\n",
            "['Python', 'Java', 'HTML', 'Essentials of data science']\n"
          ]
        }
      ]
    },
    {
      "cell_type": "code",
      "source": [
        "#extend()\n",
        "l1 = [10, 20, 30]\n",
        "l2 = [40, 50, 60]\n",
        "l1.extend(l2)\n",
        "print(l1)"
      ],
      "metadata": {
        "colab": {
          "base_uri": "https://localhost:8080/"
        },
        "id": "-UXS_8LETdBX",
        "outputId": "c33dbe76-9c96-4013-ff18-115e537ad4ae"
      },
      "execution_count": null,
      "outputs": [
        {
          "output_type": "stream",
          "name": "stdout",
          "text": [
            "[10, 20, 30, 40, 50, 60]\n"
          ]
        }
      ]
    },
    {
      "cell_type": "code",
      "source": [
        "#length of list\n",
        "l1 = [10, 20, 30, 40, 50, 60, 70]\n",
        "a= l1.__len__()\n",
        "print(a)"
      ],
      "metadata": {
        "colab": {
          "base_uri": "https://localhost:8080/"
        },
        "id": "FLdBNr3VThAL",
        "outputId": "99886cd1-8632-4d5d-ba21-b0f0b51124f2"
      },
      "execution_count": null,
      "outputs": [
        {
          "output_type": "stream",
          "name": "stdout",
          "text": [
            "7\n"
          ]
        }
      ]
    },
    {
      "cell_type": "code",
      "source": [
        "#statistics.mean\n",
        "import statistics\n",
        "l1 = [1,2,3,2,1]\n",
        "print(statistics.mean(l1))"
      ],
      "metadata": {
        "colab": {
          "base_uri": "https://localhost:8080/"
        },
        "id": "CRGZ2pQ5TjXz",
        "outputId": "b889a23c-8264-48e8-869f-0f839c5e3971"
      },
      "execution_count": null,
      "outputs": [
        {
          "output_type": "stream",
          "name": "stdout",
          "text": [
            "1.8\n"
          ]
        }
      ]
    },
    {
      "cell_type": "code",
      "source": [
        "#medaian for odd no. of elements\n",
        "from statistics import median\n",
        "t1 = [1,3,2,6,5,4,7]\n",
        "print(median(t1))"
      ],
      "metadata": {
        "colab": {
          "base_uri": "https://localhost:8080/"
        },
        "id": "sDMCgm2UTj43",
        "outputId": "43672507-4c5f-40d9-ca82-6bf45aa02255"
      },
      "execution_count": null,
      "outputs": [
        {
          "output_type": "stream",
          "name": "stdout",
          "text": [
            "4\n"
          ]
        }
      ]
    },
    {
      "cell_type": "code",
      "source": [
        "#median for even no. of elements\n",
        "from statistics import median\n",
        "t1 = [1,3,2,6,5,4]\n",
        "print(median(t1))"
      ],
      "metadata": {
        "colab": {
          "base_uri": "https://localhost:8080/"
        },
        "id": "2uxFWguiTxRf",
        "outputId": "b7dfdbbf-a365-4f65-8c74-7555bcaccf0c"
      },
      "execution_count": null,
      "outputs": [
        {
          "output_type": "stream",
          "name": "stdout",
          "text": [
            "3.5\n"
          ]
        }
      ]
    },
    {
      "cell_type": "code",
      "source": [
        "#median_low()\n",
        "import statistics\n",
        "l1 = [1, 2, 8, 4, 5, 1]\n",
        "print(\"Low Median of the set is\", statistics.median_low(l1))"
      ],
      "metadata": {
        "colab": {
          "base_uri": "https://localhost:8080/"
        },
        "id": "k9xjJYmnT7IX",
        "outputId": "d2477d6f-4470-4c3f-ce4b-92edea0b344a"
      },
      "execution_count": null,
      "outputs": [
        {
          "output_type": "stream",
          "name": "stdout",
          "text": [
            "Low Median of the set is 2\n"
          ]
        }
      ]
    },
    {
      "cell_type": "code",
      "source": [
        "#median_high()\n",
        "import statistics\n",
        "l1 = [1, 2, 8, 4, 5, 1]\n",
        "print(\"High Median of the set\", statistics.median_high(l1))"
      ],
      "metadata": {
        "colab": {
          "base_uri": "https://localhost:8080/"
        },
        "id": "6L_mLq6OT_tm",
        "outputId": "c4d58a6d-b5f9-4baf-b566-47ec024792cf"
      },
      "execution_count": null,
      "outputs": [
        {
          "output_type": "stream",
          "name": "stdout",
          "text": [
            "High Median of the set 4\n"
          ]
        }
      ]
    },
    {
      "cell_type": "code",
      "source": [
        "#mode\n",
        "from statistics import mode\n",
        "l1=[1,1,1,2,2,2,3,3,3,3,4,4,4,5,5]\n",
        "print(\"The mode of this set is\", mode(l1))"
      ],
      "metadata": {
        "colab": {
          "base_uri": "https://localhost:8080/"
        },
        "id": "XSzYGDqeUC87",
        "outputId": "5c30ee11-360d-4947-a1f7-2e51923f00b4"
      },
      "execution_count": null,
      "outputs": [
        {
          "output_type": "stream",
          "name": "stdout",
          "text": [
            "The mode of this set is 3\n"
          ]
        }
      ]
    },
    {
      "cell_type": "code",
      "source": [
        "#max(), min(), Range = Maximum- Minimum\n",
        "arr = [1,2,3,4,5]\n",
        "Maximum = max(arr)\n",
        "Minimum = min(arr)\n",
        "Range = Maximum- Minimum\n",
        "print(\"Maximum = {}, Minimum = {} and Range = {}\".format(Maximum, Minimum , Range ))"
      ],
      "metadata": {
        "colab": {
          "base_uri": "https://localhost:8080/"
        },
        "id": "bZjSJZ8GUIBZ",
        "outputId": "f0848e1b-fd9a-4b59-b2af-3265a0deac5a"
      },
      "execution_count": null,
      "outputs": [
        {
          "output_type": "stream",
          "name": "stdout",
          "text": [
            "Maximum = 5, Minimum = 1 and Range = 4\n"
          ]
        }
      ]
    },
    {
      "cell_type": "code",
      "source": [
        "#variance\n",
        "from  statistics import variance\n",
        "t1 = (1,2,5,4,8,9,12)\n",
        "print(\"Variance of t1 is\", variance(t1))"
      ],
      "metadata": {
        "colab": {
          "base_uri": "https://localhost:8080/"
        },
        "id": "UXcB_VI-UMxu",
        "outputId": "d0063c65-c82e-4ad6-a4e9-c8da9118ec6d"
      },
      "execution_count": null,
      "outputs": [
        {
          "output_type": "stream",
          "name": "stdout",
          "text": [
            "Variance of t1 is 15.80952380952381\n"
          ]
        }
      ]
    },
    {
      "cell_type": "code",
      "source": [
        "#standard deviation\n",
        "from statistics import stdev\n",
        "s1 = (1,2,5,4,8,9,12)\n",
        "print(\"Standard deviation of s1 is\", stdev(s1))"
      ],
      "metadata": {
        "colab": {
          "base_uri": "https://localhost:8080/"
        },
        "id": "ZAF7U8SbUVPP",
        "outputId": "6bcdd104-21ea-44c3-c585-e3a0bc1bf2c1"
      },
      "execution_count": null,
      "outputs": [
        {
          "output_type": "stream",
          "name": "stdout",
          "text": [
            "Standard deviation of s1 is 3.9761191895520196\n"
          ]
        }
      ]
    },
    {
      "cell_type": "code",
      "source": [
        "# Data science using python\n",
        "import pandas as pd\n",
        "df = pd.read_excel('/content/drive/MyDrive/Book1.xlsx')\n",
        "print(df)\n",
        "print('\\n')\n",
        "df1 = pd.read_excel('/content/drive/MyDrive/Book2.xlsx')\n",
        "print(df1)"
      ],
      "metadata": {
        "colab": {
          "base_uri": "https://localhost:8080/"
        },
        "id": "CsJl6TJ-UW2f",
        "outputId": "7e195a81-0c40-4065-8262-af8ad2f2086a"
      },
      "execution_count": 41,
      "outputs": [
        {
          "output_type": "stream",
          "name": "stdout",
          "text": [
            "    Sr.No. Name of Emp  Emp ID  Age        DOB\n",
            "0        1       vipul     101   18 2004-01-01\n",
            "1        2      gaurav     102   18 2004-01-02\n",
            "2        3      yaseen     103   18 2004-01-03\n",
            "3        4       anish     104   18 2004-01-04\n",
            "4        5       rohan     105   18 2004-01-05\n",
            "5        6       gauri     106   18 2004-01-06\n",
            "6        7     shubham     107   18 2004-01-07\n",
            "7        8      akshay     108   18 2004-01-08\n",
            "8        9       punit     109   18 2004-01-09\n",
            "9       10      sumedh     110   18 2004-01-10\n",
            "10      11       mayur     111   18 2004-01-11\n",
            "11      12    priyanka     112   18 2004-01-12\n",
            "12      13      lukesh     113   18 2004-01-13\n",
            "13      14  prathamesh     114   18 2004-01-14\n",
            "14      15    prashant     115   18 2004-01-15\n",
            "15      16     janhavi     116   18 2004-01-16\n",
            "16      17          om     117   18 2004-01-17\n",
            "17      18      ganesh     118   18 2004-01-18\n",
            "18      19       alvin     119   18 2004-01-19\n",
            "19      20       arpan     120   18 2004-01-20\n",
            "\n",
            "\n",
            "    Sr.No. Name of Emp  Emp ID   Salary\n",
            "0        1       vipul     101  1500000\n",
            "1        2      gaurav     102  1500000\n",
            "2        3      yaseen     103  1200000\n",
            "3        4       anish     104  1300000\n",
            "4        5       rohan     105  1000000\n",
            "5        6       gauri     106   900000\n",
            "6        7     shubham     107   900000\n",
            "7        8      akshay     108   950000\n",
            "8        9       punit     109  1000000\n",
            "9       10      sumedh     110   950000\n",
            "10      11       mayur     111   800000\n",
            "11      12    priyanka     112  1000000\n",
            "12      13      lukesh     113   950000\n",
            "13      14  prathamesh     114   900000\n",
            "14      15    prashant     115   800000\n",
            "15      16     janhavi     116  1000000\n",
            "16      17          om     117   750000\n",
            "17      18      ganesh     118   750000\n",
            "18      19       alvin     119  1000000\n",
            "19      20       arpan     120  1050000\n"
          ]
        }
      ]
    },
    {
      "cell_type": "code",
      "source": [
        "#sort the record in ascending order\n",
        "import pandas as pa\n",
        "df1.sort_values(by=['Salary'])"
      ],
      "metadata": {
        "id": "UlcVs6xXUXvv",
        "colab": {
          "base_uri": "https://localhost:8080/",
          "height": 676
        },
        "outputId": "5d41d818-23f7-4276-9d3d-0fa18f467129"
      },
      "execution_count": 43,
      "outputs": [
        {
          "output_type": "execute_result",
          "data": {
            "text/plain": [
              "    Sr.No. Name of Emp  Emp ID   Salary\n",
              "17      18      ganesh     118   750000\n",
              "16      17          om     117   750000\n",
              "10      11       mayur     111   800000\n",
              "14      15    prashant     115   800000\n",
              "5        6       gauri     106   900000\n",
              "6        7     shubham     107   900000\n",
              "13      14  prathamesh     114   900000\n",
              "9       10      sumedh     110   950000\n",
              "7        8      akshay     108   950000\n",
              "12      13      lukesh     113   950000\n",
              "15      16     janhavi     116  1000000\n",
              "4        5       rohan     105  1000000\n",
              "8        9       punit     109  1000000\n",
              "18      19       alvin     119  1000000\n",
              "11      12    priyanka     112  1000000\n",
              "19      20       arpan     120  1050000\n",
              "2        3      yaseen     103  1200000\n",
              "3        4       anish     104  1300000\n",
              "1        2      gaurav     102  1500000\n",
              "0        1       vipul     101  1500000"
            ],
            "text/html": [
              "\n",
              "  <div id=\"df-80b0564f-269c-40ed-9c44-e8ef84e73fa8\">\n",
              "    <div class=\"colab-df-container\">\n",
              "      <div>\n",
              "<style scoped>\n",
              "    .dataframe tbody tr th:only-of-type {\n",
              "        vertical-align: middle;\n",
              "    }\n",
              "\n",
              "    .dataframe tbody tr th {\n",
              "        vertical-align: top;\n",
              "    }\n",
              "\n",
              "    .dataframe thead th {\n",
              "        text-align: right;\n",
              "    }\n",
              "</style>\n",
              "<table border=\"1\" class=\"dataframe\">\n",
              "  <thead>\n",
              "    <tr style=\"text-align: right;\">\n",
              "      <th></th>\n",
              "      <th>Sr.No.</th>\n",
              "      <th>Name of Emp</th>\n",
              "      <th>Emp ID</th>\n",
              "      <th>Salary</th>\n",
              "    </tr>\n",
              "  </thead>\n",
              "  <tbody>\n",
              "    <tr>\n",
              "      <th>17</th>\n",
              "      <td>18</td>\n",
              "      <td>ganesh</td>\n",
              "      <td>118</td>\n",
              "      <td>750000</td>\n",
              "    </tr>\n",
              "    <tr>\n",
              "      <th>16</th>\n",
              "      <td>17</td>\n",
              "      <td>om</td>\n",
              "      <td>117</td>\n",
              "      <td>750000</td>\n",
              "    </tr>\n",
              "    <tr>\n",
              "      <th>10</th>\n",
              "      <td>11</td>\n",
              "      <td>mayur</td>\n",
              "      <td>111</td>\n",
              "      <td>800000</td>\n",
              "    </tr>\n",
              "    <tr>\n",
              "      <th>14</th>\n",
              "      <td>15</td>\n",
              "      <td>prashant</td>\n",
              "      <td>115</td>\n",
              "      <td>800000</td>\n",
              "    </tr>\n",
              "    <tr>\n",
              "      <th>5</th>\n",
              "      <td>6</td>\n",
              "      <td>gauri</td>\n",
              "      <td>106</td>\n",
              "      <td>900000</td>\n",
              "    </tr>\n",
              "    <tr>\n",
              "      <th>6</th>\n",
              "      <td>7</td>\n",
              "      <td>shubham</td>\n",
              "      <td>107</td>\n",
              "      <td>900000</td>\n",
              "    </tr>\n",
              "    <tr>\n",
              "      <th>13</th>\n",
              "      <td>14</td>\n",
              "      <td>prathamesh</td>\n",
              "      <td>114</td>\n",
              "      <td>900000</td>\n",
              "    </tr>\n",
              "    <tr>\n",
              "      <th>9</th>\n",
              "      <td>10</td>\n",
              "      <td>sumedh</td>\n",
              "      <td>110</td>\n",
              "      <td>950000</td>\n",
              "    </tr>\n",
              "    <tr>\n",
              "      <th>7</th>\n",
              "      <td>8</td>\n",
              "      <td>akshay</td>\n",
              "      <td>108</td>\n",
              "      <td>950000</td>\n",
              "    </tr>\n",
              "    <tr>\n",
              "      <th>12</th>\n",
              "      <td>13</td>\n",
              "      <td>lukesh</td>\n",
              "      <td>113</td>\n",
              "      <td>950000</td>\n",
              "    </tr>\n",
              "    <tr>\n",
              "      <th>15</th>\n",
              "      <td>16</td>\n",
              "      <td>janhavi</td>\n",
              "      <td>116</td>\n",
              "      <td>1000000</td>\n",
              "    </tr>\n",
              "    <tr>\n",
              "      <th>4</th>\n",
              "      <td>5</td>\n",
              "      <td>rohan</td>\n",
              "      <td>105</td>\n",
              "      <td>1000000</td>\n",
              "    </tr>\n",
              "    <tr>\n",
              "      <th>8</th>\n",
              "      <td>9</td>\n",
              "      <td>punit</td>\n",
              "      <td>109</td>\n",
              "      <td>1000000</td>\n",
              "    </tr>\n",
              "    <tr>\n",
              "      <th>18</th>\n",
              "      <td>19</td>\n",
              "      <td>alvin</td>\n",
              "      <td>119</td>\n",
              "      <td>1000000</td>\n",
              "    </tr>\n",
              "    <tr>\n",
              "      <th>11</th>\n",
              "      <td>12</td>\n",
              "      <td>priyanka</td>\n",
              "      <td>112</td>\n",
              "      <td>1000000</td>\n",
              "    </tr>\n",
              "    <tr>\n",
              "      <th>19</th>\n",
              "      <td>20</td>\n",
              "      <td>arpan</td>\n",
              "      <td>120</td>\n",
              "      <td>1050000</td>\n",
              "    </tr>\n",
              "    <tr>\n",
              "      <th>2</th>\n",
              "      <td>3</td>\n",
              "      <td>yaseen</td>\n",
              "      <td>103</td>\n",
              "      <td>1200000</td>\n",
              "    </tr>\n",
              "    <tr>\n",
              "      <th>3</th>\n",
              "      <td>4</td>\n",
              "      <td>anish</td>\n",
              "      <td>104</td>\n",
              "      <td>1300000</td>\n",
              "    </tr>\n",
              "    <tr>\n",
              "      <th>1</th>\n",
              "      <td>2</td>\n",
              "      <td>gaurav</td>\n",
              "      <td>102</td>\n",
              "      <td>1500000</td>\n",
              "    </tr>\n",
              "    <tr>\n",
              "      <th>0</th>\n",
              "      <td>1</td>\n",
              "      <td>vipul</td>\n",
              "      <td>101</td>\n",
              "      <td>1500000</td>\n",
              "    </tr>\n",
              "  </tbody>\n",
              "</table>\n",
              "</div>\n",
              "      <button class=\"colab-df-convert\" onclick=\"convertToInteractive('df-80b0564f-269c-40ed-9c44-e8ef84e73fa8')\"\n",
              "              title=\"Convert this dataframe to an interactive table.\"\n",
              "              style=\"display:none;\">\n",
              "        \n",
              "  <svg xmlns=\"http://www.w3.org/2000/svg\" height=\"24px\"viewBox=\"0 0 24 24\"\n",
              "       width=\"24px\">\n",
              "    <path d=\"M0 0h24v24H0V0z\" fill=\"none\"/>\n",
              "    <path d=\"M18.56 5.44l.94 2.06.94-2.06 2.06-.94-2.06-.94-.94-2.06-.94 2.06-2.06.94zm-11 1L8.5 8.5l.94-2.06 2.06-.94-2.06-.94L8.5 2.5l-.94 2.06-2.06.94zm10 10l.94 2.06.94-2.06 2.06-.94-2.06-.94-.94-2.06-.94 2.06-2.06.94z\"/><path d=\"M17.41 7.96l-1.37-1.37c-.4-.4-.92-.59-1.43-.59-.52 0-1.04.2-1.43.59L10.3 9.45l-7.72 7.72c-.78.78-.78 2.05 0 2.83L4 21.41c.39.39.9.59 1.41.59.51 0 1.02-.2 1.41-.59l7.78-7.78 2.81-2.81c.8-.78.8-2.07 0-2.86zM5.41 20L4 18.59l7.72-7.72 1.47 1.35L5.41 20z\"/>\n",
              "  </svg>\n",
              "      </button>\n",
              "      \n",
              "  <style>\n",
              "    .colab-df-container {\n",
              "      display:flex;\n",
              "      flex-wrap:wrap;\n",
              "      gap: 12px;\n",
              "    }\n",
              "\n",
              "    .colab-df-convert {\n",
              "      background-color: #E8F0FE;\n",
              "      border: none;\n",
              "      border-radius: 50%;\n",
              "      cursor: pointer;\n",
              "      display: none;\n",
              "      fill: #1967D2;\n",
              "      height: 32px;\n",
              "      padding: 0 0 0 0;\n",
              "      width: 32px;\n",
              "    }\n",
              "\n",
              "    .colab-df-convert:hover {\n",
              "      background-color: #E2EBFA;\n",
              "      box-shadow: 0px 1px 2px rgba(60, 64, 67, 0.3), 0px 1px 3px 1px rgba(60, 64, 67, 0.15);\n",
              "      fill: #174EA6;\n",
              "    }\n",
              "\n",
              "    [theme=dark] .colab-df-convert {\n",
              "      background-color: #3B4455;\n",
              "      fill: #D2E3FC;\n",
              "    }\n",
              "\n",
              "    [theme=dark] .colab-df-convert:hover {\n",
              "      background-color: #434B5C;\n",
              "      box-shadow: 0px 1px 3px 1px rgba(0, 0, 0, 0.15);\n",
              "      filter: drop-shadow(0px 1px 2px rgba(0, 0, 0, 0.3));\n",
              "      fill: #FFFFFF;\n",
              "    }\n",
              "  </style>\n",
              "\n",
              "      <script>\n",
              "        const buttonEl =\n",
              "          document.querySelector('#df-80b0564f-269c-40ed-9c44-e8ef84e73fa8 button.colab-df-convert');\n",
              "        buttonEl.style.display =\n",
              "          google.colab.kernel.accessAllowed ? 'block' : 'none';\n",
              "\n",
              "        async function convertToInteractive(key) {\n",
              "          const element = document.querySelector('#df-80b0564f-269c-40ed-9c44-e8ef84e73fa8');\n",
              "          const dataTable =\n",
              "            await google.colab.kernel.invokeFunction('convertToInteractive',\n",
              "                                                     [key], {});\n",
              "          if (!dataTable) return;\n",
              "\n",
              "          const docLinkHtml = 'Like what you see? Visit the ' +\n",
              "            '<a target=\"_blank\" href=https://colab.research.google.com/notebooks/data_table.ipynb>data table notebook</a>'\n",
              "            + ' to learn more about interactive tables.';\n",
              "          element.innerHTML = '';\n",
              "          dataTable['output_type'] = 'display_data';\n",
              "          await google.colab.output.renderOutput(dataTable, element);\n",
              "          const docLink = document.createElement('div');\n",
              "          docLink.innerHTML = docLinkHtml;\n",
              "          element.appendChild(docLink);\n",
              "        }\n",
              "      </script>\n",
              "    </div>\n",
              "  </div>\n",
              "  "
            ]
          },
          "metadata": {},
          "execution_count": 43
        }
      ]
    },
    {
      "cell_type": "code",
      "source": [
        "#Sort record in desending order\n",
        "df1.sort_values(by = ['Salary'], ascending = False)"
      ],
      "metadata": {
        "id": "hfh7-SFCUXzI",
        "colab": {
          "base_uri": "https://localhost:8080/",
          "height": 676
        },
        "outputId": "73479100-49c0-4a00-863e-d71a21f05f1b"
      },
      "execution_count": 44,
      "outputs": [
        {
          "output_type": "execute_result",
          "data": {
            "text/plain": [
              "    Sr.No. Name of Emp  Emp ID   Salary\n",
              "0        1       vipul     101  1500000\n",
              "1        2      gaurav     102  1500000\n",
              "3        4       anish     104  1300000\n",
              "2        3      yaseen     103  1200000\n",
              "19      20       arpan     120  1050000\n",
              "8        9       punit     109  1000000\n",
              "4        5       rohan     105  1000000\n",
              "11      12    priyanka     112  1000000\n",
              "15      16     janhavi     116  1000000\n",
              "18      19       alvin     119  1000000\n",
              "7        8      akshay     108   950000\n",
              "9       10      sumedh     110   950000\n",
              "12      13      lukesh     113   950000\n",
              "5        6       gauri     106   900000\n",
              "6        7     shubham     107   900000\n",
              "13      14  prathamesh     114   900000\n",
              "14      15    prashant     115   800000\n",
              "10      11       mayur     111   800000\n",
              "16      17          om     117   750000\n",
              "17      18      ganesh     118   750000"
            ],
            "text/html": [
              "\n",
              "  <div id=\"df-d7d280b4-6dca-4923-bea1-a354a121027f\">\n",
              "    <div class=\"colab-df-container\">\n",
              "      <div>\n",
              "<style scoped>\n",
              "    .dataframe tbody tr th:only-of-type {\n",
              "        vertical-align: middle;\n",
              "    }\n",
              "\n",
              "    .dataframe tbody tr th {\n",
              "        vertical-align: top;\n",
              "    }\n",
              "\n",
              "    .dataframe thead th {\n",
              "        text-align: right;\n",
              "    }\n",
              "</style>\n",
              "<table border=\"1\" class=\"dataframe\">\n",
              "  <thead>\n",
              "    <tr style=\"text-align: right;\">\n",
              "      <th></th>\n",
              "      <th>Sr.No.</th>\n",
              "      <th>Name of Emp</th>\n",
              "      <th>Emp ID</th>\n",
              "      <th>Salary</th>\n",
              "    </tr>\n",
              "  </thead>\n",
              "  <tbody>\n",
              "    <tr>\n",
              "      <th>0</th>\n",
              "      <td>1</td>\n",
              "      <td>vipul</td>\n",
              "      <td>101</td>\n",
              "      <td>1500000</td>\n",
              "    </tr>\n",
              "    <tr>\n",
              "      <th>1</th>\n",
              "      <td>2</td>\n",
              "      <td>gaurav</td>\n",
              "      <td>102</td>\n",
              "      <td>1500000</td>\n",
              "    </tr>\n",
              "    <tr>\n",
              "      <th>3</th>\n",
              "      <td>4</td>\n",
              "      <td>anish</td>\n",
              "      <td>104</td>\n",
              "      <td>1300000</td>\n",
              "    </tr>\n",
              "    <tr>\n",
              "      <th>2</th>\n",
              "      <td>3</td>\n",
              "      <td>yaseen</td>\n",
              "      <td>103</td>\n",
              "      <td>1200000</td>\n",
              "    </tr>\n",
              "    <tr>\n",
              "      <th>19</th>\n",
              "      <td>20</td>\n",
              "      <td>arpan</td>\n",
              "      <td>120</td>\n",
              "      <td>1050000</td>\n",
              "    </tr>\n",
              "    <tr>\n",
              "      <th>8</th>\n",
              "      <td>9</td>\n",
              "      <td>punit</td>\n",
              "      <td>109</td>\n",
              "      <td>1000000</td>\n",
              "    </tr>\n",
              "    <tr>\n",
              "      <th>4</th>\n",
              "      <td>5</td>\n",
              "      <td>rohan</td>\n",
              "      <td>105</td>\n",
              "      <td>1000000</td>\n",
              "    </tr>\n",
              "    <tr>\n",
              "      <th>11</th>\n",
              "      <td>12</td>\n",
              "      <td>priyanka</td>\n",
              "      <td>112</td>\n",
              "      <td>1000000</td>\n",
              "    </tr>\n",
              "    <tr>\n",
              "      <th>15</th>\n",
              "      <td>16</td>\n",
              "      <td>janhavi</td>\n",
              "      <td>116</td>\n",
              "      <td>1000000</td>\n",
              "    </tr>\n",
              "    <tr>\n",
              "      <th>18</th>\n",
              "      <td>19</td>\n",
              "      <td>alvin</td>\n",
              "      <td>119</td>\n",
              "      <td>1000000</td>\n",
              "    </tr>\n",
              "    <tr>\n",
              "      <th>7</th>\n",
              "      <td>8</td>\n",
              "      <td>akshay</td>\n",
              "      <td>108</td>\n",
              "      <td>950000</td>\n",
              "    </tr>\n",
              "    <tr>\n",
              "      <th>9</th>\n",
              "      <td>10</td>\n",
              "      <td>sumedh</td>\n",
              "      <td>110</td>\n",
              "      <td>950000</td>\n",
              "    </tr>\n",
              "    <tr>\n",
              "      <th>12</th>\n",
              "      <td>13</td>\n",
              "      <td>lukesh</td>\n",
              "      <td>113</td>\n",
              "      <td>950000</td>\n",
              "    </tr>\n",
              "    <tr>\n",
              "      <th>5</th>\n",
              "      <td>6</td>\n",
              "      <td>gauri</td>\n",
              "      <td>106</td>\n",
              "      <td>900000</td>\n",
              "    </tr>\n",
              "    <tr>\n",
              "      <th>6</th>\n",
              "      <td>7</td>\n",
              "      <td>shubham</td>\n",
              "      <td>107</td>\n",
              "      <td>900000</td>\n",
              "    </tr>\n",
              "    <tr>\n",
              "      <th>13</th>\n",
              "      <td>14</td>\n",
              "      <td>prathamesh</td>\n",
              "      <td>114</td>\n",
              "      <td>900000</td>\n",
              "    </tr>\n",
              "    <tr>\n",
              "      <th>14</th>\n",
              "      <td>15</td>\n",
              "      <td>prashant</td>\n",
              "      <td>115</td>\n",
              "      <td>800000</td>\n",
              "    </tr>\n",
              "    <tr>\n",
              "      <th>10</th>\n",
              "      <td>11</td>\n",
              "      <td>mayur</td>\n",
              "      <td>111</td>\n",
              "      <td>800000</td>\n",
              "    </tr>\n",
              "    <tr>\n",
              "      <th>16</th>\n",
              "      <td>17</td>\n",
              "      <td>om</td>\n",
              "      <td>117</td>\n",
              "      <td>750000</td>\n",
              "    </tr>\n",
              "    <tr>\n",
              "      <th>17</th>\n",
              "      <td>18</td>\n",
              "      <td>ganesh</td>\n",
              "      <td>118</td>\n",
              "      <td>750000</td>\n",
              "    </tr>\n",
              "  </tbody>\n",
              "</table>\n",
              "</div>\n",
              "      <button class=\"colab-df-convert\" onclick=\"convertToInteractive('df-d7d280b4-6dca-4923-bea1-a354a121027f')\"\n",
              "              title=\"Convert this dataframe to an interactive table.\"\n",
              "              style=\"display:none;\">\n",
              "        \n",
              "  <svg xmlns=\"http://www.w3.org/2000/svg\" height=\"24px\"viewBox=\"0 0 24 24\"\n",
              "       width=\"24px\">\n",
              "    <path d=\"M0 0h24v24H0V0z\" fill=\"none\"/>\n",
              "    <path d=\"M18.56 5.44l.94 2.06.94-2.06 2.06-.94-2.06-.94-.94-2.06-.94 2.06-2.06.94zm-11 1L8.5 8.5l.94-2.06 2.06-.94-2.06-.94L8.5 2.5l-.94 2.06-2.06.94zm10 10l.94 2.06.94-2.06 2.06-.94-2.06-.94-.94-2.06-.94 2.06-2.06.94z\"/><path d=\"M17.41 7.96l-1.37-1.37c-.4-.4-.92-.59-1.43-.59-.52 0-1.04.2-1.43.59L10.3 9.45l-7.72 7.72c-.78.78-.78 2.05 0 2.83L4 21.41c.39.39.9.59 1.41.59.51 0 1.02-.2 1.41-.59l7.78-7.78 2.81-2.81c.8-.78.8-2.07 0-2.86zM5.41 20L4 18.59l7.72-7.72 1.47 1.35L5.41 20z\"/>\n",
              "  </svg>\n",
              "      </button>\n",
              "      \n",
              "  <style>\n",
              "    .colab-df-container {\n",
              "      display:flex;\n",
              "      flex-wrap:wrap;\n",
              "      gap: 12px;\n",
              "    }\n",
              "\n",
              "    .colab-df-convert {\n",
              "      background-color: #E8F0FE;\n",
              "      border: none;\n",
              "      border-radius: 50%;\n",
              "      cursor: pointer;\n",
              "      display: none;\n",
              "      fill: #1967D2;\n",
              "      height: 32px;\n",
              "      padding: 0 0 0 0;\n",
              "      width: 32px;\n",
              "    }\n",
              "\n",
              "    .colab-df-convert:hover {\n",
              "      background-color: #E2EBFA;\n",
              "      box-shadow: 0px 1px 2px rgba(60, 64, 67, 0.3), 0px 1px 3px 1px rgba(60, 64, 67, 0.15);\n",
              "      fill: #174EA6;\n",
              "    }\n",
              "\n",
              "    [theme=dark] .colab-df-convert {\n",
              "      background-color: #3B4455;\n",
              "      fill: #D2E3FC;\n",
              "    }\n",
              "\n",
              "    [theme=dark] .colab-df-convert:hover {\n",
              "      background-color: #434B5C;\n",
              "      box-shadow: 0px 1px 3px 1px rgba(0, 0, 0, 0.15);\n",
              "      filter: drop-shadow(0px 1px 2px rgba(0, 0, 0, 0.3));\n",
              "      fill: #FFFFFF;\n",
              "    }\n",
              "  </style>\n",
              "\n",
              "      <script>\n",
              "        const buttonEl =\n",
              "          document.querySelector('#df-d7d280b4-6dca-4923-bea1-a354a121027f button.colab-df-convert');\n",
              "        buttonEl.style.display =\n",
              "          google.colab.kernel.accessAllowed ? 'block' : 'none';\n",
              "\n",
              "        async function convertToInteractive(key) {\n",
              "          const element = document.querySelector('#df-d7d280b4-6dca-4923-bea1-a354a121027f');\n",
              "          const dataTable =\n",
              "            await google.colab.kernel.invokeFunction('convertToInteractive',\n",
              "                                                     [key], {});\n",
              "          if (!dataTable) return;\n",
              "\n",
              "          const docLinkHtml = 'Like what you see? Visit the ' +\n",
              "            '<a target=\"_blank\" href=https://colab.research.google.com/notebooks/data_table.ipynb>data table notebook</a>'\n",
              "            + ' to learn more about interactive tables.';\n",
              "          element.innerHTML = '';\n",
              "          dataTable['output_type'] = 'display_data';\n",
              "          await google.colab.output.renderOutput(dataTable, element);\n",
              "          const docLink = document.createElement('div');\n",
              "          docLink.innerHTML = docLinkHtml;\n",
              "          element.appendChild(docLink);\n",
              "        }\n",
              "      </script>\n",
              "    </div>\n",
              "  </div>\n",
              "  "
            ]
          },
          "metadata": {},
          "execution_count": 44
        }
      ]
    },
    {
      "cell_type": "code",
      "source": [
        "df3 = pd.merge(df, df1)\n",
        "df3"
      ],
      "metadata": {
        "id": "7FOC-ZWNUX1u",
        "colab": {
          "base_uri": "https://localhost:8080/",
          "height": 676
        },
        "outputId": "79cb504b-2a85-48c4-fbb6-35a9f1d010df"
      },
      "execution_count": 45,
      "outputs": [
        {
          "output_type": "execute_result",
          "data": {
            "text/plain": [
              "    Sr.No. Name of Emp  Emp ID  Age        DOB   Salary\n",
              "0        1       vipul     101   18 2004-01-01  1500000\n",
              "1        2      gaurav     102   18 2004-01-02  1500000\n",
              "2        3      yaseen     103   18 2004-01-03  1200000\n",
              "3        4       anish     104   18 2004-01-04  1300000\n",
              "4        5       rohan     105   18 2004-01-05  1000000\n",
              "5        6       gauri     106   18 2004-01-06   900000\n",
              "6        7     shubham     107   18 2004-01-07   900000\n",
              "7        8      akshay     108   18 2004-01-08   950000\n",
              "8        9       punit     109   18 2004-01-09  1000000\n",
              "9       10      sumedh     110   18 2004-01-10   950000\n",
              "10      11       mayur     111   18 2004-01-11   800000\n",
              "11      12    priyanka     112   18 2004-01-12  1000000\n",
              "12      13      lukesh     113   18 2004-01-13   950000\n",
              "13      14  prathamesh     114   18 2004-01-14   900000\n",
              "14      15    prashant     115   18 2004-01-15   800000\n",
              "15      16     janhavi     116   18 2004-01-16  1000000\n",
              "16      17          om     117   18 2004-01-17   750000\n",
              "17      18      ganesh     118   18 2004-01-18   750000\n",
              "18      19       alvin     119   18 2004-01-19  1000000\n",
              "19      20       arpan     120   18 2004-01-20  1050000"
            ],
            "text/html": [
              "\n",
              "  <div id=\"df-e9210b61-22cd-4e59-868b-710d2200db3d\">\n",
              "    <div class=\"colab-df-container\">\n",
              "      <div>\n",
              "<style scoped>\n",
              "    .dataframe tbody tr th:only-of-type {\n",
              "        vertical-align: middle;\n",
              "    }\n",
              "\n",
              "    .dataframe tbody tr th {\n",
              "        vertical-align: top;\n",
              "    }\n",
              "\n",
              "    .dataframe thead th {\n",
              "        text-align: right;\n",
              "    }\n",
              "</style>\n",
              "<table border=\"1\" class=\"dataframe\">\n",
              "  <thead>\n",
              "    <tr style=\"text-align: right;\">\n",
              "      <th></th>\n",
              "      <th>Sr.No.</th>\n",
              "      <th>Name of Emp</th>\n",
              "      <th>Emp ID</th>\n",
              "      <th>Age</th>\n",
              "      <th>DOB</th>\n",
              "      <th>Salary</th>\n",
              "    </tr>\n",
              "  </thead>\n",
              "  <tbody>\n",
              "    <tr>\n",
              "      <th>0</th>\n",
              "      <td>1</td>\n",
              "      <td>vipul</td>\n",
              "      <td>101</td>\n",
              "      <td>18</td>\n",
              "      <td>2004-01-01</td>\n",
              "      <td>1500000</td>\n",
              "    </tr>\n",
              "    <tr>\n",
              "      <th>1</th>\n",
              "      <td>2</td>\n",
              "      <td>gaurav</td>\n",
              "      <td>102</td>\n",
              "      <td>18</td>\n",
              "      <td>2004-01-02</td>\n",
              "      <td>1500000</td>\n",
              "    </tr>\n",
              "    <tr>\n",
              "      <th>2</th>\n",
              "      <td>3</td>\n",
              "      <td>yaseen</td>\n",
              "      <td>103</td>\n",
              "      <td>18</td>\n",
              "      <td>2004-01-03</td>\n",
              "      <td>1200000</td>\n",
              "    </tr>\n",
              "    <tr>\n",
              "      <th>3</th>\n",
              "      <td>4</td>\n",
              "      <td>anish</td>\n",
              "      <td>104</td>\n",
              "      <td>18</td>\n",
              "      <td>2004-01-04</td>\n",
              "      <td>1300000</td>\n",
              "    </tr>\n",
              "    <tr>\n",
              "      <th>4</th>\n",
              "      <td>5</td>\n",
              "      <td>rohan</td>\n",
              "      <td>105</td>\n",
              "      <td>18</td>\n",
              "      <td>2004-01-05</td>\n",
              "      <td>1000000</td>\n",
              "    </tr>\n",
              "    <tr>\n",
              "      <th>5</th>\n",
              "      <td>6</td>\n",
              "      <td>gauri</td>\n",
              "      <td>106</td>\n",
              "      <td>18</td>\n",
              "      <td>2004-01-06</td>\n",
              "      <td>900000</td>\n",
              "    </tr>\n",
              "    <tr>\n",
              "      <th>6</th>\n",
              "      <td>7</td>\n",
              "      <td>shubham</td>\n",
              "      <td>107</td>\n",
              "      <td>18</td>\n",
              "      <td>2004-01-07</td>\n",
              "      <td>900000</td>\n",
              "    </tr>\n",
              "    <tr>\n",
              "      <th>7</th>\n",
              "      <td>8</td>\n",
              "      <td>akshay</td>\n",
              "      <td>108</td>\n",
              "      <td>18</td>\n",
              "      <td>2004-01-08</td>\n",
              "      <td>950000</td>\n",
              "    </tr>\n",
              "    <tr>\n",
              "      <th>8</th>\n",
              "      <td>9</td>\n",
              "      <td>punit</td>\n",
              "      <td>109</td>\n",
              "      <td>18</td>\n",
              "      <td>2004-01-09</td>\n",
              "      <td>1000000</td>\n",
              "    </tr>\n",
              "    <tr>\n",
              "      <th>9</th>\n",
              "      <td>10</td>\n",
              "      <td>sumedh</td>\n",
              "      <td>110</td>\n",
              "      <td>18</td>\n",
              "      <td>2004-01-10</td>\n",
              "      <td>950000</td>\n",
              "    </tr>\n",
              "    <tr>\n",
              "      <th>10</th>\n",
              "      <td>11</td>\n",
              "      <td>mayur</td>\n",
              "      <td>111</td>\n",
              "      <td>18</td>\n",
              "      <td>2004-01-11</td>\n",
              "      <td>800000</td>\n",
              "    </tr>\n",
              "    <tr>\n",
              "      <th>11</th>\n",
              "      <td>12</td>\n",
              "      <td>priyanka</td>\n",
              "      <td>112</td>\n",
              "      <td>18</td>\n",
              "      <td>2004-01-12</td>\n",
              "      <td>1000000</td>\n",
              "    </tr>\n",
              "    <tr>\n",
              "      <th>12</th>\n",
              "      <td>13</td>\n",
              "      <td>lukesh</td>\n",
              "      <td>113</td>\n",
              "      <td>18</td>\n",
              "      <td>2004-01-13</td>\n",
              "      <td>950000</td>\n",
              "    </tr>\n",
              "    <tr>\n",
              "      <th>13</th>\n",
              "      <td>14</td>\n",
              "      <td>prathamesh</td>\n",
              "      <td>114</td>\n",
              "      <td>18</td>\n",
              "      <td>2004-01-14</td>\n",
              "      <td>900000</td>\n",
              "    </tr>\n",
              "    <tr>\n",
              "      <th>14</th>\n",
              "      <td>15</td>\n",
              "      <td>prashant</td>\n",
              "      <td>115</td>\n",
              "      <td>18</td>\n",
              "      <td>2004-01-15</td>\n",
              "      <td>800000</td>\n",
              "    </tr>\n",
              "    <tr>\n",
              "      <th>15</th>\n",
              "      <td>16</td>\n",
              "      <td>janhavi</td>\n",
              "      <td>116</td>\n",
              "      <td>18</td>\n",
              "      <td>2004-01-16</td>\n",
              "      <td>1000000</td>\n",
              "    </tr>\n",
              "    <tr>\n",
              "      <th>16</th>\n",
              "      <td>17</td>\n",
              "      <td>om</td>\n",
              "      <td>117</td>\n",
              "      <td>18</td>\n",
              "      <td>2004-01-17</td>\n",
              "      <td>750000</td>\n",
              "    </tr>\n",
              "    <tr>\n",
              "      <th>17</th>\n",
              "      <td>18</td>\n",
              "      <td>ganesh</td>\n",
              "      <td>118</td>\n",
              "      <td>18</td>\n",
              "      <td>2004-01-18</td>\n",
              "      <td>750000</td>\n",
              "    </tr>\n",
              "    <tr>\n",
              "      <th>18</th>\n",
              "      <td>19</td>\n",
              "      <td>alvin</td>\n",
              "      <td>119</td>\n",
              "      <td>18</td>\n",
              "      <td>2004-01-19</td>\n",
              "      <td>1000000</td>\n",
              "    </tr>\n",
              "    <tr>\n",
              "      <th>19</th>\n",
              "      <td>20</td>\n",
              "      <td>arpan</td>\n",
              "      <td>120</td>\n",
              "      <td>18</td>\n",
              "      <td>2004-01-20</td>\n",
              "      <td>1050000</td>\n",
              "    </tr>\n",
              "  </tbody>\n",
              "</table>\n",
              "</div>\n",
              "      <button class=\"colab-df-convert\" onclick=\"convertToInteractive('df-e9210b61-22cd-4e59-868b-710d2200db3d')\"\n",
              "              title=\"Convert this dataframe to an interactive table.\"\n",
              "              style=\"display:none;\">\n",
              "        \n",
              "  <svg xmlns=\"http://www.w3.org/2000/svg\" height=\"24px\"viewBox=\"0 0 24 24\"\n",
              "       width=\"24px\">\n",
              "    <path d=\"M0 0h24v24H0V0z\" fill=\"none\"/>\n",
              "    <path d=\"M18.56 5.44l.94 2.06.94-2.06 2.06-.94-2.06-.94-.94-2.06-.94 2.06-2.06.94zm-11 1L8.5 8.5l.94-2.06 2.06-.94-2.06-.94L8.5 2.5l-.94 2.06-2.06.94zm10 10l.94 2.06.94-2.06 2.06-.94-2.06-.94-.94-2.06-.94 2.06-2.06.94z\"/><path d=\"M17.41 7.96l-1.37-1.37c-.4-.4-.92-.59-1.43-.59-.52 0-1.04.2-1.43.59L10.3 9.45l-7.72 7.72c-.78.78-.78 2.05 0 2.83L4 21.41c.39.39.9.59 1.41.59.51 0 1.02-.2 1.41-.59l7.78-7.78 2.81-2.81c.8-.78.8-2.07 0-2.86zM5.41 20L4 18.59l7.72-7.72 1.47 1.35L5.41 20z\"/>\n",
              "  </svg>\n",
              "      </button>\n",
              "      \n",
              "  <style>\n",
              "    .colab-df-container {\n",
              "      display:flex;\n",
              "      flex-wrap:wrap;\n",
              "      gap: 12px;\n",
              "    }\n",
              "\n",
              "    .colab-df-convert {\n",
              "      background-color: #E8F0FE;\n",
              "      border: none;\n",
              "      border-radius: 50%;\n",
              "      cursor: pointer;\n",
              "      display: none;\n",
              "      fill: #1967D2;\n",
              "      height: 32px;\n",
              "      padding: 0 0 0 0;\n",
              "      width: 32px;\n",
              "    }\n",
              "\n",
              "    .colab-df-convert:hover {\n",
              "      background-color: #E2EBFA;\n",
              "      box-shadow: 0px 1px 2px rgba(60, 64, 67, 0.3), 0px 1px 3px 1px rgba(60, 64, 67, 0.15);\n",
              "      fill: #174EA6;\n",
              "    }\n",
              "\n",
              "    [theme=dark] .colab-df-convert {\n",
              "      background-color: #3B4455;\n",
              "      fill: #D2E3FC;\n",
              "    }\n",
              "\n",
              "    [theme=dark] .colab-df-convert:hover {\n",
              "      background-color: #434B5C;\n",
              "      box-shadow: 0px 1px 3px 1px rgba(0, 0, 0, 0.15);\n",
              "      filter: drop-shadow(0px 1px 2px rgba(0, 0, 0, 0.3));\n",
              "      fill: #FFFFFF;\n",
              "    }\n",
              "  </style>\n",
              "\n",
              "      <script>\n",
              "        const buttonEl =\n",
              "          document.querySelector('#df-e9210b61-22cd-4e59-868b-710d2200db3d button.colab-df-convert');\n",
              "        buttonEl.style.display =\n",
              "          google.colab.kernel.accessAllowed ? 'block' : 'none';\n",
              "\n",
              "        async function convertToInteractive(key) {\n",
              "          const element = document.querySelector('#df-e9210b61-22cd-4e59-868b-710d2200db3d');\n",
              "          const dataTable =\n",
              "            await google.colab.kernel.invokeFunction('convertToInteractive',\n",
              "                                                     [key], {});\n",
              "          if (!dataTable) return;\n",
              "\n",
              "          const docLinkHtml = 'Like what you see? Visit the ' +\n",
              "            '<a target=\"_blank\" href=https://colab.research.google.com/notebooks/data_table.ipynb>data table notebook</a>'\n",
              "            + ' to learn more about interactive tables.';\n",
              "          element.innerHTML = '';\n",
              "          dataTable['output_type'] = 'display_data';\n",
              "          await google.colab.output.renderOutput(dataTable, element);\n",
              "          const docLink = document.createElement('div');\n",
              "          docLink.innerHTML = docLinkHtml;\n",
              "          element.appendChild(docLink);\n",
              "        }\n",
              "      </script>\n",
              "    </div>\n",
              "  </div>\n",
              "  "
            ]
          },
          "metadata": {},
          "execution_count": 45
        }
      ]
    },
    {
      "cell_type": "code",
      "source": [
        "#display data set\n",
        "display(df, df1)"
      ],
      "metadata": {
        "id": "_r9RJ2beUX5H",
        "colab": {
          "base_uri": "https://localhost:8080/",
          "height": 1000
        },
        "outputId": "bce3827f-791c-4c30-f48d-28c5f89cfba7"
      },
      "execution_count": 46,
      "outputs": [
        {
          "output_type": "display_data",
          "data": {
            "text/plain": [
              "    Sr.No. Name of Emp  Emp ID  Age        DOB\n",
              "0        1       vipul     101   18 2004-01-01\n",
              "1        2      gaurav     102   18 2004-01-02\n",
              "2        3      yaseen     103   18 2004-01-03\n",
              "3        4       anish     104   18 2004-01-04\n",
              "4        5       rohan     105   18 2004-01-05\n",
              "5        6       gauri     106   18 2004-01-06\n",
              "6        7     shubham     107   18 2004-01-07\n",
              "7        8      akshay     108   18 2004-01-08\n",
              "8        9       punit     109   18 2004-01-09\n",
              "9       10      sumedh     110   18 2004-01-10\n",
              "10      11       mayur     111   18 2004-01-11\n",
              "11      12    priyanka     112   18 2004-01-12\n",
              "12      13      lukesh     113   18 2004-01-13\n",
              "13      14  prathamesh     114   18 2004-01-14\n",
              "14      15    prashant     115   18 2004-01-15\n",
              "15      16     janhavi     116   18 2004-01-16\n",
              "16      17          om     117   18 2004-01-17\n",
              "17      18      ganesh     118   18 2004-01-18\n",
              "18      19       alvin     119   18 2004-01-19\n",
              "19      20       arpan     120   18 2004-01-20"
            ],
            "text/html": [
              "\n",
              "  <div id=\"df-9997396e-bd86-4022-a7c2-4848cb3ca192\">\n",
              "    <div class=\"colab-df-container\">\n",
              "      <div>\n",
              "<style scoped>\n",
              "    .dataframe tbody tr th:only-of-type {\n",
              "        vertical-align: middle;\n",
              "    }\n",
              "\n",
              "    .dataframe tbody tr th {\n",
              "        vertical-align: top;\n",
              "    }\n",
              "\n",
              "    .dataframe thead th {\n",
              "        text-align: right;\n",
              "    }\n",
              "</style>\n",
              "<table border=\"1\" class=\"dataframe\">\n",
              "  <thead>\n",
              "    <tr style=\"text-align: right;\">\n",
              "      <th></th>\n",
              "      <th>Sr.No.</th>\n",
              "      <th>Name of Emp</th>\n",
              "      <th>Emp ID</th>\n",
              "      <th>Age</th>\n",
              "      <th>DOB</th>\n",
              "    </tr>\n",
              "  </thead>\n",
              "  <tbody>\n",
              "    <tr>\n",
              "      <th>0</th>\n",
              "      <td>1</td>\n",
              "      <td>vipul</td>\n",
              "      <td>101</td>\n",
              "      <td>18</td>\n",
              "      <td>2004-01-01</td>\n",
              "    </tr>\n",
              "    <tr>\n",
              "      <th>1</th>\n",
              "      <td>2</td>\n",
              "      <td>gaurav</td>\n",
              "      <td>102</td>\n",
              "      <td>18</td>\n",
              "      <td>2004-01-02</td>\n",
              "    </tr>\n",
              "    <tr>\n",
              "      <th>2</th>\n",
              "      <td>3</td>\n",
              "      <td>yaseen</td>\n",
              "      <td>103</td>\n",
              "      <td>18</td>\n",
              "      <td>2004-01-03</td>\n",
              "    </tr>\n",
              "    <tr>\n",
              "      <th>3</th>\n",
              "      <td>4</td>\n",
              "      <td>anish</td>\n",
              "      <td>104</td>\n",
              "      <td>18</td>\n",
              "      <td>2004-01-04</td>\n",
              "    </tr>\n",
              "    <tr>\n",
              "      <th>4</th>\n",
              "      <td>5</td>\n",
              "      <td>rohan</td>\n",
              "      <td>105</td>\n",
              "      <td>18</td>\n",
              "      <td>2004-01-05</td>\n",
              "    </tr>\n",
              "    <tr>\n",
              "      <th>5</th>\n",
              "      <td>6</td>\n",
              "      <td>gauri</td>\n",
              "      <td>106</td>\n",
              "      <td>18</td>\n",
              "      <td>2004-01-06</td>\n",
              "    </tr>\n",
              "    <tr>\n",
              "      <th>6</th>\n",
              "      <td>7</td>\n",
              "      <td>shubham</td>\n",
              "      <td>107</td>\n",
              "      <td>18</td>\n",
              "      <td>2004-01-07</td>\n",
              "    </tr>\n",
              "    <tr>\n",
              "      <th>7</th>\n",
              "      <td>8</td>\n",
              "      <td>akshay</td>\n",
              "      <td>108</td>\n",
              "      <td>18</td>\n",
              "      <td>2004-01-08</td>\n",
              "    </tr>\n",
              "    <tr>\n",
              "      <th>8</th>\n",
              "      <td>9</td>\n",
              "      <td>punit</td>\n",
              "      <td>109</td>\n",
              "      <td>18</td>\n",
              "      <td>2004-01-09</td>\n",
              "    </tr>\n",
              "    <tr>\n",
              "      <th>9</th>\n",
              "      <td>10</td>\n",
              "      <td>sumedh</td>\n",
              "      <td>110</td>\n",
              "      <td>18</td>\n",
              "      <td>2004-01-10</td>\n",
              "    </tr>\n",
              "    <tr>\n",
              "      <th>10</th>\n",
              "      <td>11</td>\n",
              "      <td>mayur</td>\n",
              "      <td>111</td>\n",
              "      <td>18</td>\n",
              "      <td>2004-01-11</td>\n",
              "    </tr>\n",
              "    <tr>\n",
              "      <th>11</th>\n",
              "      <td>12</td>\n",
              "      <td>priyanka</td>\n",
              "      <td>112</td>\n",
              "      <td>18</td>\n",
              "      <td>2004-01-12</td>\n",
              "    </tr>\n",
              "    <tr>\n",
              "      <th>12</th>\n",
              "      <td>13</td>\n",
              "      <td>lukesh</td>\n",
              "      <td>113</td>\n",
              "      <td>18</td>\n",
              "      <td>2004-01-13</td>\n",
              "    </tr>\n",
              "    <tr>\n",
              "      <th>13</th>\n",
              "      <td>14</td>\n",
              "      <td>prathamesh</td>\n",
              "      <td>114</td>\n",
              "      <td>18</td>\n",
              "      <td>2004-01-14</td>\n",
              "    </tr>\n",
              "    <tr>\n",
              "      <th>14</th>\n",
              "      <td>15</td>\n",
              "      <td>prashant</td>\n",
              "      <td>115</td>\n",
              "      <td>18</td>\n",
              "      <td>2004-01-15</td>\n",
              "    </tr>\n",
              "    <tr>\n",
              "      <th>15</th>\n",
              "      <td>16</td>\n",
              "      <td>janhavi</td>\n",
              "      <td>116</td>\n",
              "      <td>18</td>\n",
              "      <td>2004-01-16</td>\n",
              "    </tr>\n",
              "    <tr>\n",
              "      <th>16</th>\n",
              "      <td>17</td>\n",
              "      <td>om</td>\n",
              "      <td>117</td>\n",
              "      <td>18</td>\n",
              "      <td>2004-01-17</td>\n",
              "    </tr>\n",
              "    <tr>\n",
              "      <th>17</th>\n",
              "      <td>18</td>\n",
              "      <td>ganesh</td>\n",
              "      <td>118</td>\n",
              "      <td>18</td>\n",
              "      <td>2004-01-18</td>\n",
              "    </tr>\n",
              "    <tr>\n",
              "      <th>18</th>\n",
              "      <td>19</td>\n",
              "      <td>alvin</td>\n",
              "      <td>119</td>\n",
              "      <td>18</td>\n",
              "      <td>2004-01-19</td>\n",
              "    </tr>\n",
              "    <tr>\n",
              "      <th>19</th>\n",
              "      <td>20</td>\n",
              "      <td>arpan</td>\n",
              "      <td>120</td>\n",
              "      <td>18</td>\n",
              "      <td>2004-01-20</td>\n",
              "    </tr>\n",
              "  </tbody>\n",
              "</table>\n",
              "</div>\n",
              "      <button class=\"colab-df-convert\" onclick=\"convertToInteractive('df-9997396e-bd86-4022-a7c2-4848cb3ca192')\"\n",
              "              title=\"Convert this dataframe to an interactive table.\"\n",
              "              style=\"display:none;\">\n",
              "        \n",
              "  <svg xmlns=\"http://www.w3.org/2000/svg\" height=\"24px\"viewBox=\"0 0 24 24\"\n",
              "       width=\"24px\">\n",
              "    <path d=\"M0 0h24v24H0V0z\" fill=\"none\"/>\n",
              "    <path d=\"M18.56 5.44l.94 2.06.94-2.06 2.06-.94-2.06-.94-.94-2.06-.94 2.06-2.06.94zm-11 1L8.5 8.5l.94-2.06 2.06-.94-2.06-.94L8.5 2.5l-.94 2.06-2.06.94zm10 10l.94 2.06.94-2.06 2.06-.94-2.06-.94-.94-2.06-.94 2.06-2.06.94z\"/><path d=\"M17.41 7.96l-1.37-1.37c-.4-.4-.92-.59-1.43-.59-.52 0-1.04.2-1.43.59L10.3 9.45l-7.72 7.72c-.78.78-.78 2.05 0 2.83L4 21.41c.39.39.9.59 1.41.59.51 0 1.02-.2 1.41-.59l7.78-7.78 2.81-2.81c.8-.78.8-2.07 0-2.86zM5.41 20L4 18.59l7.72-7.72 1.47 1.35L5.41 20z\"/>\n",
              "  </svg>\n",
              "      </button>\n",
              "      \n",
              "  <style>\n",
              "    .colab-df-container {\n",
              "      display:flex;\n",
              "      flex-wrap:wrap;\n",
              "      gap: 12px;\n",
              "    }\n",
              "\n",
              "    .colab-df-convert {\n",
              "      background-color: #E8F0FE;\n",
              "      border: none;\n",
              "      border-radius: 50%;\n",
              "      cursor: pointer;\n",
              "      display: none;\n",
              "      fill: #1967D2;\n",
              "      height: 32px;\n",
              "      padding: 0 0 0 0;\n",
              "      width: 32px;\n",
              "    }\n",
              "\n",
              "    .colab-df-convert:hover {\n",
              "      background-color: #E2EBFA;\n",
              "      box-shadow: 0px 1px 2px rgba(60, 64, 67, 0.3), 0px 1px 3px 1px rgba(60, 64, 67, 0.15);\n",
              "      fill: #174EA6;\n",
              "    }\n",
              "\n",
              "    [theme=dark] .colab-df-convert {\n",
              "      background-color: #3B4455;\n",
              "      fill: #D2E3FC;\n",
              "    }\n",
              "\n",
              "    [theme=dark] .colab-df-convert:hover {\n",
              "      background-color: #434B5C;\n",
              "      box-shadow: 0px 1px 3px 1px rgba(0, 0, 0, 0.15);\n",
              "      filter: drop-shadow(0px 1px 2px rgba(0, 0, 0, 0.3));\n",
              "      fill: #FFFFFF;\n",
              "    }\n",
              "  </style>\n",
              "\n",
              "      <script>\n",
              "        const buttonEl =\n",
              "          document.querySelector('#df-9997396e-bd86-4022-a7c2-4848cb3ca192 button.colab-df-convert');\n",
              "        buttonEl.style.display =\n",
              "          google.colab.kernel.accessAllowed ? 'block' : 'none';\n",
              "\n",
              "        async function convertToInteractive(key) {\n",
              "          const element = document.querySelector('#df-9997396e-bd86-4022-a7c2-4848cb3ca192');\n",
              "          const dataTable =\n",
              "            await google.colab.kernel.invokeFunction('convertToInteractive',\n",
              "                                                     [key], {});\n",
              "          if (!dataTable) return;\n",
              "\n",
              "          const docLinkHtml = 'Like what you see? Visit the ' +\n",
              "            '<a target=\"_blank\" href=https://colab.research.google.com/notebooks/data_table.ipynb>data table notebook</a>'\n",
              "            + ' to learn more about interactive tables.';\n",
              "          element.innerHTML = '';\n",
              "          dataTable['output_type'] = 'display_data';\n",
              "          await google.colab.output.renderOutput(dataTable, element);\n",
              "          const docLink = document.createElement('div');\n",
              "          docLink.innerHTML = docLinkHtml;\n",
              "          element.appendChild(docLink);\n",
              "        }\n",
              "      </script>\n",
              "    </div>\n",
              "  </div>\n",
              "  "
            ]
          },
          "metadata": {}
        },
        {
          "output_type": "display_data",
          "data": {
            "text/plain": [
              "    Sr.No. Name of Emp  Emp ID   Salary\n",
              "0        1       vipul     101  1500000\n",
              "1        2      gaurav     102  1500000\n",
              "2        3      yaseen     103  1200000\n",
              "3        4       anish     104  1300000\n",
              "4        5       rohan     105  1000000\n",
              "5        6       gauri     106   900000\n",
              "6        7     shubham     107   900000\n",
              "7        8      akshay     108   950000\n",
              "8        9       punit     109  1000000\n",
              "9       10      sumedh     110   950000\n",
              "10      11       mayur     111   800000\n",
              "11      12    priyanka     112  1000000\n",
              "12      13      lukesh     113   950000\n",
              "13      14  prathamesh     114   900000\n",
              "14      15    prashant     115   800000\n",
              "15      16     janhavi     116  1000000\n",
              "16      17          om     117   750000\n",
              "17      18      ganesh     118   750000\n",
              "18      19       alvin     119  1000000\n",
              "19      20       arpan     120  1050000"
            ],
            "text/html": [
              "\n",
              "  <div id=\"df-392104f0-7cd2-4a12-97bf-b04fadbf2372\">\n",
              "    <div class=\"colab-df-container\">\n",
              "      <div>\n",
              "<style scoped>\n",
              "    .dataframe tbody tr th:only-of-type {\n",
              "        vertical-align: middle;\n",
              "    }\n",
              "\n",
              "    .dataframe tbody tr th {\n",
              "        vertical-align: top;\n",
              "    }\n",
              "\n",
              "    .dataframe thead th {\n",
              "        text-align: right;\n",
              "    }\n",
              "</style>\n",
              "<table border=\"1\" class=\"dataframe\">\n",
              "  <thead>\n",
              "    <tr style=\"text-align: right;\">\n",
              "      <th></th>\n",
              "      <th>Sr.No.</th>\n",
              "      <th>Name of Emp</th>\n",
              "      <th>Emp ID</th>\n",
              "      <th>Salary</th>\n",
              "    </tr>\n",
              "  </thead>\n",
              "  <tbody>\n",
              "    <tr>\n",
              "      <th>0</th>\n",
              "      <td>1</td>\n",
              "      <td>vipul</td>\n",
              "      <td>101</td>\n",
              "      <td>1500000</td>\n",
              "    </tr>\n",
              "    <tr>\n",
              "      <th>1</th>\n",
              "      <td>2</td>\n",
              "      <td>gaurav</td>\n",
              "      <td>102</td>\n",
              "      <td>1500000</td>\n",
              "    </tr>\n",
              "    <tr>\n",
              "      <th>2</th>\n",
              "      <td>3</td>\n",
              "      <td>yaseen</td>\n",
              "      <td>103</td>\n",
              "      <td>1200000</td>\n",
              "    </tr>\n",
              "    <tr>\n",
              "      <th>3</th>\n",
              "      <td>4</td>\n",
              "      <td>anish</td>\n",
              "      <td>104</td>\n",
              "      <td>1300000</td>\n",
              "    </tr>\n",
              "    <tr>\n",
              "      <th>4</th>\n",
              "      <td>5</td>\n",
              "      <td>rohan</td>\n",
              "      <td>105</td>\n",
              "      <td>1000000</td>\n",
              "    </tr>\n",
              "    <tr>\n",
              "      <th>5</th>\n",
              "      <td>6</td>\n",
              "      <td>gauri</td>\n",
              "      <td>106</td>\n",
              "      <td>900000</td>\n",
              "    </tr>\n",
              "    <tr>\n",
              "      <th>6</th>\n",
              "      <td>7</td>\n",
              "      <td>shubham</td>\n",
              "      <td>107</td>\n",
              "      <td>900000</td>\n",
              "    </tr>\n",
              "    <tr>\n",
              "      <th>7</th>\n",
              "      <td>8</td>\n",
              "      <td>akshay</td>\n",
              "      <td>108</td>\n",
              "      <td>950000</td>\n",
              "    </tr>\n",
              "    <tr>\n",
              "      <th>8</th>\n",
              "      <td>9</td>\n",
              "      <td>punit</td>\n",
              "      <td>109</td>\n",
              "      <td>1000000</td>\n",
              "    </tr>\n",
              "    <tr>\n",
              "      <th>9</th>\n",
              "      <td>10</td>\n",
              "      <td>sumedh</td>\n",
              "      <td>110</td>\n",
              "      <td>950000</td>\n",
              "    </tr>\n",
              "    <tr>\n",
              "      <th>10</th>\n",
              "      <td>11</td>\n",
              "      <td>mayur</td>\n",
              "      <td>111</td>\n",
              "      <td>800000</td>\n",
              "    </tr>\n",
              "    <tr>\n",
              "      <th>11</th>\n",
              "      <td>12</td>\n",
              "      <td>priyanka</td>\n",
              "      <td>112</td>\n",
              "      <td>1000000</td>\n",
              "    </tr>\n",
              "    <tr>\n",
              "      <th>12</th>\n",
              "      <td>13</td>\n",
              "      <td>lukesh</td>\n",
              "      <td>113</td>\n",
              "      <td>950000</td>\n",
              "    </tr>\n",
              "    <tr>\n",
              "      <th>13</th>\n",
              "      <td>14</td>\n",
              "      <td>prathamesh</td>\n",
              "      <td>114</td>\n",
              "      <td>900000</td>\n",
              "    </tr>\n",
              "    <tr>\n",
              "      <th>14</th>\n",
              "      <td>15</td>\n",
              "      <td>prashant</td>\n",
              "      <td>115</td>\n",
              "      <td>800000</td>\n",
              "    </tr>\n",
              "    <tr>\n",
              "      <th>15</th>\n",
              "      <td>16</td>\n",
              "      <td>janhavi</td>\n",
              "      <td>116</td>\n",
              "      <td>1000000</td>\n",
              "    </tr>\n",
              "    <tr>\n",
              "      <th>16</th>\n",
              "      <td>17</td>\n",
              "      <td>om</td>\n",
              "      <td>117</td>\n",
              "      <td>750000</td>\n",
              "    </tr>\n",
              "    <tr>\n",
              "      <th>17</th>\n",
              "      <td>18</td>\n",
              "      <td>ganesh</td>\n",
              "      <td>118</td>\n",
              "      <td>750000</td>\n",
              "    </tr>\n",
              "    <tr>\n",
              "      <th>18</th>\n",
              "      <td>19</td>\n",
              "      <td>alvin</td>\n",
              "      <td>119</td>\n",
              "      <td>1000000</td>\n",
              "    </tr>\n",
              "    <tr>\n",
              "      <th>19</th>\n",
              "      <td>20</td>\n",
              "      <td>arpan</td>\n",
              "      <td>120</td>\n",
              "      <td>1050000</td>\n",
              "    </tr>\n",
              "  </tbody>\n",
              "</table>\n",
              "</div>\n",
              "      <button class=\"colab-df-convert\" onclick=\"convertToInteractive('df-392104f0-7cd2-4a12-97bf-b04fadbf2372')\"\n",
              "              title=\"Convert this dataframe to an interactive table.\"\n",
              "              style=\"display:none;\">\n",
              "        \n",
              "  <svg xmlns=\"http://www.w3.org/2000/svg\" height=\"24px\"viewBox=\"0 0 24 24\"\n",
              "       width=\"24px\">\n",
              "    <path d=\"M0 0h24v24H0V0z\" fill=\"none\"/>\n",
              "    <path d=\"M18.56 5.44l.94 2.06.94-2.06 2.06-.94-2.06-.94-.94-2.06-.94 2.06-2.06.94zm-11 1L8.5 8.5l.94-2.06 2.06-.94-2.06-.94L8.5 2.5l-.94 2.06-2.06.94zm10 10l.94 2.06.94-2.06 2.06-.94-2.06-.94-.94-2.06-.94 2.06-2.06.94z\"/><path d=\"M17.41 7.96l-1.37-1.37c-.4-.4-.92-.59-1.43-.59-.52 0-1.04.2-1.43.59L10.3 9.45l-7.72 7.72c-.78.78-.78 2.05 0 2.83L4 21.41c.39.39.9.59 1.41.59.51 0 1.02-.2 1.41-.59l7.78-7.78 2.81-2.81c.8-.78.8-2.07 0-2.86zM5.41 20L4 18.59l7.72-7.72 1.47 1.35L5.41 20z\"/>\n",
              "  </svg>\n",
              "      </button>\n",
              "      \n",
              "  <style>\n",
              "    .colab-df-container {\n",
              "      display:flex;\n",
              "      flex-wrap:wrap;\n",
              "      gap: 12px;\n",
              "    }\n",
              "\n",
              "    .colab-df-convert {\n",
              "      background-color: #E8F0FE;\n",
              "      border: none;\n",
              "      border-radius: 50%;\n",
              "      cursor: pointer;\n",
              "      display: none;\n",
              "      fill: #1967D2;\n",
              "      height: 32px;\n",
              "      padding: 0 0 0 0;\n",
              "      width: 32px;\n",
              "    }\n",
              "\n",
              "    .colab-df-convert:hover {\n",
              "      background-color: #E2EBFA;\n",
              "      box-shadow: 0px 1px 2px rgba(60, 64, 67, 0.3), 0px 1px 3px 1px rgba(60, 64, 67, 0.15);\n",
              "      fill: #174EA6;\n",
              "    }\n",
              "\n",
              "    [theme=dark] .colab-df-convert {\n",
              "      background-color: #3B4455;\n",
              "      fill: #D2E3FC;\n",
              "    }\n",
              "\n",
              "    [theme=dark] .colab-df-convert:hover {\n",
              "      background-color: #434B5C;\n",
              "      box-shadow: 0px 1px 3px 1px rgba(0, 0, 0, 0.15);\n",
              "      filter: drop-shadow(0px 1px 2px rgba(0, 0, 0, 0.3));\n",
              "      fill: #FFFFFF;\n",
              "    }\n",
              "  </style>\n",
              "\n",
              "      <script>\n",
              "        const buttonEl =\n",
              "          document.querySelector('#df-392104f0-7cd2-4a12-97bf-b04fadbf2372 button.colab-df-convert');\n",
              "        buttonEl.style.display =\n",
              "          google.colab.kernel.accessAllowed ? 'block' : 'none';\n",
              "\n",
              "        async function convertToInteractive(key) {\n",
              "          const element = document.querySelector('#df-392104f0-7cd2-4a12-97bf-b04fadbf2372');\n",
              "          const dataTable =\n",
              "            await google.colab.kernel.invokeFunction('convertToInteractive',\n",
              "                                                     [key], {});\n",
              "          if (!dataTable) return;\n",
              "\n",
              "          const docLinkHtml = 'Like what you see? Visit the ' +\n",
              "            '<a target=\"_blank\" href=https://colab.research.google.com/notebooks/data_table.ipynb>data table notebook</a>'\n",
              "            + ' to learn more about interactive tables.';\n",
              "          element.innerHTML = '';\n",
              "          dataTable['output_type'] = 'display_data';\n",
              "          await google.colab.output.renderOutput(dataTable, element);\n",
              "          const docLink = document.createElement('div');\n",
              "          docLink.innerHTML = docLinkHtml;\n",
              "          element.appendChild(docLink);\n",
              "        }\n",
              "      </script>\n",
              "    </div>\n",
              "  </div>\n",
              "  "
            ]
          },
          "metadata": {}
        }
      ]
    },
    {
      "cell_type": "code",
      "source": [
        "#merge data sets\n",
        "import pandas as pd\n",
        "a = pd.merge(df, df1)\n",
        "display(a)"
      ],
      "metadata": {
        "colab": {
          "base_uri": "https://localhost:8080/",
          "height": 676
        },
        "id": "KfRgnL3HXhUU",
        "outputId": "d9d27306-f388-4121-f176-339d7b7c65f7"
      },
      "execution_count": 47,
      "outputs": [
        {
          "output_type": "display_data",
          "data": {
            "text/plain": [
              "    Sr.No. Name of Emp  Emp ID  Age        DOB   Salary\n",
              "0        1       vipul     101   18 2004-01-01  1500000\n",
              "1        2      gaurav     102   18 2004-01-02  1500000\n",
              "2        3      yaseen     103   18 2004-01-03  1200000\n",
              "3        4       anish     104   18 2004-01-04  1300000\n",
              "4        5       rohan     105   18 2004-01-05  1000000\n",
              "5        6       gauri     106   18 2004-01-06   900000\n",
              "6        7     shubham     107   18 2004-01-07   900000\n",
              "7        8      akshay     108   18 2004-01-08   950000\n",
              "8        9       punit     109   18 2004-01-09  1000000\n",
              "9       10      sumedh     110   18 2004-01-10   950000\n",
              "10      11       mayur     111   18 2004-01-11   800000\n",
              "11      12    priyanka     112   18 2004-01-12  1000000\n",
              "12      13      lukesh     113   18 2004-01-13   950000\n",
              "13      14  prathamesh     114   18 2004-01-14   900000\n",
              "14      15    prashant     115   18 2004-01-15   800000\n",
              "15      16     janhavi     116   18 2004-01-16  1000000\n",
              "16      17          om     117   18 2004-01-17   750000\n",
              "17      18      ganesh     118   18 2004-01-18   750000\n",
              "18      19       alvin     119   18 2004-01-19  1000000\n",
              "19      20       arpan     120   18 2004-01-20  1050000"
            ],
            "text/html": [
              "\n",
              "  <div id=\"df-d96f6d39-d3e5-46b5-8c42-124aa6887105\">\n",
              "    <div class=\"colab-df-container\">\n",
              "      <div>\n",
              "<style scoped>\n",
              "    .dataframe tbody tr th:only-of-type {\n",
              "        vertical-align: middle;\n",
              "    }\n",
              "\n",
              "    .dataframe tbody tr th {\n",
              "        vertical-align: top;\n",
              "    }\n",
              "\n",
              "    .dataframe thead th {\n",
              "        text-align: right;\n",
              "    }\n",
              "</style>\n",
              "<table border=\"1\" class=\"dataframe\">\n",
              "  <thead>\n",
              "    <tr style=\"text-align: right;\">\n",
              "      <th></th>\n",
              "      <th>Sr.No.</th>\n",
              "      <th>Name of Emp</th>\n",
              "      <th>Emp ID</th>\n",
              "      <th>Age</th>\n",
              "      <th>DOB</th>\n",
              "      <th>Salary</th>\n",
              "    </tr>\n",
              "  </thead>\n",
              "  <tbody>\n",
              "    <tr>\n",
              "      <th>0</th>\n",
              "      <td>1</td>\n",
              "      <td>vipul</td>\n",
              "      <td>101</td>\n",
              "      <td>18</td>\n",
              "      <td>2004-01-01</td>\n",
              "      <td>1500000</td>\n",
              "    </tr>\n",
              "    <tr>\n",
              "      <th>1</th>\n",
              "      <td>2</td>\n",
              "      <td>gaurav</td>\n",
              "      <td>102</td>\n",
              "      <td>18</td>\n",
              "      <td>2004-01-02</td>\n",
              "      <td>1500000</td>\n",
              "    </tr>\n",
              "    <tr>\n",
              "      <th>2</th>\n",
              "      <td>3</td>\n",
              "      <td>yaseen</td>\n",
              "      <td>103</td>\n",
              "      <td>18</td>\n",
              "      <td>2004-01-03</td>\n",
              "      <td>1200000</td>\n",
              "    </tr>\n",
              "    <tr>\n",
              "      <th>3</th>\n",
              "      <td>4</td>\n",
              "      <td>anish</td>\n",
              "      <td>104</td>\n",
              "      <td>18</td>\n",
              "      <td>2004-01-04</td>\n",
              "      <td>1300000</td>\n",
              "    </tr>\n",
              "    <tr>\n",
              "      <th>4</th>\n",
              "      <td>5</td>\n",
              "      <td>rohan</td>\n",
              "      <td>105</td>\n",
              "      <td>18</td>\n",
              "      <td>2004-01-05</td>\n",
              "      <td>1000000</td>\n",
              "    </tr>\n",
              "    <tr>\n",
              "      <th>5</th>\n",
              "      <td>6</td>\n",
              "      <td>gauri</td>\n",
              "      <td>106</td>\n",
              "      <td>18</td>\n",
              "      <td>2004-01-06</td>\n",
              "      <td>900000</td>\n",
              "    </tr>\n",
              "    <tr>\n",
              "      <th>6</th>\n",
              "      <td>7</td>\n",
              "      <td>shubham</td>\n",
              "      <td>107</td>\n",
              "      <td>18</td>\n",
              "      <td>2004-01-07</td>\n",
              "      <td>900000</td>\n",
              "    </tr>\n",
              "    <tr>\n",
              "      <th>7</th>\n",
              "      <td>8</td>\n",
              "      <td>akshay</td>\n",
              "      <td>108</td>\n",
              "      <td>18</td>\n",
              "      <td>2004-01-08</td>\n",
              "      <td>950000</td>\n",
              "    </tr>\n",
              "    <tr>\n",
              "      <th>8</th>\n",
              "      <td>9</td>\n",
              "      <td>punit</td>\n",
              "      <td>109</td>\n",
              "      <td>18</td>\n",
              "      <td>2004-01-09</td>\n",
              "      <td>1000000</td>\n",
              "    </tr>\n",
              "    <tr>\n",
              "      <th>9</th>\n",
              "      <td>10</td>\n",
              "      <td>sumedh</td>\n",
              "      <td>110</td>\n",
              "      <td>18</td>\n",
              "      <td>2004-01-10</td>\n",
              "      <td>950000</td>\n",
              "    </tr>\n",
              "    <tr>\n",
              "      <th>10</th>\n",
              "      <td>11</td>\n",
              "      <td>mayur</td>\n",
              "      <td>111</td>\n",
              "      <td>18</td>\n",
              "      <td>2004-01-11</td>\n",
              "      <td>800000</td>\n",
              "    </tr>\n",
              "    <tr>\n",
              "      <th>11</th>\n",
              "      <td>12</td>\n",
              "      <td>priyanka</td>\n",
              "      <td>112</td>\n",
              "      <td>18</td>\n",
              "      <td>2004-01-12</td>\n",
              "      <td>1000000</td>\n",
              "    </tr>\n",
              "    <tr>\n",
              "      <th>12</th>\n",
              "      <td>13</td>\n",
              "      <td>lukesh</td>\n",
              "      <td>113</td>\n",
              "      <td>18</td>\n",
              "      <td>2004-01-13</td>\n",
              "      <td>950000</td>\n",
              "    </tr>\n",
              "    <tr>\n",
              "      <th>13</th>\n",
              "      <td>14</td>\n",
              "      <td>prathamesh</td>\n",
              "      <td>114</td>\n",
              "      <td>18</td>\n",
              "      <td>2004-01-14</td>\n",
              "      <td>900000</td>\n",
              "    </tr>\n",
              "    <tr>\n",
              "      <th>14</th>\n",
              "      <td>15</td>\n",
              "      <td>prashant</td>\n",
              "      <td>115</td>\n",
              "      <td>18</td>\n",
              "      <td>2004-01-15</td>\n",
              "      <td>800000</td>\n",
              "    </tr>\n",
              "    <tr>\n",
              "      <th>15</th>\n",
              "      <td>16</td>\n",
              "      <td>janhavi</td>\n",
              "      <td>116</td>\n",
              "      <td>18</td>\n",
              "      <td>2004-01-16</td>\n",
              "      <td>1000000</td>\n",
              "    </tr>\n",
              "    <tr>\n",
              "      <th>16</th>\n",
              "      <td>17</td>\n",
              "      <td>om</td>\n",
              "      <td>117</td>\n",
              "      <td>18</td>\n",
              "      <td>2004-01-17</td>\n",
              "      <td>750000</td>\n",
              "    </tr>\n",
              "    <tr>\n",
              "      <th>17</th>\n",
              "      <td>18</td>\n",
              "      <td>ganesh</td>\n",
              "      <td>118</td>\n",
              "      <td>18</td>\n",
              "      <td>2004-01-18</td>\n",
              "      <td>750000</td>\n",
              "    </tr>\n",
              "    <tr>\n",
              "      <th>18</th>\n",
              "      <td>19</td>\n",
              "      <td>alvin</td>\n",
              "      <td>119</td>\n",
              "      <td>18</td>\n",
              "      <td>2004-01-19</td>\n",
              "      <td>1000000</td>\n",
              "    </tr>\n",
              "    <tr>\n",
              "      <th>19</th>\n",
              "      <td>20</td>\n",
              "      <td>arpan</td>\n",
              "      <td>120</td>\n",
              "      <td>18</td>\n",
              "      <td>2004-01-20</td>\n",
              "      <td>1050000</td>\n",
              "    </tr>\n",
              "  </tbody>\n",
              "</table>\n",
              "</div>\n",
              "      <button class=\"colab-df-convert\" onclick=\"convertToInteractive('df-d96f6d39-d3e5-46b5-8c42-124aa6887105')\"\n",
              "              title=\"Convert this dataframe to an interactive table.\"\n",
              "              style=\"display:none;\">\n",
              "        \n",
              "  <svg xmlns=\"http://www.w3.org/2000/svg\" height=\"24px\"viewBox=\"0 0 24 24\"\n",
              "       width=\"24px\">\n",
              "    <path d=\"M0 0h24v24H0V0z\" fill=\"none\"/>\n",
              "    <path d=\"M18.56 5.44l.94 2.06.94-2.06 2.06-.94-2.06-.94-.94-2.06-.94 2.06-2.06.94zm-11 1L8.5 8.5l.94-2.06 2.06-.94-2.06-.94L8.5 2.5l-.94 2.06-2.06.94zm10 10l.94 2.06.94-2.06 2.06-.94-2.06-.94-.94-2.06-.94 2.06-2.06.94z\"/><path d=\"M17.41 7.96l-1.37-1.37c-.4-.4-.92-.59-1.43-.59-.52 0-1.04.2-1.43.59L10.3 9.45l-7.72 7.72c-.78.78-.78 2.05 0 2.83L4 21.41c.39.39.9.59 1.41.59.51 0 1.02-.2 1.41-.59l7.78-7.78 2.81-2.81c.8-.78.8-2.07 0-2.86zM5.41 20L4 18.59l7.72-7.72 1.47 1.35L5.41 20z\"/>\n",
              "  </svg>\n",
              "      </button>\n",
              "      \n",
              "  <style>\n",
              "    .colab-df-container {\n",
              "      display:flex;\n",
              "      flex-wrap:wrap;\n",
              "      gap: 12px;\n",
              "    }\n",
              "\n",
              "    .colab-df-convert {\n",
              "      background-color: #E8F0FE;\n",
              "      border: none;\n",
              "      border-radius: 50%;\n",
              "      cursor: pointer;\n",
              "      display: none;\n",
              "      fill: #1967D2;\n",
              "      height: 32px;\n",
              "      padding: 0 0 0 0;\n",
              "      width: 32px;\n",
              "    }\n",
              "\n",
              "    .colab-df-convert:hover {\n",
              "      background-color: #E2EBFA;\n",
              "      box-shadow: 0px 1px 2px rgba(60, 64, 67, 0.3), 0px 1px 3px 1px rgba(60, 64, 67, 0.15);\n",
              "      fill: #174EA6;\n",
              "    }\n",
              "\n",
              "    [theme=dark] .colab-df-convert {\n",
              "      background-color: #3B4455;\n",
              "      fill: #D2E3FC;\n",
              "    }\n",
              "\n",
              "    [theme=dark] .colab-df-convert:hover {\n",
              "      background-color: #434B5C;\n",
              "      box-shadow: 0px 1px 3px 1px rgba(0, 0, 0, 0.15);\n",
              "      filter: drop-shadow(0px 1px 2px rgba(0, 0, 0, 0.3));\n",
              "      fill: #FFFFFF;\n",
              "    }\n",
              "  </style>\n",
              "\n",
              "      <script>\n",
              "        const buttonEl =\n",
              "          document.querySelector('#df-d96f6d39-d3e5-46b5-8c42-124aa6887105 button.colab-df-convert');\n",
              "        buttonEl.style.display =\n",
              "          google.colab.kernel.accessAllowed ? 'block' : 'none';\n",
              "\n",
              "        async function convertToInteractive(key) {\n",
              "          const element = document.querySelector('#df-d96f6d39-d3e5-46b5-8c42-124aa6887105');\n",
              "          const dataTable =\n",
              "            await google.colab.kernel.invokeFunction('convertToInteractive',\n",
              "                                                     [key], {});\n",
              "          if (!dataTable) return;\n",
              "\n",
              "          const docLinkHtml = 'Like what you see? Visit the ' +\n",
              "            '<a target=\"_blank\" href=https://colab.research.google.com/notebooks/data_table.ipynb>data table notebook</a>'\n",
              "            + ' to learn more about interactive tables.';\n",
              "          element.innerHTML = '';\n",
              "          dataTable['output_type'] = 'display_data';\n",
              "          await google.colab.output.renderOutput(dataTable, element);\n",
              "          const docLink = document.createElement('div');\n",
              "          docLink.innerHTML = docLinkHtml;\n",
              "          element.appendChild(docLink);\n",
              "        }\n",
              "      </script>\n",
              "    </div>\n",
              "  </div>\n",
              "  "
            ]
          },
          "metadata": {}
        }
      ]
    },
    {
      "cell_type": "code",
      "source": [
        "import pandas as pd\n",
        "#grouped = df.groupby('Emp ID').nlargest(5)\n",
        "#print(grouped)\n",
        "df.nlargest(5, 'Emp ID', 'first')"
      ],
      "metadata": {
        "colab": {
          "base_uri": "https://localhost:8080/",
          "height": 206
        },
        "id": "C5FW5LvKXm3-",
        "outputId": "c6ff4a99-46bf-4b3e-fefb-68bbcd32ca58"
      },
      "execution_count": 48,
      "outputs": [
        {
          "output_type": "execute_result",
          "data": {
            "text/plain": [
              "    Sr.No. Name of Emp  Emp ID  Age        DOB\n",
              "19      20       arpan     120   18 2004-01-20\n",
              "18      19       alvin     119   18 2004-01-19\n",
              "17      18      ganesh     118   18 2004-01-18\n",
              "16      17          om     117   18 2004-01-17\n",
              "15      16     janhavi     116   18 2004-01-16"
            ],
            "text/html": [
              "\n",
              "  <div id=\"df-3c1523d5-20c6-41a5-a6b2-d435437b63b7\">\n",
              "    <div class=\"colab-df-container\">\n",
              "      <div>\n",
              "<style scoped>\n",
              "    .dataframe tbody tr th:only-of-type {\n",
              "        vertical-align: middle;\n",
              "    }\n",
              "\n",
              "    .dataframe tbody tr th {\n",
              "        vertical-align: top;\n",
              "    }\n",
              "\n",
              "    .dataframe thead th {\n",
              "        text-align: right;\n",
              "    }\n",
              "</style>\n",
              "<table border=\"1\" class=\"dataframe\">\n",
              "  <thead>\n",
              "    <tr style=\"text-align: right;\">\n",
              "      <th></th>\n",
              "      <th>Sr.No.</th>\n",
              "      <th>Name of Emp</th>\n",
              "      <th>Emp ID</th>\n",
              "      <th>Age</th>\n",
              "      <th>DOB</th>\n",
              "    </tr>\n",
              "  </thead>\n",
              "  <tbody>\n",
              "    <tr>\n",
              "      <th>19</th>\n",
              "      <td>20</td>\n",
              "      <td>arpan</td>\n",
              "      <td>120</td>\n",
              "      <td>18</td>\n",
              "      <td>2004-01-20</td>\n",
              "    </tr>\n",
              "    <tr>\n",
              "      <th>18</th>\n",
              "      <td>19</td>\n",
              "      <td>alvin</td>\n",
              "      <td>119</td>\n",
              "      <td>18</td>\n",
              "      <td>2004-01-19</td>\n",
              "    </tr>\n",
              "    <tr>\n",
              "      <th>17</th>\n",
              "      <td>18</td>\n",
              "      <td>ganesh</td>\n",
              "      <td>118</td>\n",
              "      <td>18</td>\n",
              "      <td>2004-01-18</td>\n",
              "    </tr>\n",
              "    <tr>\n",
              "      <th>16</th>\n",
              "      <td>17</td>\n",
              "      <td>om</td>\n",
              "      <td>117</td>\n",
              "      <td>18</td>\n",
              "      <td>2004-01-17</td>\n",
              "    </tr>\n",
              "    <tr>\n",
              "      <th>15</th>\n",
              "      <td>16</td>\n",
              "      <td>janhavi</td>\n",
              "      <td>116</td>\n",
              "      <td>18</td>\n",
              "      <td>2004-01-16</td>\n",
              "    </tr>\n",
              "  </tbody>\n",
              "</table>\n",
              "</div>\n",
              "      <button class=\"colab-df-convert\" onclick=\"convertToInteractive('df-3c1523d5-20c6-41a5-a6b2-d435437b63b7')\"\n",
              "              title=\"Convert this dataframe to an interactive table.\"\n",
              "              style=\"display:none;\">\n",
              "        \n",
              "  <svg xmlns=\"http://www.w3.org/2000/svg\" height=\"24px\"viewBox=\"0 0 24 24\"\n",
              "       width=\"24px\">\n",
              "    <path d=\"M0 0h24v24H0V0z\" fill=\"none\"/>\n",
              "    <path d=\"M18.56 5.44l.94 2.06.94-2.06 2.06-.94-2.06-.94-.94-2.06-.94 2.06-2.06.94zm-11 1L8.5 8.5l.94-2.06 2.06-.94-2.06-.94L8.5 2.5l-.94 2.06-2.06.94zm10 10l.94 2.06.94-2.06 2.06-.94-2.06-.94-.94-2.06-.94 2.06-2.06.94z\"/><path d=\"M17.41 7.96l-1.37-1.37c-.4-.4-.92-.59-1.43-.59-.52 0-1.04.2-1.43.59L10.3 9.45l-7.72 7.72c-.78.78-.78 2.05 0 2.83L4 21.41c.39.39.9.59 1.41.59.51 0 1.02-.2 1.41-.59l7.78-7.78 2.81-2.81c.8-.78.8-2.07 0-2.86zM5.41 20L4 18.59l7.72-7.72 1.47 1.35L5.41 20z\"/>\n",
              "  </svg>\n",
              "      </button>\n",
              "      \n",
              "  <style>\n",
              "    .colab-df-container {\n",
              "      display:flex;\n",
              "      flex-wrap:wrap;\n",
              "      gap: 12px;\n",
              "    }\n",
              "\n",
              "    .colab-df-convert {\n",
              "      background-color: #E8F0FE;\n",
              "      border: none;\n",
              "      border-radius: 50%;\n",
              "      cursor: pointer;\n",
              "      display: none;\n",
              "      fill: #1967D2;\n",
              "      height: 32px;\n",
              "      padding: 0 0 0 0;\n",
              "      width: 32px;\n",
              "    }\n",
              "\n",
              "    .colab-df-convert:hover {\n",
              "      background-color: #E2EBFA;\n",
              "      box-shadow: 0px 1px 2px rgba(60, 64, 67, 0.3), 0px 1px 3px 1px rgba(60, 64, 67, 0.15);\n",
              "      fill: #174EA6;\n",
              "    }\n",
              "\n",
              "    [theme=dark] .colab-df-convert {\n",
              "      background-color: #3B4455;\n",
              "      fill: #D2E3FC;\n",
              "    }\n",
              "\n",
              "    [theme=dark] .colab-df-convert:hover {\n",
              "      background-color: #434B5C;\n",
              "      box-shadow: 0px 1px 3px 1px rgba(0, 0, 0, 0.15);\n",
              "      filter: drop-shadow(0px 1px 2px rgba(0, 0, 0, 0.3));\n",
              "      fill: #FFFFFF;\n",
              "    }\n",
              "  </style>\n",
              "\n",
              "      <script>\n",
              "        const buttonEl =\n",
              "          document.querySelector('#df-3c1523d5-20c6-41a5-a6b2-d435437b63b7 button.colab-df-convert');\n",
              "        buttonEl.style.display =\n",
              "          google.colab.kernel.accessAllowed ? 'block' : 'none';\n",
              "\n",
              "        async function convertToInteractive(key) {\n",
              "          const element = document.querySelector('#df-3c1523d5-20c6-41a5-a6b2-d435437b63b7');\n",
              "          const dataTable =\n",
              "            await google.colab.kernel.invokeFunction('convertToInteractive',\n",
              "                                                     [key], {});\n",
              "          if (!dataTable) return;\n",
              "\n",
              "          const docLinkHtml = 'Like what you see? Visit the ' +\n",
              "            '<a target=\"_blank\" href=https://colab.research.google.com/notebooks/data_table.ipynb>data table notebook</a>'\n",
              "            + ' to learn more about interactive tables.';\n",
              "          element.innerHTML = '';\n",
              "          dataTable['output_type'] = 'display_data';\n",
              "          await google.colab.output.renderOutput(dataTable, element);\n",
              "          const docLink = document.createElement('div');\n",
              "          docLink.innerHTML = docLinkHtml;\n",
              "          element.appendChild(docLink);\n",
              "        }\n",
              "      </script>\n",
              "    </div>\n",
              "  </div>\n",
              "  "
            ]
          },
          "metadata": {},
          "execution_count": 48
        }
      ]
    },
    {
      "cell_type": "code",
      "source": [
        "import pandas as pd\n",
        "#grouped = df.groupby('Emp ID').nsmallest(5)\n",
        "#print(grouped)\n",
        "df.nsmallest(5, 'Emp ID', 'first')"
      ],
      "metadata": {
        "colab": {
          "base_uri": "https://localhost:8080/",
          "height": 206
        },
        "id": "7I0AYPTTX3Ik",
        "outputId": "d3ae801f-fb91-4cc1-d9da-00b50a491995"
      },
      "execution_count": 49,
      "outputs": [
        {
          "output_type": "execute_result",
          "data": {
            "text/plain": [
              "   Sr.No. Name of Emp  Emp ID  Age        DOB\n",
              "0       1       vipul     101   18 2004-01-01\n",
              "1       2      gaurav     102   18 2004-01-02\n",
              "2       3      yaseen     103   18 2004-01-03\n",
              "3       4       anish     104   18 2004-01-04\n",
              "4       5       rohan     105   18 2004-01-05"
            ],
            "text/html": [
              "\n",
              "  <div id=\"df-4d0cad21-4d07-4954-be46-f5c5e9426211\">\n",
              "    <div class=\"colab-df-container\">\n",
              "      <div>\n",
              "<style scoped>\n",
              "    .dataframe tbody tr th:only-of-type {\n",
              "        vertical-align: middle;\n",
              "    }\n",
              "\n",
              "    .dataframe tbody tr th {\n",
              "        vertical-align: top;\n",
              "    }\n",
              "\n",
              "    .dataframe thead th {\n",
              "        text-align: right;\n",
              "    }\n",
              "</style>\n",
              "<table border=\"1\" class=\"dataframe\">\n",
              "  <thead>\n",
              "    <tr style=\"text-align: right;\">\n",
              "      <th></th>\n",
              "      <th>Sr.No.</th>\n",
              "      <th>Name of Emp</th>\n",
              "      <th>Emp ID</th>\n",
              "      <th>Age</th>\n",
              "      <th>DOB</th>\n",
              "    </tr>\n",
              "  </thead>\n",
              "  <tbody>\n",
              "    <tr>\n",
              "      <th>0</th>\n",
              "      <td>1</td>\n",
              "      <td>vipul</td>\n",
              "      <td>101</td>\n",
              "      <td>18</td>\n",
              "      <td>2004-01-01</td>\n",
              "    </tr>\n",
              "    <tr>\n",
              "      <th>1</th>\n",
              "      <td>2</td>\n",
              "      <td>gaurav</td>\n",
              "      <td>102</td>\n",
              "      <td>18</td>\n",
              "      <td>2004-01-02</td>\n",
              "    </tr>\n",
              "    <tr>\n",
              "      <th>2</th>\n",
              "      <td>3</td>\n",
              "      <td>yaseen</td>\n",
              "      <td>103</td>\n",
              "      <td>18</td>\n",
              "      <td>2004-01-03</td>\n",
              "    </tr>\n",
              "    <tr>\n",
              "      <th>3</th>\n",
              "      <td>4</td>\n",
              "      <td>anish</td>\n",
              "      <td>104</td>\n",
              "      <td>18</td>\n",
              "      <td>2004-01-04</td>\n",
              "    </tr>\n",
              "    <tr>\n",
              "      <th>4</th>\n",
              "      <td>5</td>\n",
              "      <td>rohan</td>\n",
              "      <td>105</td>\n",
              "      <td>18</td>\n",
              "      <td>2004-01-05</td>\n",
              "    </tr>\n",
              "  </tbody>\n",
              "</table>\n",
              "</div>\n",
              "      <button class=\"colab-df-convert\" onclick=\"convertToInteractive('df-4d0cad21-4d07-4954-be46-f5c5e9426211')\"\n",
              "              title=\"Convert this dataframe to an interactive table.\"\n",
              "              style=\"display:none;\">\n",
              "        \n",
              "  <svg xmlns=\"http://www.w3.org/2000/svg\" height=\"24px\"viewBox=\"0 0 24 24\"\n",
              "       width=\"24px\">\n",
              "    <path d=\"M0 0h24v24H0V0z\" fill=\"none\"/>\n",
              "    <path d=\"M18.56 5.44l.94 2.06.94-2.06 2.06-.94-2.06-.94-.94-2.06-.94 2.06-2.06.94zm-11 1L8.5 8.5l.94-2.06 2.06-.94-2.06-.94L8.5 2.5l-.94 2.06-2.06.94zm10 10l.94 2.06.94-2.06 2.06-.94-2.06-.94-.94-2.06-.94 2.06-2.06.94z\"/><path d=\"M17.41 7.96l-1.37-1.37c-.4-.4-.92-.59-1.43-.59-.52 0-1.04.2-1.43.59L10.3 9.45l-7.72 7.72c-.78.78-.78 2.05 0 2.83L4 21.41c.39.39.9.59 1.41.59.51 0 1.02-.2 1.41-.59l7.78-7.78 2.81-2.81c.8-.78.8-2.07 0-2.86zM5.41 20L4 18.59l7.72-7.72 1.47 1.35L5.41 20z\"/>\n",
              "  </svg>\n",
              "      </button>\n",
              "      \n",
              "  <style>\n",
              "    .colab-df-container {\n",
              "      display:flex;\n",
              "      flex-wrap:wrap;\n",
              "      gap: 12px;\n",
              "    }\n",
              "\n",
              "    .colab-df-convert {\n",
              "      background-color: #E8F0FE;\n",
              "      border: none;\n",
              "      border-radius: 50%;\n",
              "      cursor: pointer;\n",
              "      display: none;\n",
              "      fill: #1967D2;\n",
              "      height: 32px;\n",
              "      padding: 0 0 0 0;\n",
              "      width: 32px;\n",
              "    }\n",
              "\n",
              "    .colab-df-convert:hover {\n",
              "      background-color: #E2EBFA;\n",
              "      box-shadow: 0px 1px 2px rgba(60, 64, 67, 0.3), 0px 1px 3px 1px rgba(60, 64, 67, 0.15);\n",
              "      fill: #174EA6;\n",
              "    }\n",
              "\n",
              "    [theme=dark] .colab-df-convert {\n",
              "      background-color: #3B4455;\n",
              "      fill: #D2E3FC;\n",
              "    }\n",
              "\n",
              "    [theme=dark] .colab-df-convert:hover {\n",
              "      background-color: #434B5C;\n",
              "      box-shadow: 0px 1px 3px 1px rgba(0, 0, 0, 0.15);\n",
              "      filter: drop-shadow(0px 1px 2px rgba(0, 0, 0, 0.3));\n",
              "      fill: #FFFFFF;\n",
              "    }\n",
              "  </style>\n",
              "\n",
              "      <script>\n",
              "        const buttonEl =\n",
              "          document.querySelector('#df-4d0cad21-4d07-4954-be46-f5c5e9426211 button.colab-df-convert');\n",
              "        buttonEl.style.display =\n",
              "          google.colab.kernel.accessAllowed ? 'block' : 'none';\n",
              "\n",
              "        async function convertToInteractive(key) {\n",
              "          const element = document.querySelector('#df-4d0cad21-4d07-4954-be46-f5c5e9426211');\n",
              "          const dataTable =\n",
              "            await google.colab.kernel.invokeFunction('convertToInteractive',\n",
              "                                                     [key], {});\n",
              "          if (!dataTable) return;\n",
              "\n",
              "          const docLinkHtml = 'Like what you see? Visit the ' +\n",
              "            '<a target=\"_blank\" href=https://colab.research.google.com/notebooks/data_table.ipynb>data table notebook</a>'\n",
              "            + ' to learn more about interactive tables.';\n",
              "          element.innerHTML = '';\n",
              "          dataTable['output_type'] = 'display_data';\n",
              "          await google.colab.output.renderOutput(dataTable, element);\n",
              "          const docLink = document.createElement('div');\n",
              "          docLink.innerHTML = docLinkHtml;\n",
              "          element.appendChild(docLink);\n",
              "        }\n",
              "      </script>\n",
              "    </div>\n",
              "  </div>\n",
              "  "
            ]
          },
          "metadata": {},
          "execution_count": 49
        }
      ]
    },
    {
      "cell_type": "code",
      "source": [
        "#function to find first 5 emp having high salary\n",
        "def sal():\n",
        "  import pandas as pd\n",
        "  a = df1.sort_values(by=['Salary'], ascending = False)\n",
        "  g = a.nlargest(2, 'Salary', 'first')\n",
        "  #f = a.nlargest(2,['Salary']) #g or f (both are same)\n",
        "  print(g)\n",
        "  #print(f)\n",
        "sal() #function call"
      ],
      "metadata": {
        "colab": {
          "base_uri": "https://localhost:8080/"
        },
        "id": "yu6a1idaX3QN",
        "outputId": "e50c1191-4f6f-42bf-b583-35ae29fcac82"
      },
      "execution_count": 50,
      "outputs": [
        {
          "output_type": "stream",
          "name": "stdout",
          "text": [
            "   Sr.No. Name of Emp  Emp ID   Salary\n",
            "0       1       vipul     101  1500000\n",
            "1       2      gaurav     102  1500000\n"
          ]
        }
      ]
    },
    {
      "cell_type": "code",
      "source": [
        "l1 = ['P','Y','T','H','O','N','P','R','O','G','R','A','M']\n",
        "s_l1= l1[3:8] #slicing element from 3 to 8\n",
        "s_l2= l1[5:]  #print sliced index from 5th element till end\n",
        "s_l3= l1[:]\n",
        "s_l4= l1[:-7]\n",
        "print(s_l1)\n",
        "print(s_l2)\n",
        "print(s_l3)\n",
        "print(s_l4)"
      ],
      "metadata": {
        "colab": {
          "base_uri": "https://localhost:8080/"
        },
        "id": "qIn9tXxCYFgz",
        "outputId": "e09d52be-c9c8-45ed-8b10-15b530abff93"
      },
      "execution_count": 51,
      "outputs": [
        {
          "output_type": "stream",
          "name": "stdout",
          "text": [
            "['H', 'O', 'N', 'P', 'R']\n",
            "['N', 'P', 'R', 'O', 'G', 'R', 'A', 'M']\n",
            "['P', 'Y', 'T', 'H', 'O', 'N', 'P', 'R', 'O', 'G', 'R', 'A', 'M']\n",
            "['P', 'Y', 'T', 'H', 'O', 'N']\n"
          ]
        }
      ]
    },
    {
      "cell_type": "code",
      "source": [
        "#slicing tuple\n",
        "t1 = (10, 20, 30, 'Python', 15.95)\n",
        "print(t1)\n",
        "st1 = t1[0:3]\n",
        "print(st1)"
      ],
      "metadata": {
        "colab": {
          "base_uri": "https://localhost:8080/"
        },
        "id": "e3iVLuH9YFlH",
        "outputId": "76a55381-f2cf-41aa-c57f-5014f8c80558"
      },
      "execution_count": 65,
      "outputs": [
        {
          "output_type": "stream",
          "name": "stdout",
          "text": [
            "(10, 20, 30, 'Python', 15.95)\n",
            "(10, 20, 30)\n"
          ]
        }
      ]
    },
    {
      "cell_type": "code",
      "source": [
        "#tuples are immutable\n",
        "str2 = t1 + (50, 60)\n",
        "print(str2)"
      ],
      "metadata": {
        "colab": {
          "base_uri": "https://localhost:8080/"
        },
        "id": "XzVXlBfxYFpf",
        "outputId": "42e7b639-d54c-4a90-bf71-f10afcf4ebf5"
      },
      "execution_count": 66,
      "outputs": [
        {
          "output_type": "stream",
          "name": "stdout",
          "text": [
            "(10, 20, 30, 'Python', 15.95, 50, 60)\n"
          ]
        }
      ]
    },
    {
      "cell_type": "code",
      "source": [
        "#finding length of tuple\n",
        "str3 = t1.__len__()\n",
        "print(str3)"
      ],
      "metadata": {
        "colab": {
          "base_uri": "https://localhost:8080/"
        },
        "id": "eBRphQ0pYFtx",
        "outputId": "4d200b1b-9c68-4116-9456-30316a85d5d1"
      },
      "execution_count": 67,
      "outputs": [
        {
          "output_type": "stream",
          "name": "stdout",
          "text": [
            "5\n"
          ]
        }
      ]
    },
    {
      "cell_type": "code",
      "source": [
        "#concatinate tuple\n",
        "t2 = (100, 110, 120, 130)\n",
        "t3 = t1 + t2\n",
        "print(t3)"
      ],
      "metadata": {
        "colab": {
          "base_uri": "https://localhost:8080/"
        },
        "id": "z_2SXa1PYFxb",
        "outputId": "cedebf15-0fa8-48a8-e683-12d44c9afbd6"
      },
      "execution_count": 68,
      "outputs": [
        {
          "output_type": "stream",
          "name": "stdout",
          "text": [
            "(10, 20, 30, 'Python', 15.95, 100, 110, 120, 130)\n"
          ]
        }
      ]
    },
    {
      "cell_type": "code",
      "source": [
        "#acecssing tuple elements using indexing\n",
        "print(t1[0])\n",
        "print('\\n')\n",
        "\n",
        "#navigate tuple index\n",
        "print(t1[-1])\n",
        "print(t2[-2])\n",
        "print('\\n')\n",
        "\n",
        "#iterating through tuple\n",
        "for i in t1:\n",
        "  print(i)\n"
      ],
      "metadata": {
        "colab": {
          "base_uri": "https://localhost:8080/"
        },
        "id": "faSSrqhbYF1x",
        "outputId": "c2fc910f-8827-4fde-c95e-73dc7036dc00"
      },
      "execution_count": 69,
      "outputs": [
        {
          "output_type": "stream",
          "name": "stdout",
          "text": [
            "10\n",
            "\n",
            "\n",
            "15.95\n",
            "120\n",
            "\n",
            "\n",
            "10\n",
            "20\n",
            "30\n",
            "Python\n",
            "15.95\n"
          ]
        }
      ]
    },
    {
      "cell_type": "code",
      "source": [
        "#multiplying tuple\n",
        "t4 = t2*3\n",
        "print(t4)"
      ],
      "metadata": {
        "colab": {
          "base_uri": "https://localhost:8080/"
        },
        "id": "LqhtJidyYF6I",
        "outputId": "2397bb80-7fe5-4e85-db44-6789503fff97"
      },
      "execution_count": 61,
      "outputs": [
        {
          "output_type": "stream",
          "name": "stdout",
          "text": [
            "(100, 110, 120, 130, 100, 110, 120, 130, 100, 110, 120, 130)\n"
          ]
        }
      ]
    },
    {
      "cell_type": "code",
      "source": [
        "#deleting tuple\n",
        "del t1"
      ],
      "metadata": {
        "id": "glp03ToGYF-A"
      },
      "execution_count": 71,
      "outputs": []
    },
    {
      "cell_type": "code",
      "source": [
        "#membership operators\n",
        "print(10 in t1)\n",
        "print(10 not in t1)"
      ],
      "metadata": {
        "colab": {
          "base_uri": "https://localhost:8080/"
        },
        "id": "ysyH40oeYGCo",
        "outputId": "bec45dd4-2770-4196-a6f1-c94f5314e89e"
      },
      "execution_count": 70,
      "outputs": [
        {
          "output_type": "stream",
          "name": "stdout",
          "text": [
            "True\n",
            "False\n"
          ]
        }
      ]
    },
    {
      "cell_type": "code",
      "source": [
        "l1 = [10, 20, 30, 40, 50]\n",
        "10 in l1"
      ],
      "metadata": {
        "colab": {
          "base_uri": "https://localhost:8080/"
        },
        "id": "YOU1S2kyYGG2",
        "outputId": "acb645c1-eeae-47a7-ae1d-d7deee5e617a"
      },
      "execution_count": 72,
      "outputs": [
        {
          "output_type": "execute_result",
          "data": {
            "text/plain": [
              "True"
            ]
          },
          "metadata": {},
          "execution_count": 72
        }
      ]
    },
    {
      "cell_type": "code",
      "source": [
        "l1 = [10, 20, 30, 40, 50]\n",
        "60 in l1"
      ],
      "metadata": {
        "colab": {
          "base_uri": "https://localhost:8080/"
        },
        "id": "q8uqcjOAYGKY",
        "outputId": "1b402c7e-55b3-4aa3-e777-86975cd03e43"
      },
      "execution_count": 73,
      "outputs": [
        {
          "output_type": "execute_result",
          "data": {
            "text/plain": [
              "False"
            ]
          },
          "metadata": {},
          "execution_count": 73
        }
      ]
    },
    {
      "cell_type": "code",
      "source": [
        "a = range(3,30,3)\n",
        "print(a)"
      ],
      "metadata": {
        "colab": {
          "base_uri": "https://localhost:8080/"
        },
        "id": "LOET6XHTZ_x8",
        "outputId": "9fd704c8-7d9a-4744-c094-c6b2dcd566a7"
      },
      "execution_count": 74,
      "outputs": [
        {
          "output_type": "stream",
          "name": "stdout",
          "text": [
            "range(3, 30, 3)\n"
          ]
        }
      ]
    },
    {
      "cell_type": "code",
      "source": [
        "num = int(input())\n",
        "a = int(input())\n",
        "b = int(input())\n",
        "for i in range(a,b):\n",
        "  print(num, '*', i, '=', num*i)"
      ],
      "metadata": {
        "colab": {
          "base_uri": "https://localhost:8080/"
        },
        "id": "8F6UaUxuZ_07",
        "outputId": "5b74ceec-20f8-4552-ed39-b26b85c7cc2a"
      },
      "execution_count": 77,
      "outputs": [
        {
          "output_type": "stream",
          "name": "stdout",
          "text": [
            "38\n",
            "1\n",
            "10\n",
            "38 * 1 = 38\n",
            "38 * 2 = 76\n",
            "38 * 3 = 114\n",
            "38 * 4 = 152\n",
            "38 * 5 = 190\n",
            "38 * 6 = 228\n",
            "38 * 7 = 266\n",
            "38 * 8 = 304\n",
            "38 * 9 = 342\n"
          ]
        }
      ]
    },
    {
      "cell_type": "code",
      "source": [
        "s1 = {10, 20, 30}\n",
        "for i in s1:\n",
        "  print(s1)"
      ],
      "metadata": {
        "colab": {
          "base_uri": "https://localhost:8080/"
        },
        "id": "kW4f6IjOZ_37",
        "outputId": "d51735b8-abdf-42ea-f336-98d7ea84681c"
      },
      "execution_count": 78,
      "outputs": [
        {
          "output_type": "stream",
          "name": "stdout",
          "text": [
            "{10, 20, 30}\n",
            "{10, 20, 30}\n",
            "{10, 20, 30}\n"
          ]
        }
      ]
    },
    {
      "cell_type": "code",
      "source": [
        "s1 = {10, 20, 30}\n",
        "for i in s1:\n",
        "  print(i)"
      ],
      "metadata": {
        "colab": {
          "base_uri": "https://localhost:8080/"
        },
        "id": "j8MXRVrSZ_6e",
        "outputId": "75c5c604-1678-44fe-bfb6-d6df1688ba18"
      },
      "execution_count": 79,
      "outputs": [
        {
          "output_type": "stream",
          "name": "stdout",
          "text": [
            "10\n",
            "20\n",
            "30\n"
          ]
        }
      ]
    },
    {
      "cell_type": "code",
      "source": [
        "s1.discard(10)\n",
        "print(s1)"
      ],
      "metadata": {
        "colab": {
          "base_uri": "https://localhost:8080/"
        },
        "id": "A8Q4e0_SZ_9W",
        "outputId": "44b9f785-a9b8-45a7-9c56-158e24e7e12c"
      },
      "execution_count": 80,
      "outputs": [
        {
          "output_type": "stream",
          "name": "stdout",
          "text": [
            "{20, 30}\n"
          ]
        }
      ]
    },
    {
      "cell_type": "code",
      "source": [
        "s1.add(40)\n",
        "print(s1)"
      ],
      "metadata": {
        "colab": {
          "base_uri": "https://localhost:8080/"
        },
        "id": "DhRykl_ZZ__1",
        "outputId": "8421a242-e8a3-43bd-ec3c-28f2359af978"
      },
      "execution_count": 81,
      "outputs": [
        {
          "output_type": "stream",
          "name": "stdout",
          "text": [
            "{40, 20, 30}\n"
          ]
        }
      ]
    },
    {
      "cell_type": "code",
      "source": [
        "s1.update([50, 60])\n",
        "print(s1)"
      ],
      "metadata": {
        "colab": {
          "base_uri": "https://localhost:8080/"
        },
        "id": "NxOd9viCaACe",
        "outputId": "42104f23-d8b6-430a-df54-b8385bb513d1"
      },
      "execution_count": 83,
      "outputs": [
        {
          "output_type": "stream",
          "name": "stdout",
          "text": [
            "{40, 50, 20, 60, 30}\n"
          ]
        }
      ]
    },
    {
      "cell_type": "code",
      "source": [
        "s2 = {1,2,3,10,20}\n",
        "s3 = s1 | s2\n",
        "print(s3)"
      ],
      "metadata": {
        "colab": {
          "base_uri": "https://localhost:8080/"
        },
        "id": "6Y3FSt2OaAFC",
        "outputId": "44efbe1a-9bb3-43f5-8b7f-abce1b93390a"
      },
      "execution_count": 82,
      "outputs": [
        {
          "output_type": "stream",
          "name": "stdout",
          "text": [
            "{1, 2, 3, 40, 10, 20, 30}\n"
          ]
        }
      ]
    },
    {
      "cell_type": "code",
      "source": [
        "s3 = s1^s2\n",
        "print(s3)"
      ],
      "metadata": {
        "colab": {
          "base_uri": "https://localhost:8080/"
        },
        "id": "R9E95n4oaAIo",
        "outputId": "313af3dc-e51a-46e1-a13a-b8e58304d086"
      },
      "execution_count": 84,
      "outputs": [
        {
          "output_type": "stream",
          "name": "stdout",
          "text": [
            "{1, 2, 3, 10, 30, 40, 50, 60}\n"
          ]
        }
      ]
    },
    {
      "cell_type": "code",
      "source": [
        "s2 = {1,2,3,10,20}\n",
        "s3 = s1 & s2\n",
        "print(s3)"
      ],
      "metadata": {
        "colab": {
          "base_uri": "https://localhost:8080/"
        },
        "id": "ojvKVOxwa9ua",
        "outputId": "14ec0ccb-869b-423b-d9a2-6e53a393799b"
      },
      "execution_count": 85,
      "outputs": [
        {
          "output_type": "stream",
          "name": "stdout",
          "text": [
            "{20}\n"
          ]
        }
      ]
    },
    {
      "cell_type": "code",
      "source": [
        "s1.clear()\n",
        "print(s1)"
      ],
      "metadata": {
        "colab": {
          "base_uri": "https://localhost:8080/"
        },
        "id": "BuNtK1Pja9xU",
        "outputId": "1379f1ee-54d9-42c5-ebe6-e2e29738e666"
      },
      "execution_count": 86,
      "outputs": [
        {
          "output_type": "stream",
          "name": "stdout",
          "text": [
            "set()\n"
          ]
        }
      ]
    },
    {
      "cell_type": "code",
      "source": [
        "x = [1,2,3]\n",
        "y = [1,2,3]\n",
        "print(x==y)\n",
        "print(x is y)\n",
        "print(x is not y)"
      ],
      "metadata": {
        "colab": {
          "base_uri": "https://localhost:8080/"
        },
        "id": "zPu7H9a5a90D",
        "outputId": "0a0b63b8-1381-49b6-92bd-e2f0270bbebb"
      },
      "execution_count": 87,
      "outputs": [
        {
          "output_type": "stream",
          "name": "stdout",
          "text": [
            "True\n",
            "False\n",
            "True\n"
          ]
        }
      ]
    },
    {
      "cell_type": "code",
      "source": [
        "print(\"Hi how are you? \")\n",
        "a = (int(input(\"1.Fine, 2.Not feeling well\")))\n",
        "if a == 1 :\n",
        "  print(\"Nice to Hear that\")\n",
        "else:\n",
        "  print(\"Felling sorry for you\")\n",
        "  print(\"What are the symptons you are facing : \")\n",
        "  b = [\"Headache\", \"Fatigue\",\"Vomiting\", \"All\"]\n",
        "  for i in b:\n",
        "    print(i)\n",
        "    b = input(\"Enter your choice : \")\n",
        "    if b == b[0]:\n",
        "      print(\"Take rest on a safe place and have some water\")\n",
        "    elif b == b[1]:\n",
        "      print(\"Take rest and eat something healthy\")\n",
        "    elif b == b[2]:\n",
        "      print(\"Take rest and drink energetic drink\")\n",
        "    else :\n",
        "      print(\"Go to the nearest health care center\")\n",
        "print(\"Stay healthy and take care\")\n",
        "print(\"Thank You!\")"
      ],
      "metadata": {
        "colab": {
          "base_uri": "https://localhost:8080/"
        },
        "id": "OLzlEDJXa93K",
        "outputId": "c45c6d6f-7b53-454b-c724-e441f9f59757"
      },
      "execution_count": 89,
      "outputs": [
        {
          "output_type": "stream",
          "name": "stdout",
          "text": [
            "Hi how are you? \n",
            "1.Fine, 2.Not feeling well1\n",
            "Nice to Hear that\n",
            "Stay healthy and take care\n",
            "Thank You!\n"
          ]
        }
      ]
    },
    {
      "cell_type": "code",
      "source": [
        "l1 = [10,20,30,40,50]\n",
        "print(l1[0:5:2])\n",
        "print(l1[1:5:2])\n",
        "print(l1[::-2])\n",
        "print(l1[-2::-2])\n",
        "print(l1[0:5])\n",
        "res = []\n",
        "for i in range(1, len(l1), 2):\n",
        "    res.append(l1[i])\n",
        "print(\"The alternate element list is : \", res)"
      ],
      "metadata": {
        "colab": {
          "base_uri": "https://localhost:8080/"
        },
        "id": "p75w-SSxa96O",
        "outputId": "2c9d10ac-6c22-4e03-a577-ef68e3685eba"
      },
      "execution_count": 99,
      "outputs": [
        {
          "output_type": "stream",
          "name": "stdout",
          "text": [
            "[10, 30, 50]\n",
            "[20, 40]\n",
            "[50, 30, 10]\n",
            "[40, 20]\n",
            "[10, 20, 30, 40, 50]\n",
            "The alternate element list is :  [20, 40]\n"
          ]
        }
      ]
    },
    {
      "cell_type": "code",
      "source": [
        "import json\n",
        "x = '{\"name\":\"ABC\", \"age\":18, \"city\":\"pune\"}'\n",
        "y = json.loads(x)\n",
        "print(y[\"city\"])"
      ],
      "metadata": {
        "colab": {
          "base_uri": "https://localhost:8080/"
        },
        "id": "A53t_5ePa99J",
        "outputId": "504b30ec-a940-4b07-b1bc-8bac0291e744"
      },
      "execution_count": 100,
      "outputs": [
        {
          "output_type": "stream",
          "name": "stdout",
          "text": [
            "pune\n"
          ]
        }
      ]
    },
    {
      "cell_type": "code",
      "source": [
        "import numpy as np\n",
        "a = np.array([10, 20, 30])\n",
        "x = a.copy()\n",
        "y = a.view()\n",
        "a[0] = 45\n",
        "a[1] = 42\n",
        "print(y)"
      ],
      "metadata": {
        "colab": {
          "base_uri": "https://localhost:8080/"
        },
        "id": "W5ttB4Vda-Cl",
        "outputId": "264e2f43-d48b-46a4-f18f-cbb3a4b856e1"
      },
      "execution_count": 101,
      "outputs": [
        {
          "output_type": "stream",
          "name": "stdout",
          "text": [
            "[45 42 30]\n"
          ]
        }
      ]
    },
    {
      "cell_type": "code",
      "source": [
        "import numpy as np\n",
        "\n",
        "x = np.array([[10,20],[40,50]])\n",
        "y = np.array([[6,7],[9,10]])\n",
        "\n",
        "print(\"addition of matrix\")\n",
        "print(np.add(x,y))\n",
        "\n",
        "print(\"subtraction of matrix\")\n",
        "print(np.subtract(x,y))\n"
      ],
      "metadata": {
        "colab": {
          "base_uri": "https://localhost:8080/"
        },
        "id": "XztjQBHndIQW",
        "outputId": "63d19778-0067-4a85-efa2-f5d646b83e7c"
      },
      "execution_count": 102,
      "outputs": [
        {
          "output_type": "stream",
          "name": "stdout",
          "text": [
            "addition of matrix\n",
            "[[16 27]\n",
            " [49 60]]\n",
            "subtraction of matrix\n",
            "[[ 4 13]\n",
            " [31 40]]\n"
          ]
        }
      ]
    },
    {
      "cell_type": "code",
      "source": [
        "x = np.matrix('1,2,3 ; 4,5,6 ; 7,8,9')\n",
        "a = np.array(x)\n",
        "print(a)\n",
        "print(a.T)"
      ],
      "metadata": {
        "colab": {
          "base_uri": "https://localhost:8080/"
        },
        "id": "bWNvZJOddKxo",
        "outputId": "4fd15e05-f0d9-439c-d3fb-cb649166ef85"
      },
      "execution_count": 103,
      "outputs": [
        {
          "output_type": "stream",
          "name": "stdout",
          "text": [
            "[[1 2 3]\n",
            " [4 5 6]\n",
            " [7 8 9]]\n",
            "[[1 4 7]\n",
            " [2 5 8]\n",
            " [3 6 9]]\n"
          ]
        }
      ]
    },
    {
      "cell_type": "code",
      "source": [
        "import json\n",
        "emp_dict={\"ERP\":\"YOU\", 9:\"ERP\", 8.9:\"python\"}\n",
        "print(emp_dict)"
      ],
      "metadata": {
        "colab": {
          "base_uri": "https://localhost:8080/"
        },
        "id": "1VrzjX3OdK0H",
        "outputId": "423784ea-14bf-42b1-acaf-fbac1403b1b9"
      },
      "execution_count": 104,
      "outputs": [
        {
          "output_type": "stream",
          "name": "stdout",
          "text": [
            "{'ERP': 'YOU', 9: 'ERP', 8.9: 'python'}\n"
          ]
        }
      ]
    },
    {
      "cell_type": "code",
      "source": [
        "import json\n",
        "json_string = '{ \"name\": \"cassia\" , \"web\": \"stackabuse.com\", \"country\": \"brazil\"}'\n",
        "dictionary = json.loads(json_string)\n",
        "print(dictionary)"
      ],
      "metadata": {
        "colab": {
          "base_uri": "https://localhost:8080/"
        },
        "id": "b8MnKU9PdK2Z",
        "outputId": "5bbee45d-db7b-40b9-e17d-861d408a0429"
      },
      "execution_count": 105,
      "outputs": [
        {
          "output_type": "stream",
          "name": "stdout",
          "text": [
            "{'name': 'cassia', 'web': 'stackabuse.com', 'country': 'brazil'}\n"
          ]
        }
      ]
    },
    {
      "cell_type": "code",
      "source": [
        "import json\n",
        "x = {\n",
        "    \"x\" : \"10\",\n",
        "    \"y\" : 56,\n",
        "    \"z\" : \"python\"\n",
        "\n",
        "}\n",
        "y = json.dumps(x)   #dumps not dump beware\n",
        "print(y)"
      ],
      "metadata": {
        "colab": {
          "base_uri": "https://localhost:8080/"
        },
        "id": "17QifqsEdK5V",
        "outputId": "c9b99279-18f2-4fb7-deac-8a69d059541d"
      },
      "execution_count": 106,
      "outputs": [
        {
          "output_type": "stream",
          "name": "stdout",
          "text": [
            "{\"x\": \"10\", \"y\": 56, \"z\": \"python\"}\n"
          ]
        }
      ]
    },
    {
      "cell_type": "code",
      "source": [
        "import numpy as np\n",
        "import pandas as pd\n",
        "\n",
        "df = pd.read_excel('/content/drive/MyDrive/anishkashyap_430 (1).xlsx',index_col = \"salary\")  #case sensitive to whatever you write in sheet\n",
        "print(df)\n",
        "\n",
        "l = df.values.tolist()\n",
        "\n",
        "d = df.to_dict\n",
        "t = list(df.itertuples(index=False))     #beware itertuples not intertuples"
      ],
      "metadata": {
        "colab": {
          "base_uri": "https://localhost:8080/"
        },
        "id": "ce7McCFldK8y",
        "outputId": "cc65e156-0ca9-4ebc-ca4b-a80760dd46ff"
      },
      "execution_count": 109,
      "outputs": [
        {
          "output_type": "stream",
          "name": "stdout",
          "text": [
            "         SR.NO Name of Emp Last name  emp id\n",
            "salary                                      \n",
            "1500000      1       vipul   lavhade     101\n",
            "1500000      2      gaurav   lavhade     102\n",
            "1200000      3      yaseen      Alam     103\n",
            "1300000      4       anish   kashyap     104\n",
            "1100000      5       rohan   lavhade     105\n",
            "100000       6       gauri   lavhade     106\n",
            "200000       7     shubham   lavhade     107\n",
            "300000       8      akshay   lavhade     108\n",
            "400000       9       punit   lavhade     109\n",
            "500000      10      sumedh   lavhade     110\n",
            "600000      11       mayur   lavhade     111\n",
            "700000      12    priyanka   lavhade     112\n",
            "800000      13      lukesh   lavhade     113\n",
            "10000       14  prathamesh   lavhade     114\n",
            "20000       15    prashant   lavhade     115\n",
            "30000       16     janhavi   lavhade     116\n",
            "500000      17          om   lavhade     117\n",
            "900000      18      ganesh   lavhade     118\n",
            "800000      19       alvin   lavhade     119\n",
            "1050000     20       arpan   lavhade     120\n"
          ]
        }
      ]
    },
    {
      "cell_type": "code",
      "source": [
        "#calculate tadays date\n",
        "from datetime import date\n",
        "today = date.today( ) # fetch todays date\n",
        "print(today)"
      ],
      "metadata": {
        "colab": {
          "base_uri": "https://localhost:8080/"
        },
        "id": "OdrdNX0Ar4E4",
        "outputId": "f600c14c-11df-4a1b-bc56-8ac32a4f5416"
      },
      "execution_count": 111,
      "outputs": [
        {
          "output_type": "stream",
          "name": "stdout",
          "text": [
            "2023-07-09\n"
          ]
        }
      ]
    },
    {
      "cell_type": "code",
      "source": [
        "#importing datetime module for now( )\n",
        "import datetime\n",
        "\n",
        "#using now( ) to get current time\n",
        "current_time = datetime.datetime.now( )\n",
        "\n",
        "#printing attributes of now( ).\n",
        "print(\"The attributes of now( ) are : \")\n",
        "\n",
        "print(\"Year : \", end =  \" \")\n",
        "print(current_time.year)\n",
        "\n",
        "print(\"Month : \", end = \" \")\n",
        "print(current_time.month)\n",
        "\n",
        "print(\"Day : \", end = \" \")\n",
        "print(current_time.day)\n"
      ],
      "metadata": {
        "colab": {
          "base_uri": "https://localhost:8080/"
        },
        "id": "uO8tPRE7w_mZ",
        "outputId": "366e41ab-5267-4448-e43b-0d004fd56708"
      },
      "execution_count": 112,
      "outputs": [
        {
          "output_type": "stream",
          "name": "stdout",
          "text": [
            "The attributes of now( ) are : \n",
            "Year :  2023\n",
            "Month :  7\n",
            "Day :  9\n"
          ]
        }
      ]
    },
    {
      "cell_type": "code",
      "source": [
        "from datetime import date\n",
        "\n",
        "def calculateAge(dob):\n",
        "    today = date.today( )\n",
        "    #check if current month and date are less than birth month and date.\n",
        "    age = today.year - dob.year - ((today.month, today.day) < (dob.month, dob.day) )\n",
        "    return age\n",
        "print(calculateAge(date(2004, 4, 27)) , \" years old\") #function call"
      ],
      "metadata": {
        "colab": {
          "base_uri": "https://localhost:8080/"
        },
        "id": "Y-eegWYGxGmV",
        "outputId": "b72fd4b8-178b-43b7-89d3-86957549da9d"
      },
      "execution_count": 113,
      "outputs": [
        {
          "output_type": "stream",
          "name": "stdout",
          "text": [
            "19  years old\n"
          ]
        }
      ]
    },
    {
      "cell_type": "code",
      "source": [
        "d = float(input(\"Enter currency in Dollars : \"))\n",
        "s = d*82\n",
        "print(round(s, 2), \"Rupees\")"
      ],
      "metadata": {
        "colab": {
          "base_uri": "https://localhost:8080/"
        },
        "id": "sqLxy9rNxSTb",
        "outputId": "c1ef01c1-4f56-41ee-833c-8f905837f0a7"
      },
      "execution_count": 114,
      "outputs": [
        {
          "output_type": "stream",
          "name": "stdout",
          "text": [
            "Enter currency in Dollars : 345345345435\n",
            "28318318325670.0 Rupees\n"
          ]
        }
      ]
    },
    {
      "cell_type": "code",
      "source": [
        "import pandas as pd\n",
        "def t(l):\n",
        "  return l * 10\n",
        "l = [1,2,3,4,5]\n",
        "df = pd.DataFrame(l)\n",
        "newdf = df.transform(t)\n",
        "print(newdf)\n"
      ],
      "metadata": {
        "colab": {
          "base_uri": "https://localhost:8080/"
        },
        "id": "XK4cFH9SxY19",
        "outputId": "300709b4-d0ee-4d05-c87a-9224ff75b097"
      },
      "execution_count": 115,
      "outputs": [
        {
          "output_type": "stream",
          "name": "stdout",
          "text": [
            "    0\n",
            "0  10\n",
            "1  20\n",
            "2  30\n",
            "3  40\n",
            "4  50\n"
          ]
        }
      ]
    },
    {
      "cell_type": "code",
      "source": [
        "df_person = pd.DataFrame([\n",
        "    [\"Person 1\", \"Melbourne\", \"3024\"],\n",
        "    [\"Person 2\", \"Sydney\", \"3003\"],\n",
        "    [\"Person 3\", \"Delhi\", \"10001\"],\n",
        "    [\"Person 4\", \"Kolkata\", \"7007\"],\n",
        "    [\"Person 5\", \"London\", \"QA302\"]\n",
        "] ,columns = [\"Name\", \"City\", \"Pin\"])\n",
        "df_person"
      ],
      "metadata": {
        "colab": {
          "base_uri": "https://localhost:8080/",
          "height": 206
        },
        "id": "rEpayEisxY41",
        "outputId": "630ee2ff-6d3f-493c-8955-1e68ddef8dab"
      },
      "execution_count": 116,
      "outputs": [
        {
          "output_type": "execute_result",
          "data": {
            "text/plain": [
              "       Name       City    Pin\n",
              "0  Person 1  Melbourne   3024\n",
              "1  Person 2     Sydney   3003\n",
              "2  Person 3      Delhi  10001\n",
              "3  Person 4    Kolkata   7007\n",
              "4  Person 5     London  QA302"
            ],
            "text/html": [
              "\n",
              "  <div id=\"df-11ebd7c2-e6f2-4929-8c90-2ec96bc391b4\">\n",
              "    <div class=\"colab-df-container\">\n",
              "      <div>\n",
              "<style scoped>\n",
              "    .dataframe tbody tr th:only-of-type {\n",
              "        vertical-align: middle;\n",
              "    }\n",
              "\n",
              "    .dataframe tbody tr th {\n",
              "        vertical-align: top;\n",
              "    }\n",
              "\n",
              "    .dataframe thead th {\n",
              "        text-align: right;\n",
              "    }\n",
              "</style>\n",
              "<table border=\"1\" class=\"dataframe\">\n",
              "  <thead>\n",
              "    <tr style=\"text-align: right;\">\n",
              "      <th></th>\n",
              "      <th>Name</th>\n",
              "      <th>City</th>\n",
              "      <th>Pin</th>\n",
              "    </tr>\n",
              "  </thead>\n",
              "  <tbody>\n",
              "    <tr>\n",
              "      <th>0</th>\n",
              "      <td>Person 1</td>\n",
              "      <td>Melbourne</td>\n",
              "      <td>3024</td>\n",
              "    </tr>\n",
              "    <tr>\n",
              "      <th>1</th>\n",
              "      <td>Person 2</td>\n",
              "      <td>Sydney</td>\n",
              "      <td>3003</td>\n",
              "    </tr>\n",
              "    <tr>\n",
              "      <th>2</th>\n",
              "      <td>Person 3</td>\n",
              "      <td>Delhi</td>\n",
              "      <td>10001</td>\n",
              "    </tr>\n",
              "    <tr>\n",
              "      <th>3</th>\n",
              "      <td>Person 4</td>\n",
              "      <td>Kolkata</td>\n",
              "      <td>7007</td>\n",
              "    </tr>\n",
              "    <tr>\n",
              "      <th>4</th>\n",
              "      <td>Person 5</td>\n",
              "      <td>London</td>\n",
              "      <td>QA302</td>\n",
              "    </tr>\n",
              "  </tbody>\n",
              "</table>\n",
              "</div>\n",
              "      <button class=\"colab-df-convert\" onclick=\"convertToInteractive('df-11ebd7c2-e6f2-4929-8c90-2ec96bc391b4')\"\n",
              "              title=\"Convert this dataframe to an interactive table.\"\n",
              "              style=\"display:none;\">\n",
              "        \n",
              "  <svg xmlns=\"http://www.w3.org/2000/svg\" height=\"24px\"viewBox=\"0 0 24 24\"\n",
              "       width=\"24px\">\n",
              "    <path d=\"M0 0h24v24H0V0z\" fill=\"none\"/>\n",
              "    <path d=\"M18.56 5.44l.94 2.06.94-2.06 2.06-.94-2.06-.94-.94-2.06-.94 2.06-2.06.94zm-11 1L8.5 8.5l.94-2.06 2.06-.94-2.06-.94L8.5 2.5l-.94 2.06-2.06.94zm10 10l.94 2.06.94-2.06 2.06-.94-2.06-.94-.94-2.06-.94 2.06-2.06.94z\"/><path d=\"M17.41 7.96l-1.37-1.37c-.4-.4-.92-.59-1.43-.59-.52 0-1.04.2-1.43.59L10.3 9.45l-7.72 7.72c-.78.78-.78 2.05 0 2.83L4 21.41c.39.39.9.59 1.41.59.51 0 1.02-.2 1.41-.59l7.78-7.78 2.81-2.81c.8-.78.8-2.07 0-2.86zM5.41 20L4 18.59l7.72-7.72 1.47 1.35L5.41 20z\"/>\n",
              "  </svg>\n",
              "      </button>\n",
              "      \n",
              "  <style>\n",
              "    .colab-df-container {\n",
              "      display:flex;\n",
              "      flex-wrap:wrap;\n",
              "      gap: 12px;\n",
              "    }\n",
              "\n",
              "    .colab-df-convert {\n",
              "      background-color: #E8F0FE;\n",
              "      border: none;\n",
              "      border-radius: 50%;\n",
              "      cursor: pointer;\n",
              "      display: none;\n",
              "      fill: #1967D2;\n",
              "      height: 32px;\n",
              "      padding: 0 0 0 0;\n",
              "      width: 32px;\n",
              "    }\n",
              "\n",
              "    .colab-df-convert:hover {\n",
              "      background-color: #E2EBFA;\n",
              "      box-shadow: 0px 1px 2px rgba(60, 64, 67, 0.3), 0px 1px 3px 1px rgba(60, 64, 67, 0.15);\n",
              "      fill: #174EA6;\n",
              "    }\n",
              "\n",
              "    [theme=dark] .colab-df-convert {\n",
              "      background-color: #3B4455;\n",
              "      fill: #D2E3FC;\n",
              "    }\n",
              "\n",
              "    [theme=dark] .colab-df-convert:hover {\n",
              "      background-color: #434B5C;\n",
              "      box-shadow: 0px 1px 3px 1px rgba(0, 0, 0, 0.15);\n",
              "      filter: drop-shadow(0px 1px 2px rgba(0, 0, 0, 0.3));\n",
              "      fill: #FFFFFF;\n",
              "    }\n",
              "  </style>\n",
              "\n",
              "      <script>\n",
              "        const buttonEl =\n",
              "          document.querySelector('#df-11ebd7c2-e6f2-4929-8c90-2ec96bc391b4 button.colab-df-convert');\n",
              "        buttonEl.style.display =\n",
              "          google.colab.kernel.accessAllowed ? 'block' : 'none';\n",
              "\n",
              "        async function convertToInteractive(key) {\n",
              "          const element = document.querySelector('#df-11ebd7c2-e6f2-4929-8c90-2ec96bc391b4');\n",
              "          const dataTable =\n",
              "            await google.colab.kernel.invokeFunction('convertToInteractive',\n",
              "                                                     [key], {});\n",
              "          if (!dataTable) return;\n",
              "\n",
              "          const docLinkHtml = 'Like what you see? Visit the ' +\n",
              "            '<a target=\"_blank\" href=https://colab.research.google.com/notebooks/data_table.ipynb>data table notebook</a>'\n",
              "            + ' to learn more about interactive tables.';\n",
              "          element.innerHTML = '';\n",
              "          dataTable['output_type'] = 'display_data';\n",
              "          await google.colab.output.renderOutput(dataTable, element);\n",
              "          const docLink = document.createElement('div');\n",
              "          docLink.innerHTML = docLinkHtml;\n",
              "          element.appendChild(docLink);\n",
              "        }\n",
              "      </script>\n",
              "    </div>\n",
              "  </div>\n",
              "  "
            ]
          },
          "metadata": {},
          "execution_count": 116
        }
      ]
    },
    {
      "cell_type": "code",
      "source": [
        "import pandas as pd\n",
        "df1 = pd.DataFrame({\"Employee\": [\"Sudarshan\", \"Sahil\", \"Rohan\", \"Sarthak\"],\n",
        "                    \"Group\": [\"Accounting\", \"Engineering\", \"Engineering\",\"HR\"]})\n",
        "df2 = pd.DataFrame({\"Employee\": [\"Sudarshan\", \"Sahil\", \"Rohan\", \"Sarthak\"],\n",
        "                    \"Hire_date\": [2004, 2008, 2012, 2014]})\n",
        "df3 = pd.merge(df1, df2)\n",
        "df3"
      ],
      "metadata": {
        "colab": {
          "base_uri": "https://localhost:8080/",
          "height": 175
        },
        "id": "5_wFH3LIxY68",
        "outputId": "ccbca8d3-16d0-4c98-dc80-840e49255da4"
      },
      "execution_count": 117,
      "outputs": [
        {
          "output_type": "execute_result",
          "data": {
            "text/plain": [
              "    Employee        Group  Hire_date\n",
              "0  Sudarshan   Accounting       2004\n",
              "1      Sahil  Engineering       2008\n",
              "2      Rohan  Engineering       2012\n",
              "3    Sarthak           HR       2014"
            ],
            "text/html": [
              "\n",
              "  <div id=\"df-4009a7b4-0674-4258-8c0c-f7891fbcb4ff\">\n",
              "    <div class=\"colab-df-container\">\n",
              "      <div>\n",
              "<style scoped>\n",
              "    .dataframe tbody tr th:only-of-type {\n",
              "        vertical-align: middle;\n",
              "    }\n",
              "\n",
              "    .dataframe tbody tr th {\n",
              "        vertical-align: top;\n",
              "    }\n",
              "\n",
              "    .dataframe thead th {\n",
              "        text-align: right;\n",
              "    }\n",
              "</style>\n",
              "<table border=\"1\" class=\"dataframe\">\n",
              "  <thead>\n",
              "    <tr style=\"text-align: right;\">\n",
              "      <th></th>\n",
              "      <th>Employee</th>\n",
              "      <th>Group</th>\n",
              "      <th>Hire_date</th>\n",
              "    </tr>\n",
              "  </thead>\n",
              "  <tbody>\n",
              "    <tr>\n",
              "      <th>0</th>\n",
              "      <td>Sudarshan</td>\n",
              "      <td>Accounting</td>\n",
              "      <td>2004</td>\n",
              "    </tr>\n",
              "    <tr>\n",
              "      <th>1</th>\n",
              "      <td>Sahil</td>\n",
              "      <td>Engineering</td>\n",
              "      <td>2008</td>\n",
              "    </tr>\n",
              "    <tr>\n",
              "      <th>2</th>\n",
              "      <td>Rohan</td>\n",
              "      <td>Engineering</td>\n",
              "      <td>2012</td>\n",
              "    </tr>\n",
              "    <tr>\n",
              "      <th>3</th>\n",
              "      <td>Sarthak</td>\n",
              "      <td>HR</td>\n",
              "      <td>2014</td>\n",
              "    </tr>\n",
              "  </tbody>\n",
              "</table>\n",
              "</div>\n",
              "      <button class=\"colab-df-convert\" onclick=\"convertToInteractive('df-4009a7b4-0674-4258-8c0c-f7891fbcb4ff')\"\n",
              "              title=\"Convert this dataframe to an interactive table.\"\n",
              "              style=\"display:none;\">\n",
              "        \n",
              "  <svg xmlns=\"http://www.w3.org/2000/svg\" height=\"24px\"viewBox=\"0 0 24 24\"\n",
              "       width=\"24px\">\n",
              "    <path d=\"M0 0h24v24H0V0z\" fill=\"none\"/>\n",
              "    <path d=\"M18.56 5.44l.94 2.06.94-2.06 2.06-.94-2.06-.94-.94-2.06-.94 2.06-2.06.94zm-11 1L8.5 8.5l.94-2.06 2.06-.94-2.06-.94L8.5 2.5l-.94 2.06-2.06.94zm10 10l.94 2.06.94-2.06 2.06-.94-2.06-.94-.94-2.06-.94 2.06-2.06.94z\"/><path d=\"M17.41 7.96l-1.37-1.37c-.4-.4-.92-.59-1.43-.59-.52 0-1.04.2-1.43.59L10.3 9.45l-7.72 7.72c-.78.78-.78 2.05 0 2.83L4 21.41c.39.39.9.59 1.41.59.51 0 1.02-.2 1.41-.59l7.78-7.78 2.81-2.81c.8-.78.8-2.07 0-2.86zM5.41 20L4 18.59l7.72-7.72 1.47 1.35L5.41 20z\"/>\n",
              "  </svg>\n",
              "      </button>\n",
              "      \n",
              "  <style>\n",
              "    .colab-df-container {\n",
              "      display:flex;\n",
              "      flex-wrap:wrap;\n",
              "      gap: 12px;\n",
              "    }\n",
              "\n",
              "    .colab-df-convert {\n",
              "      background-color: #E8F0FE;\n",
              "      border: none;\n",
              "      border-radius: 50%;\n",
              "      cursor: pointer;\n",
              "      display: none;\n",
              "      fill: #1967D2;\n",
              "      height: 32px;\n",
              "      padding: 0 0 0 0;\n",
              "      width: 32px;\n",
              "    }\n",
              "\n",
              "    .colab-df-convert:hover {\n",
              "      background-color: #E2EBFA;\n",
              "      box-shadow: 0px 1px 2px rgba(60, 64, 67, 0.3), 0px 1px 3px 1px rgba(60, 64, 67, 0.15);\n",
              "      fill: #174EA6;\n",
              "    }\n",
              "\n",
              "    [theme=dark] .colab-df-convert {\n",
              "      background-color: #3B4455;\n",
              "      fill: #D2E3FC;\n",
              "    }\n",
              "\n",
              "    [theme=dark] .colab-df-convert:hover {\n",
              "      background-color: #434B5C;\n",
              "      box-shadow: 0px 1px 3px 1px rgba(0, 0, 0, 0.15);\n",
              "      filter: drop-shadow(0px 1px 2px rgba(0, 0, 0, 0.3));\n",
              "      fill: #FFFFFF;\n",
              "    }\n",
              "  </style>\n",
              "\n",
              "      <script>\n",
              "        const buttonEl =\n",
              "          document.querySelector('#df-4009a7b4-0674-4258-8c0c-f7891fbcb4ff button.colab-df-convert');\n",
              "        buttonEl.style.display =\n",
              "          google.colab.kernel.accessAllowed ? 'block' : 'none';\n",
              "\n",
              "        async function convertToInteractive(key) {\n",
              "          const element = document.querySelector('#df-4009a7b4-0674-4258-8c0c-f7891fbcb4ff');\n",
              "          const dataTable =\n",
              "            await google.colab.kernel.invokeFunction('convertToInteractive',\n",
              "                                                     [key], {});\n",
              "          if (!dataTable) return;\n",
              "\n",
              "          const docLinkHtml = 'Like what you see? Visit the ' +\n",
              "            '<a target=\"_blank\" href=https://colab.research.google.com/notebooks/data_table.ipynb>data table notebook</a>'\n",
              "            + ' to learn more about interactive tables.';\n",
              "          element.innerHTML = '';\n",
              "          dataTable['output_type'] = 'display_data';\n",
              "          await google.colab.output.renderOutput(dataTable, element);\n",
              "          const docLink = document.createElement('div');\n",
              "          docLink.innerHTML = docLinkHtml;\n",
              "          element.appendChild(docLink);\n",
              "        }\n",
              "      </script>\n",
              "    </div>\n",
              "  </div>\n",
              "  "
            ]
          },
          "metadata": {},
          "execution_count": 117
        }
      ]
    },
    {
      "cell_type": "code",
      "source": [
        "l1 = [1,2,3,\"ABC\"]\n",
        "l2 = [10,20,30,23.45]\n",
        "a = [*l1, *l2]\n",
        "b = [l1, l2]\n",
        "print(a)\n",
        "print(b)"
      ],
      "metadata": {
        "colab": {
          "base_uri": "https://localhost:8080/"
        },
        "id": "6-XaaBNKxY9x",
        "outputId": "2b01b06c-f72c-4619-e488-803b2353dad3"
      },
      "execution_count": 118,
      "outputs": [
        {
          "output_type": "stream",
          "name": "stdout",
          "text": [
            "[1, 2, 3, 'ABC', 10, 20, 30, 23.45]\n",
            "[[1, 2, 3, 'ABC'], [10, 20, 30, 23.45]]\n"
          ]
        }
      ]
    },
    {
      "cell_type": "code",
      "source": [
        "l1 = [10,20,30,40,50,60,70,'a','p']\n",
        "print(l1[-1::-3])\n",
        "print(l1[-2::-4])"
      ],
      "metadata": {
        "colab": {
          "base_uri": "https://localhost:8080/"
        },
        "id": "DHPFsDgoxZAI",
        "outputId": "1c955637-ea0a-481e-8e2a-0348056eea77"
      },
      "execution_count": 119,
      "outputs": [
        {
          "output_type": "stream",
          "name": "stdout",
          "text": [
            "['p', 60, 30]\n",
            "['a', 40]\n"
          ]
        }
      ]
    },
    {
      "cell_type": "code",
      "source": [
        "l1 = [1,2,3,4,5]\n",
        "l2 = (6,7,8,9,10)\n",
        "func = lambda l1,l2 :l1+l2\n",
        "print(func)"
      ],
      "metadata": {
        "id": "feK0b9BoxZDw"
      },
      "execution_count": null,
      "outputs": []
    },
    {
      "cell_type": "code",
      "source": [
        "l=[1,2,3,4,5,6]\n",
        "func = lambda l : l*2\n",
        "print(func)"
      ],
      "metadata": {
        "id": "V2gDH28T1RU4"
      },
      "execution_count": null,
      "outputs": []
    },
    {
      "cell_type": "code",
      "source": [
        "import csv\n",
        "\n",
        "f1=open(\"/content/drive/MyDrive/stud.csv\",\"r\")\n",
        "f2=open(\"/content/drive/MyDrive/cg.csv\",\"r\")\n",
        "f3=open(\"stud_info\",\"w\")\n",
        "\n",
        "d1=list(csv.reader(f1,delimiter=\",\"))\n",
        "d2=list(csv.reader(f2,delimiter=\",\"))\n",
        "\n",
        "print(\"\\nFile 1 contents: \",d1)\n",
        "print(\"\\nFile 2 contents: \",d2)\n",
        "d3=[]\n",
        "for i in range (len(d1)):\n",
        "  d3.append(d1[i]+d2[i])\n",
        "\n",
        "print(d3)\n",
        "cw=csv.writer(f3)\n",
        "cw.writerows(d3)\n",
        "\n",
        "print(max(d3))\n",
        "\n",
        "f1.close()\n",
        "f2.close()\n",
        "f3.close()\n",
        "cgpa=[]\n",
        "with open('/content/stud_info', mode ='r')as file:\n",
        "\n",
        "  csvFile = csv.reader(file)\n",
        "\n",
        "\n",
        "  for lines in csvFile:\n",
        "    cgpa.append(float(lines[4]))\n",
        "\n",
        "\n",
        "print(\"\\nMaximum cgpa:\", max(cgpa))\n",
        "print(\"Minimum cgpa:\", min(cgpa))"
      ],
      "metadata": {
        "colab": {
          "base_uri": "https://localhost:8080/"
        },
        "id": "-kTVCzkE1qFz",
        "outputId": "8486810b-b39a-4a54-9719-ceb84641eb74"
      },
      "execution_count": 126,
      "outputs": [
        {
          "output_type": "stream",
          "name": "stdout",
          "text": [
            "\n",
            "File 1 contents:  [['1', 'Joy', '101'], ['2', 'Josh', '102'], ['3', 'James', '103'], ['4', 'Jack', '104'], ['5', 'Judy', '105']]\n",
            "\n",
            "File 2 contents:  [['1', '9.9'], ['2', '9.8'], ['3', '9.7'], ['4', '8.2'], ['5', '7.9']]\n",
            "[['1', 'Joy', '101', '1', '9.9'], ['2', 'Josh', '102', '2', '9.8'], ['3', 'James', '103', '3', '9.7'], ['4', 'Jack', '104', '4', '8.2'], ['5', 'Judy', '105', '5', '7.9']]\n",
            "['5', 'Judy', '105', '5', '7.9']\n",
            "\n",
            "Maximum cgpa: 9.9\n",
            "Minimum cgpa: 7.9\n"
          ]
        }
      ]
    },
    {
      "cell_type": "code",
      "source": [
        "# Python Modules\n",
        "# Module is a file containing a set of function you want to include in your application\n",
        "# import math library\n",
        "import math\n",
        "\n",
        "#return the value of 9 raised to the power of 3\n",
        "print(math.pow(9 ,3))"
      ],
      "metadata": {
        "colab": {
          "base_uri": "https://localhost:8080/"
        },
        "id": "lnzPUxwn3wn_",
        "outputId": "a1b4d9e8-80f2-4f9b-c5e2-4bae58d91f2d"
      },
      "execution_count": 127,
      "outputs": [
        {
          "output_type": "stream",
          "name": "stdout",
          "text": [
            "729.0\n"
          ]
        }
      ]
    },
    {
      "cell_type": "code",
      "source": [
        "# itertools in Python\n",
        "from itertools import count\n",
        "for number in count(start = 5, step = 3):\n",
        "    if number >10:\n",
        "      break\n",
        "    print(number)"
      ],
      "metadata": {
        "colab": {
          "base_uri": "https://localhost:8080/"
        },
        "id": "kgoFpUK64AX9",
        "outputId": "ce448e87-949b-4031-906f-eaae0524fa11"
      },
      "execution_count": 128,
      "outputs": [
        {
          "output_type": "stream",
          "name": "stdout",
          "text": [
            "5\n",
            "8\n"
          ]
        }
      ]
    },
    {
      "cell_type": "code",
      "source": [
        "x = range (3,10)\n",
        "for n in x:\n",
        "  print(n)"
      ],
      "metadata": {
        "colab": {
          "base_uri": "https://localhost:8080/"
        },
        "id": "EBgNCaGT4ZAI",
        "outputId": "63fafbf7-b898-4211-fa18-6ca63fe7b983"
      },
      "execution_count": 129,
      "outputs": [
        {
          "output_type": "stream",
          "name": "stdout",
          "text": [
            "3\n",
            "4\n",
            "5\n",
            "6\n",
            "7\n",
            "8\n",
            "9\n"
          ]
        }
      ]
    },
    {
      "cell_type": "code",
      "source": [
        "#number arithmetic\n",
        "from fractions import Fraction\n",
        "print(Fraction(84,21))\n",
        "print(Fraction(81,7))\n",
        "print(Fraction(23,17))"
      ],
      "metadata": {
        "colab": {
          "base_uri": "https://localhost:8080/"
        },
        "id": "W5fv_XH64gKd",
        "outputId": "be3beb3e-6edd-4c9a-b974-6891ab0fee7f"
      },
      "execution_count": 130,
      "outputs": [
        {
          "output_type": "stream",
          "name": "stdout",
          "text": [
            "4\n",
            "81/7\n",
            "23/17\n"
          ]
        }
      ]
    },
    {
      "cell_type": "code",
      "source": [
        "import decimal\n",
        "float_division = 22/7\n",
        "decimal_devision = decimal.Decimal(22)/decimal.Decimal(7)\n",
        "print(\"Result for float division of 4 by 3 \")\n",
        "print(float_division)\n",
        "print(\"Result for decimal division of 4 by 3 \")\n",
        "print(decimal_devision)\n",
        "\n"
      ],
      "metadata": {
        "colab": {
          "base_uri": "https://localhost:8080/"
        },
        "id": "279j4XCX4oLA",
        "outputId": "eb408509-e167-4987-f342-ee14fcf5426d"
      },
      "execution_count": 131,
      "outputs": [
        {
          "output_type": "stream",
          "name": "stdout",
          "text": [
            "Result for float division of 4 by 3 \n",
            "3.142857142857143\n",
            "Result for decimal division of 4 by 3 \n",
            "3.142857142857142857142857143\n"
          ]
        }
      ]
    },
    {
      "cell_type": "code",
      "source": [
        "from decimal import Decimal\n",
        "x = Decimal ('0.8')\n",
        "y = Decimal ('0.9')\n",
        "z = Decimal ('0.7')\n",
        "s = x + y + z\n",
        "print(s)"
      ],
      "metadata": {
        "colab": {
          "base_uri": "https://localhost:8080/"
        },
        "id": "aBoN7yyU4stE",
        "outputId": "22ae9ef9-5376-48da-bf94-bc90b2146296"
      },
      "execution_count": 132,
      "outputs": [
        {
          "output_type": "stream",
          "name": "stdout",
          "text": [
            "2.4\n"
          ]
        }
      ]
    },
    {
      "cell_type": "code",
      "source": [
        "#operator.add, sub, mul\n",
        "import operator\n",
        "# Initializing variables\n",
        "a = 4\n",
        "b = 3\n",
        "print(\"The addition of numbers is :\", end = \"\")\n",
        "print(operator.add(a,b))\n",
        "print(\"The subtract of numbers is :\", end = \"\")\n",
        "print(operator.sub(a,b))\n",
        "print(\"The product of numbers is :\", end = \"\")\n",
        "print(operator.mul(a,b))"
      ],
      "metadata": {
        "colab": {
          "base_uri": "https://localhost:8080/"
        },
        "id": "8CZ_18rD41pr",
        "outputId": "7ee5107d-8168-4a6a-b199-705f95d7bf51"
      },
      "execution_count": 133,
      "outputs": [
        {
          "output_type": "stream",
          "name": "stdout",
          "text": [
            "The addition of numbers is :7\n",
            "The subtract of numbers is :1\n",
            "The product of numbers is :12\n"
          ]
        }
      ]
    },
    {
      "cell_type": "code",
      "source": [
        "import pandas as pd\n",
        "c\n",
        "df= pd.read_excel('/content/drive/MyDrive/NewBook1.xlsx', header=None)\n",
        "df1=  pd.read_excel('/content/drive/MyDrive/NewBook2.xlsx', header=None)\n",
        "array = df.to_numpy()\n",
        "array1 = df1.to_numpy()\n",
        "print(array)\n",
        "print(array1)"
      ],
      "metadata": {
        "colab": {
          "base_uri": "https://localhost:8080/"
        },
        "id": "F9IJ9-lB5FUJ",
        "outputId": "9c6d03e8-434a-4143-df41-ca1b3ba494fe"
      },
      "execution_count": 134,
      "outputs": [
        {
          "output_type": "stream",
          "name": "stdout",
          "text": [
            "[['SR No.' 'FY Subjects (batch 1)' nan 'Course Credits' 'Course code']\n",
            " ['1)' 'EDS Practical' nan 4 '#123xyz']\n",
            " ['2)' 'EDS Theory' nan 4 '#123xyz']\n",
            " ['3)' 'SIC Tutorial' nan 4 '#123xyz']\n",
            " ['4)' 'SIC Theory' nan 4 '#123xyz']\n",
            " ['5)' 'DT Theory' nan 4 '#123xyz']\n",
            " ['6)' 'DT Practical' nan 4 '#123xyz']\n",
            " ['7)' 'SON LAB' nan 4 '#123xyz']\n",
            " ['8)' 'SON Theory' nan 4 '#123xyz']\n",
            " ['9)' 'AM Theory' nan 4 '#123xyz']\n",
            " ['10)' 'AM Practical' nan 4 '#123xyz']]\n",
            "[['SR No.' 'Division' 'No. of students' 'Average Attendance']\n",
            " ['1)' 'A' 85 0.78]\n",
            " ['2)' 'B' 85 0.78]\n",
            " ['3)' 'C' 85 0.78]\n",
            " ['4)' 'D ' 85 0.78]\n",
            " ['5)' 'E' 85 0.78]\n",
            " ['6)' 'F' 85 0.78]\n",
            " ['7)' 'G' 85 0.78]\n",
            " ['8)' 'H' 85 0.78]\n",
            " ['9)' 'I' 85 0.78]\n",
            " ['10)' 'J' 85 0.78]]\n"
          ]
        }
      ]
    },
    {
      "cell_type": "code",
      "source": [
        "matrix_length= len(array)\n",
        "print(matrix_length)"
      ],
      "metadata": {
        "colab": {
          "base_uri": "https://localhost:8080/"
        },
        "id": "vzVeEICz5XXA",
        "outputId": "6b890c3e-fb11-4f89-9f17-51b2a0e62b05"
      },
      "execution_count": 136,
      "outputs": [
        {
          "output_type": "stream",
          "name": "stdout",
          "text": [
            "11\n"
          ]
        }
      ]
    },
    {
      "cell_type": "code",
      "source": [
        "for i in range(matrix_length):\n",
        "  print(array[i][1])"
      ],
      "metadata": {
        "colab": {
          "base_uri": "https://localhost:8080/"
        },
        "id": "OR1WPeyV5eh7",
        "outputId": "bfe9f29d-910d-4f81-c31d-7f7f3a0da581"
      },
      "execution_count": 137,
      "outputs": [
        {
          "output_type": "stream",
          "name": "stdout",
          "text": [
            "FY Subjects (batch 1)\n",
            "EDS Practical\n",
            "EDS Theory\n",
            "SIC Tutorial\n",
            "SIC Theory\n",
            "DT Theory\n",
            "DT Practical\n",
            "SON LAB\n",
            "SON Theory\n",
            "AM Theory\n",
            "AM Practical\n"
          ]
        }
      ]
    },
    {
      "cell_type": "code",
      "source": [
        "for i in range(matrix_length):\n",
        "  print(array[i])"
      ],
      "metadata": {
        "colab": {
          "base_uri": "https://localhost:8080/"
        },
        "id": "44Ytdjmv5jUs",
        "outputId": "32156800-7c0b-47cd-f592-de99d062b102"
      },
      "execution_count": 138,
      "outputs": [
        {
          "output_type": "stream",
          "name": "stdout",
          "text": [
            "['SR No.' 'FY Subjects (batch 1)' nan 'Course Credits' 'Course code']\n",
            "['1)' 'EDS Practical' nan 4 '#123xyz']\n",
            "['2)' 'EDS Theory' nan 4 '#123xyz']\n",
            "['3)' 'SIC Tutorial' nan 4 '#123xyz']\n",
            "['4)' 'SIC Theory' nan 4 '#123xyz']\n",
            "['5)' 'DT Theory' nan 4 '#123xyz']\n",
            "['6)' 'DT Practical' nan 4 '#123xyz']\n",
            "['7)' 'SON LAB' nan 4 '#123xyz']\n",
            "['8)' 'SON Theory' nan 4 '#123xyz']\n",
            "['9)' 'AM Theory' nan 4 '#123xyz']\n",
            "['10)' 'AM Practical' nan 4 '#123xyz']\n"
          ]
        }
      ]
    },
    {
      "cell_type": "code",
      "source": [
        "#transpose operation on aaray\n",
        "print(array.T)"
      ],
      "metadata": {
        "colab": {
          "base_uri": "https://localhost:8080/"
        },
        "id": "NgIMOmLU5n4V",
        "outputId": "09e618d1-3c64-4c15-a332-201f8ee30caf"
      },
      "execution_count": 139,
      "outputs": [
        {
          "output_type": "stream",
          "name": "stdout",
          "text": [
            "[['SR No.' '1)' '2)' '3)' '4)' '5)' '6)' '7)' '8)' '9)' '10)']\n",
            " ['FY Subjects (batch 1)' 'EDS Practical' 'EDS Theory' 'SIC Tutorial'\n",
            "  'SIC Theory' 'DT Theory' 'DT Practical' 'SON LAB' 'SON Theory'\n",
            "  'AM Theory' 'AM Practical']\n",
            " [nan nan nan nan nan nan nan nan nan nan nan]\n",
            " ['Course Credits' 4 4 4 4 4 4 4 4 4 4]\n",
            " ['Course code' '#123xyz' '#123xyz' '#123xyz' '#123xyz' '#123xyz'\n",
            "  '#123xyz' '#123xyz' '#123xyz' '#123xyz' '#123xyz']]\n"
          ]
        }
      ]
    },
    {
      "cell_type": "code",
      "source": [
        "array1= array1[array1[:, 1].argsort(kind='mergesor')]\n",
        "print(array1)"
      ],
      "metadata": {
        "colab": {
          "base_uri": "https://localhost:8080/"
        },
        "id": "-DeWnGUA5ujO",
        "outputId": "7ce529ab-a875-4e09-d2c0-398a038506bc"
      },
      "execution_count": 140,
      "outputs": [
        {
          "output_type": "stream",
          "name": "stdout",
          "text": [
            "[['1)' 'A' 85 0.78]\n",
            " ['2)' 'B' 85 0.78]\n",
            " ['3)' 'C' 85 0.78]\n",
            " ['4)' 'D ' 85 0.78]\n",
            " ['SR No.' 'Division' 'No. of students' 'Average Attendance']\n",
            " ['5)' 'E' 85 0.78]\n",
            " ['6)' 'F' 85 0.78]\n",
            " ['7)' 'G' 85 0.78]\n",
            " ['8)' 'H' 85 0.78]\n",
            " ['9)' 'I' 85 0.78]\n",
            " ['10)' 'J' 85 0.78]]\n"
          ]
        }
      ]
    },
    {
      "cell_type": "code",
      "source": [
        "array3 = array1.view()\n",
        "print(array3)"
      ],
      "metadata": {
        "colab": {
          "base_uri": "https://localhost:8080/"
        },
        "id": "urzwRya35z6U",
        "outputId": "aa0073b4-8baf-4608-e524-bb9c790c97b4"
      },
      "execution_count": 141,
      "outputs": [
        {
          "output_type": "stream",
          "name": "stdout",
          "text": [
            "[['1)' 'A' 85 0.78]\n",
            " ['2)' 'B' 85 0.78]\n",
            " ['3)' 'C' 85 0.78]\n",
            " ['4)' 'D ' 85 0.78]\n",
            " ['SR No.' 'Division' 'No. of students' 'Average Attendance']\n",
            " ['5)' 'E' 85 0.78]\n",
            " ['6)' 'F' 85 0.78]\n",
            " ['7)' 'G' 85 0.78]\n",
            " ['8)' 'H' 85 0.78]\n",
            " ['9)' 'I' 85 0.78]\n",
            " ['10)' 'J' 85 0.78]]\n"
          ]
        }
      ]
    },
    {
      "cell_type": "code",
      "source": [
        "array4 = array1.copy()\n",
        "print(array4)"
      ],
      "metadata": {
        "colab": {
          "base_uri": "https://localhost:8080/"
        },
        "id": "eLO6dcuN54UM",
        "outputId": "204c8881-1f14-46bb-dac9-eb3425c27162"
      },
      "execution_count": 142,
      "outputs": [
        {
          "output_type": "stream",
          "name": "stdout",
          "text": [
            "[['1)' 'A' 85 0.78]\n",
            " ['2)' 'B' 85 0.78]\n",
            " ['3)' 'C' 85 0.78]\n",
            " ['4)' 'D ' 85 0.78]\n",
            " ['SR No.' 'Division' 'No. of students' 'Average Attendance']\n",
            " ['5)' 'E' 85 0.78]\n",
            " ['6)' 'F' 85 0.78]\n",
            " ['7)' 'G' 85 0.78]\n",
            " ['8)' 'H' 85 0.78]\n",
            " ['9)' 'I' 85 0.78]\n",
            " ['10)' 'J' 85 0.78]]\n"
          ]
        }
      ]
    },
    {
      "cell_type": "code",
      "source": [
        "import pandas as pd\n",
        "import numpy as np\n",
        "df = pd.read_excel('/content/drive/MyDrive/25.1.xlsx', header=None)\n",
        "df1 = pd.read_excel('/content/drive/MyDrive/25.2.xlsx', header=None)\n",
        "array = df.to_numpy()\n",
        "array1 = df1.to_numpy()\n",
        "print(array)\n",
        "print(array1)"
      ],
      "metadata": {
        "colab": {
          "base_uri": "https://localhost:8080/"
        },
        "id": "3mHQK8w_54XN",
        "outputId": "4e3e5af9-58bb-4d1b-958d-8dd6e44a4ddd"
      },
      "execution_count": 143,
      "outputs": [
        {
          "output_type": "stream",
          "name": "stdout",
          "text": [
            "[['Roll No.' 'Student Name ' 'Age']\n",
            " [1 'Vipul' 18]\n",
            " [2 'Yaseen ' 18]\n",
            " [3 'Anish' 18]\n",
            " [4 'Gaurav' 18]\n",
            " [5 'Alvin' 18]\n",
            " [6 'Siddhant' 18]\n",
            " [7 'Pranav' 18]\n",
            " [8 'Lukesh' 18]\n",
            " [9 'Rohan' 18]\n",
            " [10 'Rahul' 18]\n",
            " [11 'Rohit' 18]\n",
            " [12 'Mayur' 18]\n",
            " [13 'Yash' 18]\n",
            " [14 'Mayank' 18]\n",
            " [15 'Aftab' 18]\n",
            " [16 'Sahil' 18]]\n",
            "[['Roll No.' 'Student Name ' 'DOB']\n",
            " [1 'Vipul' datetime.datetime(2004, 3, 11, 0, 0)]\n",
            " [2 'Yaseen ' datetime.datetime(2004, 3, 1, 0, 0)]\n",
            " [3 'Anish' datetime.datetime(2004, 3, 2, 0, 0)]\n",
            " [4 'Gaurav' datetime.datetime(2004, 3, 3, 0, 0)]\n",
            " [5 'Alvin' datetime.datetime(2004, 3, 4, 0, 0)]\n",
            " [6 'Siddhant' datetime.datetime(2004, 3, 5, 0, 0)]\n",
            " [7 'Pranav' datetime.datetime(2004, 3, 6, 0, 0)]\n",
            " [8 'Lukesh' datetime.datetime(2004, 3, 7, 0, 0)]\n",
            " [9 'Rohan' datetime.datetime(2004, 3, 8, 0, 0)]\n",
            " [10 'Rahul' datetime.datetime(2004, 3, 9, 0, 0)]\n",
            " [11 'Rohit' datetime.datetime(2004, 3, 10, 0, 0)]\n",
            " [12 'Mayur' datetime.datetime(2004, 3, 11, 0, 0)]\n",
            " [13 'Yash' datetime.datetime(2004, 8, 1, 0, 0)]\n",
            " [14 'Mayank' datetime.datetime(2004, 8, 2, 0, 0)]\n",
            " [15 'Aftab' datetime.datetime(2004, 8, 3, 0, 0)]\n",
            " [16 'Sahil' datetime.datetime(2004, 8, 4, 0, 0)]]\n"
          ]
        }
      ]
    },
    {
      "cell_type": "code",
      "source": [
        "# List of numbers\n",
        "list1 = [10, 20, 4, 45, 99]\n",
        "\n",
        "# Printing the maximum element\n",
        "print(\"Largest element is :\", max(list1))# List of numbers\n",
        "list1 = [10, 20, 4, 45, 99]\n",
        "\n",
        "# Printing the maximum element\n",
        "print(\"Largest element is :\", max(list1))"
      ],
      "metadata": {
        "colab": {
          "base_uri": "https://localhost:8080/"
        },
        "id": "8Nd7v78254Z-",
        "outputId": "ee7bfa11-9fc7-47d2-87ee-c0848a654332"
      },
      "execution_count": 1,
      "outputs": [
        {
          "output_type": "stream",
          "name": "stdout",
          "text": [
            "Largest element is : 99\n",
            "Largest element is : 99\n"
          ]
        }
      ]
    },
    {
      "cell_type": "code",
      "source": [
        "# Data science using python\n",
        "import pandas as pd\n",
        "df = pd.read_excel('/content/drive/MyDrive/hobbies.xlsx')\n",
        "print(df)\n",
        "print('\\n')\n",
        "df1 = pd.read_excel('/content/drive/MyDrive/hobbies (2).xlsx')\n",
        "print(df1)\n"
      ],
      "metadata": {
        "colab": {
          "base_uri": "https://localhost:8080/"
        },
        "id": "1AInF9SO54dj",
        "outputId": "ab936306-b18d-46e4-c38c-aa16e909c0e8"
      },
      "execution_count": 2,
      "outputs": [
        {
          "output_type": "stream",
          "name": "stdout",
          "text": [
            "      name division  roll no    hobbies       branch        DOB\n",
            "0    vipul       D         1   football  electronics 2004-03-11\n",
            "1   yaseen        A        2       judo           cs 2004-01-12\n",
            "2   akshay        A        3    cricket        civil 2004-01-11\n",
            "3    anish        B        4      chess         entc 2004-01-04\n",
            "4    rahul        C        5    kabbadi     chemical 2004-03-02\n",
            "5    rohan       D         6     tennis   mechanical 2004-03-03\n",
            "6   sumedh        A        7       pool         entc 2004-03-04\n",
            "7  shubham        B        8   swimming  electronics 2004-03-05\n",
            "8    alvin        B        9  wrestling           cs 2004-03-06\n",
            "9   gaurav        C       10    talking   mechanical 2004-03-07\n",
            "\n",
            "\n",
            "      name         prn  percentage(%)     address\n",
            "0    vipul  2022010661             99        pune\n",
            "1   yaseen  2022010662             99      mumbai\n",
            "2   akshay  2022010663             91        pune\n",
            "3    anish  2022010664             92      nagpur\n",
            "4    rahul  2022010665             96       delhi\n",
            "5    rohan  2022010666             93        beed\n",
            "6   sumedh  2022010667             95  aurangabad\n",
            "7  shubham  2022010668             90     kolkata\n",
            "8    alvin  2022010669             99         usa\n",
            "9   gaurav  2022010670             94          uk\n"
          ]
        }
      ]
    },
    {
      "cell_type": "code",
      "source": [
        "#sort the record in ascending order\n",
        "import pandas as pa\n",
        "df1.sort_values(by=['percentage(%)'])"
      ],
      "metadata": {
        "colab": {
          "base_uri": "https://localhost:8080/",
          "height": 363
        },
        "id": "jr9z9-nFggxj",
        "outputId": "7227a2df-deb6-42bc-8be1-e19ddcaf6c0c"
      },
      "execution_count": 3,
      "outputs": [
        {
          "output_type": "execute_result",
          "data": {
            "text/plain": [
              "      name         prn  percentage(%)     address\n",
              "7  shubham  2022010668             90     kolkata\n",
              "2   akshay  2022010663             91        pune\n",
              "3    anish  2022010664             92      nagpur\n",
              "5    rohan  2022010666             93        beed\n",
              "9   gaurav  2022010670             94          uk\n",
              "6   sumedh  2022010667             95  aurangabad\n",
              "4    rahul  2022010665             96       delhi\n",
              "0    vipul  2022010661             99        pune\n",
              "1   yaseen  2022010662             99      mumbai\n",
              "8    alvin  2022010669             99         usa"
            ],
            "text/html": [
              "\n",
              "  <div id=\"df-8ba6914a-da47-4f2c-9061-dd4a70227d72\">\n",
              "    <div class=\"colab-df-container\">\n",
              "      <div>\n",
              "<style scoped>\n",
              "    .dataframe tbody tr th:only-of-type {\n",
              "        vertical-align: middle;\n",
              "    }\n",
              "\n",
              "    .dataframe tbody tr th {\n",
              "        vertical-align: top;\n",
              "    }\n",
              "\n",
              "    .dataframe thead th {\n",
              "        text-align: right;\n",
              "    }\n",
              "</style>\n",
              "<table border=\"1\" class=\"dataframe\">\n",
              "  <thead>\n",
              "    <tr style=\"text-align: right;\">\n",
              "      <th></th>\n",
              "      <th>name</th>\n",
              "      <th>prn</th>\n",
              "      <th>percentage(%)</th>\n",
              "      <th>address</th>\n",
              "    </tr>\n",
              "  </thead>\n",
              "  <tbody>\n",
              "    <tr>\n",
              "      <th>7</th>\n",
              "      <td>shubham</td>\n",
              "      <td>2022010668</td>\n",
              "      <td>90</td>\n",
              "      <td>kolkata</td>\n",
              "    </tr>\n",
              "    <tr>\n",
              "      <th>2</th>\n",
              "      <td>akshay</td>\n",
              "      <td>2022010663</td>\n",
              "      <td>91</td>\n",
              "      <td>pune</td>\n",
              "    </tr>\n",
              "    <tr>\n",
              "      <th>3</th>\n",
              "      <td>anish</td>\n",
              "      <td>2022010664</td>\n",
              "      <td>92</td>\n",
              "      <td>nagpur</td>\n",
              "    </tr>\n",
              "    <tr>\n",
              "      <th>5</th>\n",
              "      <td>rohan</td>\n",
              "      <td>2022010666</td>\n",
              "      <td>93</td>\n",
              "      <td>beed</td>\n",
              "    </tr>\n",
              "    <tr>\n",
              "      <th>9</th>\n",
              "      <td>gaurav</td>\n",
              "      <td>2022010670</td>\n",
              "      <td>94</td>\n",
              "      <td>uk</td>\n",
              "    </tr>\n",
              "    <tr>\n",
              "      <th>6</th>\n",
              "      <td>sumedh</td>\n",
              "      <td>2022010667</td>\n",
              "      <td>95</td>\n",
              "      <td>aurangabad</td>\n",
              "    </tr>\n",
              "    <tr>\n",
              "      <th>4</th>\n",
              "      <td>rahul</td>\n",
              "      <td>2022010665</td>\n",
              "      <td>96</td>\n",
              "      <td>delhi</td>\n",
              "    </tr>\n",
              "    <tr>\n",
              "      <th>0</th>\n",
              "      <td>vipul</td>\n",
              "      <td>2022010661</td>\n",
              "      <td>99</td>\n",
              "      <td>pune</td>\n",
              "    </tr>\n",
              "    <tr>\n",
              "      <th>1</th>\n",
              "      <td>yaseen</td>\n",
              "      <td>2022010662</td>\n",
              "      <td>99</td>\n",
              "      <td>mumbai</td>\n",
              "    </tr>\n",
              "    <tr>\n",
              "      <th>8</th>\n",
              "      <td>alvin</td>\n",
              "      <td>2022010669</td>\n",
              "      <td>99</td>\n",
              "      <td>usa</td>\n",
              "    </tr>\n",
              "  </tbody>\n",
              "</table>\n",
              "</div>\n",
              "      <button class=\"colab-df-convert\" onclick=\"convertToInteractive('df-8ba6914a-da47-4f2c-9061-dd4a70227d72')\"\n",
              "              title=\"Convert this dataframe to an interactive table.\"\n",
              "              style=\"display:none;\">\n",
              "        \n",
              "  <svg xmlns=\"http://www.w3.org/2000/svg\" height=\"24px\"viewBox=\"0 0 24 24\"\n",
              "       width=\"24px\">\n",
              "    <path d=\"M0 0h24v24H0V0z\" fill=\"none\"/>\n",
              "    <path d=\"M18.56 5.44l.94 2.06.94-2.06 2.06-.94-2.06-.94-.94-2.06-.94 2.06-2.06.94zm-11 1L8.5 8.5l.94-2.06 2.06-.94-2.06-.94L8.5 2.5l-.94 2.06-2.06.94zm10 10l.94 2.06.94-2.06 2.06-.94-2.06-.94-.94-2.06-.94 2.06-2.06.94z\"/><path d=\"M17.41 7.96l-1.37-1.37c-.4-.4-.92-.59-1.43-.59-.52 0-1.04.2-1.43.59L10.3 9.45l-7.72 7.72c-.78.78-.78 2.05 0 2.83L4 21.41c.39.39.9.59 1.41.59.51 0 1.02-.2 1.41-.59l7.78-7.78 2.81-2.81c.8-.78.8-2.07 0-2.86zM5.41 20L4 18.59l7.72-7.72 1.47 1.35L5.41 20z\"/>\n",
              "  </svg>\n",
              "      </button>\n",
              "      \n",
              "  <style>\n",
              "    .colab-df-container {\n",
              "      display:flex;\n",
              "      flex-wrap:wrap;\n",
              "      gap: 12px;\n",
              "    }\n",
              "\n",
              "    .colab-df-convert {\n",
              "      background-color: #E8F0FE;\n",
              "      border: none;\n",
              "      border-radius: 50%;\n",
              "      cursor: pointer;\n",
              "      display: none;\n",
              "      fill: #1967D2;\n",
              "      height: 32px;\n",
              "      padding: 0 0 0 0;\n",
              "      width: 32px;\n",
              "    }\n",
              "\n",
              "    .colab-df-convert:hover {\n",
              "      background-color: #E2EBFA;\n",
              "      box-shadow: 0px 1px 2px rgba(60, 64, 67, 0.3), 0px 1px 3px 1px rgba(60, 64, 67, 0.15);\n",
              "      fill: #174EA6;\n",
              "    }\n",
              "\n",
              "    [theme=dark] .colab-df-convert {\n",
              "      background-color: #3B4455;\n",
              "      fill: #D2E3FC;\n",
              "    }\n",
              "\n",
              "    [theme=dark] .colab-df-convert:hover {\n",
              "      background-color: #434B5C;\n",
              "      box-shadow: 0px 1px 3px 1px rgba(0, 0, 0, 0.15);\n",
              "      filter: drop-shadow(0px 1px 2px rgba(0, 0, 0, 0.3));\n",
              "      fill: #FFFFFF;\n",
              "    }\n",
              "  </style>\n",
              "\n",
              "      <script>\n",
              "        const buttonEl =\n",
              "          document.querySelector('#df-8ba6914a-da47-4f2c-9061-dd4a70227d72 button.colab-df-convert');\n",
              "        buttonEl.style.display =\n",
              "          google.colab.kernel.accessAllowed ? 'block' : 'none';\n",
              "\n",
              "        async function convertToInteractive(key) {\n",
              "          const element = document.querySelector('#df-8ba6914a-da47-4f2c-9061-dd4a70227d72');\n",
              "          const dataTable =\n",
              "            await google.colab.kernel.invokeFunction('convertToInteractive',\n",
              "                                                     [key], {});\n",
              "          if (!dataTable) return;\n",
              "\n",
              "          const docLinkHtml = 'Like what you see? Visit the ' +\n",
              "            '<a target=\"_blank\" href=https://colab.research.google.com/notebooks/data_table.ipynb>data table notebook</a>'\n",
              "            + ' to learn more about interactive tables.';\n",
              "          element.innerHTML = '';\n",
              "          dataTable['output_type'] = 'display_data';\n",
              "          await google.colab.output.renderOutput(dataTable, element);\n",
              "          const docLink = document.createElement('div');\n",
              "          docLink.innerHTML = docLinkHtml;\n",
              "          element.appendChild(docLink);\n",
              "        }\n",
              "      </script>\n",
              "    </div>\n",
              "  </div>\n",
              "  "
            ]
          },
          "metadata": {},
          "execution_count": 3
        }
      ]
    },
    {
      "cell_type": "code",
      "source": [
        "display(df,df1)"
      ],
      "metadata": {
        "colab": {
          "base_uri": "https://localhost:8080/",
          "height": 708
        },
        "id": "4cUCtbw_glxL",
        "outputId": "0f002c5c-ec16-4e02-b624-3718726cfc04"
      },
      "execution_count": 4,
      "outputs": [
        {
          "output_type": "display_data",
          "data": {
            "text/plain": [
              "      name division  roll no    hobbies       branch        DOB\n",
              "0    vipul       D         1   football  electronics 2004-03-11\n",
              "1   yaseen        A        2       judo           cs 2004-01-12\n",
              "2   akshay        A        3    cricket        civil 2004-01-11\n",
              "3    anish        B        4      chess         entc 2004-01-04\n",
              "4    rahul        C        5    kabbadi     chemical 2004-03-02\n",
              "5    rohan       D         6     tennis   mechanical 2004-03-03\n",
              "6   sumedh        A        7       pool         entc 2004-03-04\n",
              "7  shubham        B        8   swimming  electronics 2004-03-05\n",
              "8    alvin        B        9  wrestling           cs 2004-03-06\n",
              "9   gaurav        C       10    talking   mechanical 2004-03-07"
            ],
            "text/html": [
              "\n",
              "  <div id=\"df-664aec29-50b9-42dd-8f13-7011ec0767ae\">\n",
              "    <div class=\"colab-df-container\">\n",
              "      <div>\n",
              "<style scoped>\n",
              "    .dataframe tbody tr th:only-of-type {\n",
              "        vertical-align: middle;\n",
              "    }\n",
              "\n",
              "    .dataframe tbody tr th {\n",
              "        vertical-align: top;\n",
              "    }\n",
              "\n",
              "    .dataframe thead th {\n",
              "        text-align: right;\n",
              "    }\n",
              "</style>\n",
              "<table border=\"1\" class=\"dataframe\">\n",
              "  <thead>\n",
              "    <tr style=\"text-align: right;\">\n",
              "      <th></th>\n",
              "      <th>name</th>\n",
              "      <th>division</th>\n",
              "      <th>roll no</th>\n",
              "      <th>hobbies</th>\n",
              "      <th>branch</th>\n",
              "      <th>DOB</th>\n",
              "    </tr>\n",
              "  </thead>\n",
              "  <tbody>\n",
              "    <tr>\n",
              "      <th>0</th>\n",
              "      <td>vipul</td>\n",
              "      <td>D</td>\n",
              "      <td>1</td>\n",
              "      <td>football</td>\n",
              "      <td>electronics</td>\n",
              "      <td>2004-03-11</td>\n",
              "    </tr>\n",
              "    <tr>\n",
              "      <th>1</th>\n",
              "      <td>yaseen</td>\n",
              "      <td>A</td>\n",
              "      <td>2</td>\n",
              "      <td>judo</td>\n",
              "      <td>cs</td>\n",
              "      <td>2004-01-12</td>\n",
              "    </tr>\n",
              "    <tr>\n",
              "      <th>2</th>\n",
              "      <td>akshay</td>\n",
              "      <td>A</td>\n",
              "      <td>3</td>\n",
              "      <td>cricket</td>\n",
              "      <td>civil</td>\n",
              "      <td>2004-01-11</td>\n",
              "    </tr>\n",
              "    <tr>\n",
              "      <th>3</th>\n",
              "      <td>anish</td>\n",
              "      <td>B</td>\n",
              "      <td>4</td>\n",
              "      <td>chess</td>\n",
              "      <td>entc</td>\n",
              "      <td>2004-01-04</td>\n",
              "    </tr>\n",
              "    <tr>\n",
              "      <th>4</th>\n",
              "      <td>rahul</td>\n",
              "      <td>C</td>\n",
              "      <td>5</td>\n",
              "      <td>kabbadi</td>\n",
              "      <td>chemical</td>\n",
              "      <td>2004-03-02</td>\n",
              "    </tr>\n",
              "    <tr>\n",
              "      <th>5</th>\n",
              "      <td>rohan</td>\n",
              "      <td>D</td>\n",
              "      <td>6</td>\n",
              "      <td>tennis</td>\n",
              "      <td>mechanical</td>\n",
              "      <td>2004-03-03</td>\n",
              "    </tr>\n",
              "    <tr>\n",
              "      <th>6</th>\n",
              "      <td>sumedh</td>\n",
              "      <td>A</td>\n",
              "      <td>7</td>\n",
              "      <td>pool</td>\n",
              "      <td>entc</td>\n",
              "      <td>2004-03-04</td>\n",
              "    </tr>\n",
              "    <tr>\n",
              "      <th>7</th>\n",
              "      <td>shubham</td>\n",
              "      <td>B</td>\n",
              "      <td>8</td>\n",
              "      <td>swimming</td>\n",
              "      <td>electronics</td>\n",
              "      <td>2004-03-05</td>\n",
              "    </tr>\n",
              "    <tr>\n",
              "      <th>8</th>\n",
              "      <td>alvin</td>\n",
              "      <td>B</td>\n",
              "      <td>9</td>\n",
              "      <td>wrestling</td>\n",
              "      <td>cs</td>\n",
              "      <td>2004-03-06</td>\n",
              "    </tr>\n",
              "    <tr>\n",
              "      <th>9</th>\n",
              "      <td>gaurav</td>\n",
              "      <td>C</td>\n",
              "      <td>10</td>\n",
              "      <td>talking</td>\n",
              "      <td>mechanical</td>\n",
              "      <td>2004-03-07</td>\n",
              "    </tr>\n",
              "  </tbody>\n",
              "</table>\n",
              "</div>\n",
              "      <button class=\"colab-df-convert\" onclick=\"convertToInteractive('df-664aec29-50b9-42dd-8f13-7011ec0767ae')\"\n",
              "              title=\"Convert this dataframe to an interactive table.\"\n",
              "              style=\"display:none;\">\n",
              "        \n",
              "  <svg xmlns=\"http://www.w3.org/2000/svg\" height=\"24px\"viewBox=\"0 0 24 24\"\n",
              "       width=\"24px\">\n",
              "    <path d=\"M0 0h24v24H0V0z\" fill=\"none\"/>\n",
              "    <path d=\"M18.56 5.44l.94 2.06.94-2.06 2.06-.94-2.06-.94-.94-2.06-.94 2.06-2.06.94zm-11 1L8.5 8.5l.94-2.06 2.06-.94-2.06-.94L8.5 2.5l-.94 2.06-2.06.94zm10 10l.94 2.06.94-2.06 2.06-.94-2.06-.94-.94-2.06-.94 2.06-2.06.94z\"/><path d=\"M17.41 7.96l-1.37-1.37c-.4-.4-.92-.59-1.43-.59-.52 0-1.04.2-1.43.59L10.3 9.45l-7.72 7.72c-.78.78-.78 2.05 0 2.83L4 21.41c.39.39.9.59 1.41.59.51 0 1.02-.2 1.41-.59l7.78-7.78 2.81-2.81c.8-.78.8-2.07 0-2.86zM5.41 20L4 18.59l7.72-7.72 1.47 1.35L5.41 20z\"/>\n",
              "  </svg>\n",
              "      </button>\n",
              "      \n",
              "  <style>\n",
              "    .colab-df-container {\n",
              "      display:flex;\n",
              "      flex-wrap:wrap;\n",
              "      gap: 12px;\n",
              "    }\n",
              "\n",
              "    .colab-df-convert {\n",
              "      background-color: #E8F0FE;\n",
              "      border: none;\n",
              "      border-radius: 50%;\n",
              "      cursor: pointer;\n",
              "      display: none;\n",
              "      fill: #1967D2;\n",
              "      height: 32px;\n",
              "      padding: 0 0 0 0;\n",
              "      width: 32px;\n",
              "    }\n",
              "\n",
              "    .colab-df-convert:hover {\n",
              "      background-color: #E2EBFA;\n",
              "      box-shadow: 0px 1px 2px rgba(60, 64, 67, 0.3), 0px 1px 3px 1px rgba(60, 64, 67, 0.15);\n",
              "      fill: #174EA6;\n",
              "    }\n",
              "\n",
              "    [theme=dark] .colab-df-convert {\n",
              "      background-color: #3B4455;\n",
              "      fill: #D2E3FC;\n",
              "    }\n",
              "\n",
              "    [theme=dark] .colab-df-convert:hover {\n",
              "      background-color: #434B5C;\n",
              "      box-shadow: 0px 1px 3px 1px rgba(0, 0, 0, 0.15);\n",
              "      filter: drop-shadow(0px 1px 2px rgba(0, 0, 0, 0.3));\n",
              "      fill: #FFFFFF;\n",
              "    }\n",
              "  </style>\n",
              "\n",
              "      <script>\n",
              "        const buttonEl =\n",
              "          document.querySelector('#df-664aec29-50b9-42dd-8f13-7011ec0767ae button.colab-df-convert');\n",
              "        buttonEl.style.display =\n",
              "          google.colab.kernel.accessAllowed ? 'block' : 'none';\n",
              "\n",
              "        async function convertToInteractive(key) {\n",
              "          const element = document.querySelector('#df-664aec29-50b9-42dd-8f13-7011ec0767ae');\n",
              "          const dataTable =\n",
              "            await google.colab.kernel.invokeFunction('convertToInteractive',\n",
              "                                                     [key], {});\n",
              "          if (!dataTable) return;\n",
              "\n",
              "          const docLinkHtml = 'Like what you see? Visit the ' +\n",
              "            '<a target=\"_blank\" href=https://colab.research.google.com/notebooks/data_table.ipynb>data table notebook</a>'\n",
              "            + ' to learn more about interactive tables.';\n",
              "          element.innerHTML = '';\n",
              "          dataTable['output_type'] = 'display_data';\n",
              "          await google.colab.output.renderOutput(dataTable, element);\n",
              "          const docLink = document.createElement('div');\n",
              "          docLink.innerHTML = docLinkHtml;\n",
              "          element.appendChild(docLink);\n",
              "        }\n",
              "      </script>\n",
              "    </div>\n",
              "  </div>\n",
              "  "
            ]
          },
          "metadata": {}
        },
        {
          "output_type": "display_data",
          "data": {
            "text/plain": [
              "      name         prn  percentage(%)     address\n",
              "0    vipul  2022010661             99        pune\n",
              "1   yaseen  2022010662             99      mumbai\n",
              "2   akshay  2022010663             91        pune\n",
              "3    anish  2022010664             92      nagpur\n",
              "4    rahul  2022010665             96       delhi\n",
              "5    rohan  2022010666             93        beed\n",
              "6   sumedh  2022010667             95  aurangabad\n",
              "7  shubham  2022010668             90     kolkata\n",
              "8    alvin  2022010669             99         usa\n",
              "9   gaurav  2022010670             94          uk"
            ],
            "text/html": [
              "\n",
              "  <div id=\"df-51ce200d-93a1-48c6-811b-031012673efd\">\n",
              "    <div class=\"colab-df-container\">\n",
              "      <div>\n",
              "<style scoped>\n",
              "    .dataframe tbody tr th:only-of-type {\n",
              "        vertical-align: middle;\n",
              "    }\n",
              "\n",
              "    .dataframe tbody tr th {\n",
              "        vertical-align: top;\n",
              "    }\n",
              "\n",
              "    .dataframe thead th {\n",
              "        text-align: right;\n",
              "    }\n",
              "</style>\n",
              "<table border=\"1\" class=\"dataframe\">\n",
              "  <thead>\n",
              "    <tr style=\"text-align: right;\">\n",
              "      <th></th>\n",
              "      <th>name</th>\n",
              "      <th>prn</th>\n",
              "      <th>percentage(%)</th>\n",
              "      <th>address</th>\n",
              "    </tr>\n",
              "  </thead>\n",
              "  <tbody>\n",
              "    <tr>\n",
              "      <th>0</th>\n",
              "      <td>vipul</td>\n",
              "      <td>2022010661</td>\n",
              "      <td>99</td>\n",
              "      <td>pune</td>\n",
              "    </tr>\n",
              "    <tr>\n",
              "      <th>1</th>\n",
              "      <td>yaseen</td>\n",
              "      <td>2022010662</td>\n",
              "      <td>99</td>\n",
              "      <td>mumbai</td>\n",
              "    </tr>\n",
              "    <tr>\n",
              "      <th>2</th>\n",
              "      <td>akshay</td>\n",
              "      <td>2022010663</td>\n",
              "      <td>91</td>\n",
              "      <td>pune</td>\n",
              "    </tr>\n",
              "    <tr>\n",
              "      <th>3</th>\n",
              "      <td>anish</td>\n",
              "      <td>2022010664</td>\n",
              "      <td>92</td>\n",
              "      <td>nagpur</td>\n",
              "    </tr>\n",
              "    <tr>\n",
              "      <th>4</th>\n",
              "      <td>rahul</td>\n",
              "      <td>2022010665</td>\n",
              "      <td>96</td>\n",
              "      <td>delhi</td>\n",
              "    </tr>\n",
              "    <tr>\n",
              "      <th>5</th>\n",
              "      <td>rohan</td>\n",
              "      <td>2022010666</td>\n",
              "      <td>93</td>\n",
              "      <td>beed</td>\n",
              "    </tr>\n",
              "    <tr>\n",
              "      <th>6</th>\n",
              "      <td>sumedh</td>\n",
              "      <td>2022010667</td>\n",
              "      <td>95</td>\n",
              "      <td>aurangabad</td>\n",
              "    </tr>\n",
              "    <tr>\n",
              "      <th>7</th>\n",
              "      <td>shubham</td>\n",
              "      <td>2022010668</td>\n",
              "      <td>90</td>\n",
              "      <td>kolkata</td>\n",
              "    </tr>\n",
              "    <tr>\n",
              "      <th>8</th>\n",
              "      <td>alvin</td>\n",
              "      <td>2022010669</td>\n",
              "      <td>99</td>\n",
              "      <td>usa</td>\n",
              "    </tr>\n",
              "    <tr>\n",
              "      <th>9</th>\n",
              "      <td>gaurav</td>\n",
              "      <td>2022010670</td>\n",
              "      <td>94</td>\n",
              "      <td>uk</td>\n",
              "    </tr>\n",
              "  </tbody>\n",
              "</table>\n",
              "</div>\n",
              "      <button class=\"colab-df-convert\" onclick=\"convertToInteractive('df-51ce200d-93a1-48c6-811b-031012673efd')\"\n",
              "              title=\"Convert this dataframe to an interactive table.\"\n",
              "              style=\"display:none;\">\n",
              "        \n",
              "  <svg xmlns=\"http://www.w3.org/2000/svg\" height=\"24px\"viewBox=\"0 0 24 24\"\n",
              "       width=\"24px\">\n",
              "    <path d=\"M0 0h24v24H0V0z\" fill=\"none\"/>\n",
              "    <path d=\"M18.56 5.44l.94 2.06.94-2.06 2.06-.94-2.06-.94-.94-2.06-.94 2.06-2.06.94zm-11 1L8.5 8.5l.94-2.06 2.06-.94-2.06-.94L8.5 2.5l-.94 2.06-2.06.94zm10 10l.94 2.06.94-2.06 2.06-.94-2.06-.94-.94-2.06-.94 2.06-2.06.94z\"/><path d=\"M17.41 7.96l-1.37-1.37c-.4-.4-.92-.59-1.43-.59-.52 0-1.04.2-1.43.59L10.3 9.45l-7.72 7.72c-.78.78-.78 2.05 0 2.83L4 21.41c.39.39.9.59 1.41.59.51 0 1.02-.2 1.41-.59l7.78-7.78 2.81-2.81c.8-.78.8-2.07 0-2.86zM5.41 20L4 18.59l7.72-7.72 1.47 1.35L5.41 20z\"/>\n",
              "  </svg>\n",
              "      </button>\n",
              "      \n",
              "  <style>\n",
              "    .colab-df-container {\n",
              "      display:flex;\n",
              "      flex-wrap:wrap;\n",
              "      gap: 12px;\n",
              "    }\n",
              "\n",
              "    .colab-df-convert {\n",
              "      background-color: #E8F0FE;\n",
              "      border: none;\n",
              "      border-radius: 50%;\n",
              "      cursor: pointer;\n",
              "      display: none;\n",
              "      fill: #1967D2;\n",
              "      height: 32px;\n",
              "      padding: 0 0 0 0;\n",
              "      width: 32px;\n",
              "    }\n",
              "\n",
              "    .colab-df-convert:hover {\n",
              "      background-color: #E2EBFA;\n",
              "      box-shadow: 0px 1px 2px rgba(60, 64, 67, 0.3), 0px 1px 3px 1px rgba(60, 64, 67, 0.15);\n",
              "      fill: #174EA6;\n",
              "    }\n",
              "\n",
              "    [theme=dark] .colab-df-convert {\n",
              "      background-color: #3B4455;\n",
              "      fill: #D2E3FC;\n",
              "    }\n",
              "\n",
              "    [theme=dark] .colab-df-convert:hover {\n",
              "      background-color: #434B5C;\n",
              "      box-shadow: 0px 1px 3px 1px rgba(0, 0, 0, 0.15);\n",
              "      filter: drop-shadow(0px 1px 2px rgba(0, 0, 0, 0.3));\n",
              "      fill: #FFFFFF;\n",
              "    }\n",
              "  </style>\n",
              "\n",
              "      <script>\n",
              "        const buttonEl =\n",
              "          document.querySelector('#df-51ce200d-93a1-48c6-811b-031012673efd button.colab-df-convert');\n",
              "        buttonEl.style.display =\n",
              "          google.colab.kernel.accessAllowed ? 'block' : 'none';\n",
              "\n",
              "        async function convertToInteractive(key) {\n",
              "          const element = document.querySelector('#df-51ce200d-93a1-48c6-811b-031012673efd');\n",
              "          const dataTable =\n",
              "            await google.colab.kernel.invokeFunction('convertToInteractive',\n",
              "                                                     [key], {});\n",
              "          if (!dataTable) return;\n",
              "\n",
              "          const docLinkHtml = 'Like what you see? Visit the ' +\n",
              "            '<a target=\"_blank\" href=https://colab.research.google.com/notebooks/data_table.ipynb>data table notebook</a>'\n",
              "            + ' to learn more about interactive tables.';\n",
              "          element.innerHTML = '';\n",
              "          dataTable['output_type'] = 'display_data';\n",
              "          await google.colab.output.renderOutput(dataTable, element);\n",
              "          const docLink = document.createElement('div');\n",
              "          docLink.innerHTML = docLinkHtml;\n",
              "          element.appendChild(docLink);\n",
              "        }\n",
              "      </script>\n",
              "    </div>\n",
              "  </div>\n",
              "  "
            ]
          },
          "metadata": {}
        }
      ]
    },
    {
      "cell_type": "code",
      "source": [
        "merge = pd.merge(df,df1)\n",
        "merge"
      ],
      "metadata": {
        "colab": {
          "base_uri": "https://localhost:8080/",
          "height": 363
        },
        "id": "dov_bXJ5gquB",
        "outputId": "d63f8a68-adfb-425f-b345-9ae33bd339f9"
      },
      "execution_count": 5,
      "outputs": [
        {
          "output_type": "execute_result",
          "data": {
            "text/plain": [
              "      name division  roll no    hobbies       branch        DOB         prn  \\\n",
              "0    vipul       D         1   football  electronics 2004-03-11  2022010661   \n",
              "1   yaseen        A        2       judo           cs 2004-01-12  2022010662   \n",
              "2   akshay        A        3    cricket        civil 2004-01-11  2022010663   \n",
              "3    anish        B        4      chess         entc 2004-01-04  2022010664   \n",
              "4    rahul        C        5    kabbadi     chemical 2004-03-02  2022010665   \n",
              "5    rohan       D         6     tennis   mechanical 2004-03-03  2022010666   \n",
              "6   sumedh        A        7       pool         entc 2004-03-04  2022010667   \n",
              "7  shubham        B        8   swimming  electronics 2004-03-05  2022010668   \n",
              "8    alvin        B        9  wrestling           cs 2004-03-06  2022010669   \n",
              "9   gaurav        C       10    talking   mechanical 2004-03-07  2022010670   \n",
              "\n",
              "   percentage(%)     address  \n",
              "0             99        pune  \n",
              "1             99      mumbai  \n",
              "2             91        pune  \n",
              "3             92      nagpur  \n",
              "4             96       delhi  \n",
              "5             93        beed  \n",
              "6             95  aurangabad  \n",
              "7             90     kolkata  \n",
              "8             99         usa  \n",
              "9             94          uk  "
            ],
            "text/html": [
              "\n",
              "  <div id=\"df-922b5b22-fe4a-4435-becb-16cc5fdc1af8\">\n",
              "    <div class=\"colab-df-container\">\n",
              "      <div>\n",
              "<style scoped>\n",
              "    .dataframe tbody tr th:only-of-type {\n",
              "        vertical-align: middle;\n",
              "    }\n",
              "\n",
              "    .dataframe tbody tr th {\n",
              "        vertical-align: top;\n",
              "    }\n",
              "\n",
              "    .dataframe thead th {\n",
              "        text-align: right;\n",
              "    }\n",
              "</style>\n",
              "<table border=\"1\" class=\"dataframe\">\n",
              "  <thead>\n",
              "    <tr style=\"text-align: right;\">\n",
              "      <th></th>\n",
              "      <th>name</th>\n",
              "      <th>division</th>\n",
              "      <th>roll no</th>\n",
              "      <th>hobbies</th>\n",
              "      <th>branch</th>\n",
              "      <th>DOB</th>\n",
              "      <th>prn</th>\n",
              "      <th>percentage(%)</th>\n",
              "      <th>address</th>\n",
              "    </tr>\n",
              "  </thead>\n",
              "  <tbody>\n",
              "    <tr>\n",
              "      <th>0</th>\n",
              "      <td>vipul</td>\n",
              "      <td>D</td>\n",
              "      <td>1</td>\n",
              "      <td>football</td>\n",
              "      <td>electronics</td>\n",
              "      <td>2004-03-11</td>\n",
              "      <td>2022010661</td>\n",
              "      <td>99</td>\n",
              "      <td>pune</td>\n",
              "    </tr>\n",
              "    <tr>\n",
              "      <th>1</th>\n",
              "      <td>yaseen</td>\n",
              "      <td>A</td>\n",
              "      <td>2</td>\n",
              "      <td>judo</td>\n",
              "      <td>cs</td>\n",
              "      <td>2004-01-12</td>\n",
              "      <td>2022010662</td>\n",
              "      <td>99</td>\n",
              "      <td>mumbai</td>\n",
              "    </tr>\n",
              "    <tr>\n",
              "      <th>2</th>\n",
              "      <td>akshay</td>\n",
              "      <td>A</td>\n",
              "      <td>3</td>\n",
              "      <td>cricket</td>\n",
              "      <td>civil</td>\n",
              "      <td>2004-01-11</td>\n",
              "      <td>2022010663</td>\n",
              "      <td>91</td>\n",
              "      <td>pune</td>\n",
              "    </tr>\n",
              "    <tr>\n",
              "      <th>3</th>\n",
              "      <td>anish</td>\n",
              "      <td>B</td>\n",
              "      <td>4</td>\n",
              "      <td>chess</td>\n",
              "      <td>entc</td>\n",
              "      <td>2004-01-04</td>\n",
              "      <td>2022010664</td>\n",
              "      <td>92</td>\n",
              "      <td>nagpur</td>\n",
              "    </tr>\n",
              "    <tr>\n",
              "      <th>4</th>\n",
              "      <td>rahul</td>\n",
              "      <td>C</td>\n",
              "      <td>5</td>\n",
              "      <td>kabbadi</td>\n",
              "      <td>chemical</td>\n",
              "      <td>2004-03-02</td>\n",
              "      <td>2022010665</td>\n",
              "      <td>96</td>\n",
              "      <td>delhi</td>\n",
              "    </tr>\n",
              "    <tr>\n",
              "      <th>5</th>\n",
              "      <td>rohan</td>\n",
              "      <td>D</td>\n",
              "      <td>6</td>\n",
              "      <td>tennis</td>\n",
              "      <td>mechanical</td>\n",
              "      <td>2004-03-03</td>\n",
              "      <td>2022010666</td>\n",
              "      <td>93</td>\n",
              "      <td>beed</td>\n",
              "    </tr>\n",
              "    <tr>\n",
              "      <th>6</th>\n",
              "      <td>sumedh</td>\n",
              "      <td>A</td>\n",
              "      <td>7</td>\n",
              "      <td>pool</td>\n",
              "      <td>entc</td>\n",
              "      <td>2004-03-04</td>\n",
              "      <td>2022010667</td>\n",
              "      <td>95</td>\n",
              "      <td>aurangabad</td>\n",
              "    </tr>\n",
              "    <tr>\n",
              "      <th>7</th>\n",
              "      <td>shubham</td>\n",
              "      <td>B</td>\n",
              "      <td>8</td>\n",
              "      <td>swimming</td>\n",
              "      <td>electronics</td>\n",
              "      <td>2004-03-05</td>\n",
              "      <td>2022010668</td>\n",
              "      <td>90</td>\n",
              "      <td>kolkata</td>\n",
              "    </tr>\n",
              "    <tr>\n",
              "      <th>8</th>\n",
              "      <td>alvin</td>\n",
              "      <td>B</td>\n",
              "      <td>9</td>\n",
              "      <td>wrestling</td>\n",
              "      <td>cs</td>\n",
              "      <td>2004-03-06</td>\n",
              "      <td>2022010669</td>\n",
              "      <td>99</td>\n",
              "      <td>usa</td>\n",
              "    </tr>\n",
              "    <tr>\n",
              "      <th>9</th>\n",
              "      <td>gaurav</td>\n",
              "      <td>C</td>\n",
              "      <td>10</td>\n",
              "      <td>talking</td>\n",
              "      <td>mechanical</td>\n",
              "      <td>2004-03-07</td>\n",
              "      <td>2022010670</td>\n",
              "      <td>94</td>\n",
              "      <td>uk</td>\n",
              "    </tr>\n",
              "  </tbody>\n",
              "</table>\n",
              "</div>\n",
              "      <button class=\"colab-df-convert\" onclick=\"convertToInteractive('df-922b5b22-fe4a-4435-becb-16cc5fdc1af8')\"\n",
              "              title=\"Convert this dataframe to an interactive table.\"\n",
              "              style=\"display:none;\">\n",
              "        \n",
              "  <svg xmlns=\"http://www.w3.org/2000/svg\" height=\"24px\"viewBox=\"0 0 24 24\"\n",
              "       width=\"24px\">\n",
              "    <path d=\"M0 0h24v24H0V0z\" fill=\"none\"/>\n",
              "    <path d=\"M18.56 5.44l.94 2.06.94-2.06 2.06-.94-2.06-.94-.94-2.06-.94 2.06-2.06.94zm-11 1L8.5 8.5l.94-2.06 2.06-.94-2.06-.94L8.5 2.5l-.94 2.06-2.06.94zm10 10l.94 2.06.94-2.06 2.06-.94-2.06-.94-.94-2.06-.94 2.06-2.06.94z\"/><path d=\"M17.41 7.96l-1.37-1.37c-.4-.4-.92-.59-1.43-.59-.52 0-1.04.2-1.43.59L10.3 9.45l-7.72 7.72c-.78.78-.78 2.05 0 2.83L4 21.41c.39.39.9.59 1.41.59.51 0 1.02-.2 1.41-.59l7.78-7.78 2.81-2.81c.8-.78.8-2.07 0-2.86zM5.41 20L4 18.59l7.72-7.72 1.47 1.35L5.41 20z\"/>\n",
              "  </svg>\n",
              "      </button>\n",
              "      \n",
              "  <style>\n",
              "    .colab-df-container {\n",
              "      display:flex;\n",
              "      flex-wrap:wrap;\n",
              "      gap: 12px;\n",
              "    }\n",
              "\n",
              "    .colab-df-convert {\n",
              "      background-color: #E8F0FE;\n",
              "      border: none;\n",
              "      border-radius: 50%;\n",
              "      cursor: pointer;\n",
              "      display: none;\n",
              "      fill: #1967D2;\n",
              "      height: 32px;\n",
              "      padding: 0 0 0 0;\n",
              "      width: 32px;\n",
              "    }\n",
              "\n",
              "    .colab-df-convert:hover {\n",
              "      background-color: #E2EBFA;\n",
              "      box-shadow: 0px 1px 2px rgba(60, 64, 67, 0.3), 0px 1px 3px 1px rgba(60, 64, 67, 0.15);\n",
              "      fill: #174EA6;\n",
              "    }\n",
              "\n",
              "    [theme=dark] .colab-df-convert {\n",
              "      background-color: #3B4455;\n",
              "      fill: #D2E3FC;\n",
              "    }\n",
              "\n",
              "    [theme=dark] .colab-df-convert:hover {\n",
              "      background-color: #434B5C;\n",
              "      box-shadow: 0px 1px 3px 1px rgba(0, 0, 0, 0.15);\n",
              "      filter: drop-shadow(0px 1px 2px rgba(0, 0, 0, 0.3));\n",
              "      fill: #FFFFFF;\n",
              "    }\n",
              "  </style>\n",
              "\n",
              "      <script>\n",
              "        const buttonEl =\n",
              "          document.querySelector('#df-922b5b22-fe4a-4435-becb-16cc5fdc1af8 button.colab-df-convert');\n",
              "        buttonEl.style.display =\n",
              "          google.colab.kernel.accessAllowed ? 'block' : 'none';\n",
              "\n",
              "        async function convertToInteractive(key) {\n",
              "          const element = document.querySelector('#df-922b5b22-fe4a-4435-becb-16cc5fdc1af8');\n",
              "          const dataTable =\n",
              "            await google.colab.kernel.invokeFunction('convertToInteractive',\n",
              "                                                     [key], {});\n",
              "          if (!dataTable) return;\n",
              "\n",
              "          const docLinkHtml = 'Like what you see? Visit the ' +\n",
              "            '<a target=\"_blank\" href=https://colab.research.google.com/notebooks/data_table.ipynb>data table notebook</a>'\n",
              "            + ' to learn more about interactive tables.';\n",
              "          element.innerHTML = '';\n",
              "          dataTable['output_type'] = 'display_data';\n",
              "          await google.colab.output.renderOutput(dataTable, element);\n",
              "          const docLink = document.createElement('div');\n",
              "          docLink.innerHTML = docLinkHtml;\n",
              "          element.appendChild(docLink);\n",
              "        }\n",
              "      </script>\n",
              "    </div>\n",
              "  </div>\n",
              "  "
            ]
          },
          "metadata": {},
          "execution_count": 5
        }
      ]
    },
    {
      "cell_type": "code",
      "source": [
        "#select one column\n",
        "a = df[\"hobbies\"]\n",
        "print(a)"
      ],
      "metadata": {
        "colab": {
          "base_uri": "https://localhost:8080/"
        },
        "id": "mmxffV-xgvio",
        "outputId": "21b16ffb-2995-45b1-c221-9f7c225a5fa3"
      },
      "execution_count": 6,
      "outputs": [
        {
          "output_type": "stream",
          "name": "stdout",
          "text": [
            "0     football\n",
            "1         judo\n",
            "2      cricket\n",
            "3        chess\n",
            "4      kabbadi\n",
            "5       tennis\n",
            "6         pool\n",
            "7     swimming\n",
            "8    wrestling\n",
            "9      talking\n",
            "Name: hobbies, dtype: object\n"
          ]
        }
      ]
    },
    {
      "cell_type": "code",
      "source": [
        "#select two column\n",
        "print(df[[\"name\",\"division\"]])\n",
        "g = df.columns.tolist()\n",
        "print(g)\n"
      ],
      "metadata": {
        "colab": {
          "base_uri": "https://localhost:8080/"
        },
        "id": "jBlUAQRTg3Pp",
        "outputId": "8b4aa4d7-3241-4c53-9ff3-ca8547fd7d1a"
      },
      "execution_count": 7,
      "outputs": [
        {
          "output_type": "stream",
          "name": "stdout",
          "text": [
            "      name division\n",
            "0    vipul       D \n",
            "1   yaseen        A\n",
            "2   akshay        A\n",
            "3    anish        B\n",
            "4    rahul        C\n",
            "5    rohan       D \n",
            "6   sumedh        A\n",
            "7  shubham        B\n",
            "8    alvin        B\n",
            "9   gaurav        C\n",
            "['name', 'division', 'roll no', 'hobbies', 'branch', 'DOB']\n"
          ]
        }
      ]
    },
    {
      "cell_type": "code",
      "source": [
        "# frequency of students in each division\n",
        "f = df[\"division\"].value_counts()\n",
        "print(f)"
      ],
      "metadata": {
        "colab": {
          "base_uri": "https://localhost:8080/"
        },
        "id": "T1SFklXdg5O3",
        "outputId": "d52292f5-269f-46de-a10f-4c01f7af235a"
      },
      "execution_count": 8,
      "outputs": [
        {
          "output_type": "stream",
          "name": "stdout",
          "text": [
            "A     3\n",
            "B     3\n",
            "D     2\n",
            "C     2\n",
            "Name: division, dtype: int64\n"
          ]
        }
      ]
    },
    {
      "cell_type": "code",
      "source": [
        "df.nlargest(5, 'DOB', 'first')"
      ],
      "metadata": {
        "colab": {
          "base_uri": "https://localhost:8080/",
          "height": 206
        },
        "id": "2zmfUZe5hD88",
        "outputId": "459c8961-a138-4d97-84c3-5bf059f07bfe"
      },
      "execution_count": 9,
      "outputs": [
        {
          "output_type": "execute_result",
          "data": {
            "text/plain": [
              "      name division  roll no    hobbies       branch        DOB\n",
              "0    vipul       D         1   football  electronics 2004-03-11\n",
              "9   gaurav        C       10    talking   mechanical 2004-03-07\n",
              "8    alvin        B        9  wrestling           cs 2004-03-06\n",
              "7  shubham        B        8   swimming  electronics 2004-03-05\n",
              "6   sumedh        A        7       pool         entc 2004-03-04"
            ],
            "text/html": [
              "\n",
              "  <div id=\"df-461a536d-6944-441a-b424-59c3ddf90d8a\">\n",
              "    <div class=\"colab-df-container\">\n",
              "      <div>\n",
              "<style scoped>\n",
              "    .dataframe tbody tr th:only-of-type {\n",
              "        vertical-align: middle;\n",
              "    }\n",
              "\n",
              "    .dataframe tbody tr th {\n",
              "        vertical-align: top;\n",
              "    }\n",
              "\n",
              "    .dataframe thead th {\n",
              "        text-align: right;\n",
              "    }\n",
              "</style>\n",
              "<table border=\"1\" class=\"dataframe\">\n",
              "  <thead>\n",
              "    <tr style=\"text-align: right;\">\n",
              "      <th></th>\n",
              "      <th>name</th>\n",
              "      <th>division</th>\n",
              "      <th>roll no</th>\n",
              "      <th>hobbies</th>\n",
              "      <th>branch</th>\n",
              "      <th>DOB</th>\n",
              "    </tr>\n",
              "  </thead>\n",
              "  <tbody>\n",
              "    <tr>\n",
              "      <th>0</th>\n",
              "      <td>vipul</td>\n",
              "      <td>D</td>\n",
              "      <td>1</td>\n",
              "      <td>football</td>\n",
              "      <td>electronics</td>\n",
              "      <td>2004-03-11</td>\n",
              "    </tr>\n",
              "    <tr>\n",
              "      <th>9</th>\n",
              "      <td>gaurav</td>\n",
              "      <td>C</td>\n",
              "      <td>10</td>\n",
              "      <td>talking</td>\n",
              "      <td>mechanical</td>\n",
              "      <td>2004-03-07</td>\n",
              "    </tr>\n",
              "    <tr>\n",
              "      <th>8</th>\n",
              "      <td>alvin</td>\n",
              "      <td>B</td>\n",
              "      <td>9</td>\n",
              "      <td>wrestling</td>\n",
              "      <td>cs</td>\n",
              "      <td>2004-03-06</td>\n",
              "    </tr>\n",
              "    <tr>\n",
              "      <th>7</th>\n",
              "      <td>shubham</td>\n",
              "      <td>B</td>\n",
              "      <td>8</td>\n",
              "      <td>swimming</td>\n",
              "      <td>electronics</td>\n",
              "      <td>2004-03-05</td>\n",
              "    </tr>\n",
              "    <tr>\n",
              "      <th>6</th>\n",
              "      <td>sumedh</td>\n",
              "      <td>A</td>\n",
              "      <td>7</td>\n",
              "      <td>pool</td>\n",
              "      <td>entc</td>\n",
              "      <td>2004-03-04</td>\n",
              "    </tr>\n",
              "  </tbody>\n",
              "</table>\n",
              "</div>\n",
              "      <button class=\"colab-df-convert\" onclick=\"convertToInteractive('df-461a536d-6944-441a-b424-59c3ddf90d8a')\"\n",
              "              title=\"Convert this dataframe to an interactive table.\"\n",
              "              style=\"display:none;\">\n",
              "        \n",
              "  <svg xmlns=\"http://www.w3.org/2000/svg\" height=\"24px\"viewBox=\"0 0 24 24\"\n",
              "       width=\"24px\">\n",
              "    <path d=\"M0 0h24v24H0V0z\" fill=\"none\"/>\n",
              "    <path d=\"M18.56 5.44l.94 2.06.94-2.06 2.06-.94-2.06-.94-.94-2.06-.94 2.06-2.06.94zm-11 1L8.5 8.5l.94-2.06 2.06-.94-2.06-.94L8.5 2.5l-.94 2.06-2.06.94zm10 10l.94 2.06.94-2.06 2.06-.94-2.06-.94-.94-2.06-.94 2.06-2.06.94z\"/><path d=\"M17.41 7.96l-1.37-1.37c-.4-.4-.92-.59-1.43-.59-.52 0-1.04.2-1.43.59L10.3 9.45l-7.72 7.72c-.78.78-.78 2.05 0 2.83L4 21.41c.39.39.9.59 1.41.59.51 0 1.02-.2 1.41-.59l7.78-7.78 2.81-2.81c.8-.78.8-2.07 0-2.86zM5.41 20L4 18.59l7.72-7.72 1.47 1.35L5.41 20z\"/>\n",
              "  </svg>\n",
              "      </button>\n",
              "      \n",
              "  <style>\n",
              "    .colab-df-container {\n",
              "      display:flex;\n",
              "      flex-wrap:wrap;\n",
              "      gap: 12px;\n",
              "    }\n",
              "\n",
              "    .colab-df-convert {\n",
              "      background-color: #E8F0FE;\n",
              "      border: none;\n",
              "      border-radius: 50%;\n",
              "      cursor: pointer;\n",
              "      display: none;\n",
              "      fill: #1967D2;\n",
              "      height: 32px;\n",
              "      padding: 0 0 0 0;\n",
              "      width: 32px;\n",
              "    }\n",
              "\n",
              "    .colab-df-convert:hover {\n",
              "      background-color: #E2EBFA;\n",
              "      box-shadow: 0px 1px 2px rgba(60, 64, 67, 0.3), 0px 1px 3px 1px rgba(60, 64, 67, 0.15);\n",
              "      fill: #174EA6;\n",
              "    }\n",
              "\n",
              "    [theme=dark] .colab-df-convert {\n",
              "      background-color: #3B4455;\n",
              "      fill: #D2E3FC;\n",
              "    }\n",
              "\n",
              "    [theme=dark] .colab-df-convert:hover {\n",
              "      background-color: #434B5C;\n",
              "      box-shadow: 0px 1px 3px 1px rgba(0, 0, 0, 0.15);\n",
              "      filter: drop-shadow(0px 1px 2px rgba(0, 0, 0, 0.3));\n",
              "      fill: #FFFFFF;\n",
              "    }\n",
              "  </style>\n",
              "\n",
              "      <script>\n",
              "        const buttonEl =\n",
              "          document.querySelector('#df-461a536d-6944-441a-b424-59c3ddf90d8a button.colab-df-convert');\n",
              "        buttonEl.style.display =\n",
              "          google.colab.kernel.accessAllowed ? 'block' : 'none';\n",
              "\n",
              "        async function convertToInteractive(key) {\n",
              "          const element = document.querySelector('#df-461a536d-6944-441a-b424-59c3ddf90d8a');\n",
              "          const dataTable =\n",
              "            await google.colab.kernel.invokeFunction('convertToInteractive',\n",
              "                                                     [key], {});\n",
              "          if (!dataTable) return;\n",
              "\n",
              "          const docLinkHtml = 'Like what you see? Visit the ' +\n",
              "            '<a target=\"_blank\" href=https://colab.research.google.com/notebooks/data_table.ipynb>data table notebook</a>'\n",
              "            + ' to learn more about interactive tables.';\n",
              "          element.innerHTML = '';\n",
              "          dataTable['output_type'] = 'display_data';\n",
              "          await google.colab.output.renderOutput(dataTable, element);\n",
              "          const docLink = document.createElement('div');\n",
              "          docLink.innerHTML = docLinkHtml;\n",
              "          element.appendChild(docLink);\n",
              "        }\n",
              "      </script>\n",
              "    </div>\n",
              "  </div>\n",
              "  "
            ]
          },
          "metadata": {},
          "execution_count": 9
        }
      ]
    },
    {
      "cell_type": "code",
      "source": [
        "import numpy as np\n",
        "import pandas as pd\n",
        "\n",
        "# Read CSV into array using pandas\n",
        "filename = \"/content/drive/MyDrive/testmarks1.csv\"\n",
        "data = pd.read_csv(filename).values\n",
        "print(data)\n",
        "\n",
        "# Perform matrix operations\n",
        "# For example, calculate the mean of each column\n",
        "mean_values = np.mean(data, axis=0)\n",
        "print(\"Mean values:\", mean_values)\n",
        "\n",
        "# Create two sample arrays\n",
        "arr1 = np.array([[1, 2, 3], [4, 5, 6]])\n",
        "arr2 = np.array([[7, 8, 9], [10, 11, 12]])\n",
        "\n",
        "# Horizontal stacking\n",
        "hstack_result = np.hstack((arr1, arr2))\n",
        "print(\"Horizontal stacking:\")\n",
        "print(hstack_result)\n",
        "\n",
        "# Vertical stacking\n",
        "vstack_result = np.vstack((arr1, arr2))\n",
        "print(\"Vertical stacking:\")\n",
        "print(vstack_result)\n",
        "\n",
        "# Generate a custom sequence\n",
        "custom_sequence = np.arange(1, 11, 2)\n",
        "print(\"Custom sequence:\", custom_sequence)\n",
        "\n",
        "\n",
        "# Example array for operations\n",
        "arr = np.array([1, 2, 3, 4, 5])\n",
        "\n",
        "# Arithmetic operations\n",
        "addition = arr + 2\n",
        "subtraction = arr - 2\n",
        "multiplication = arr * 2\n",
        "division = arr / 2\n",
        "\n",
        "# Statistical operations\n",
        "mean = np.mean(arr)\n",
        "median = np.median(arr)\n",
        "std_dev = np.std(arr)\n",
        "\n",
        "# Mathematical operations\n",
        "square_root = np.sqrt(arr)\n",
        "exponential = np.exp(arr)\n",
        "logarithm = np.log(arr)\n",
        "\n",
        "# Bitwise operators\n",
        "bitwise_and = arr & 2\n",
        "bitwise_or = arr | 2\n",
        "bitwise_xor = arr ^ 2\n",
        "bitwise_not = ~arr\n",
        "\n",
        "# Print the results\n",
        "print(\"Addition:\", addition)\n",
        "print(\"Subtraction:\", subtraction)\n",
        "print(\"Multiplication:\", multiplication)\n",
        "print(\"Division:\", division)\n",
        "print(\"Mean:\", mean)\n",
        "print(\"Median:\", median)\n",
        "print(\"Standard Deviation:\", std_dev)\n",
        "print(\"Square Root:\", square_root)\n",
        "print(\"Exponential:\", exponential)\n",
        "print(\"Logarithm:\", logarithm)\n",
        "print(\"Bitwise AND:\", bitwise_and)\n",
        "print(\"Bitwise OR:\", bitwise_or)\n",
        "print(\"Bitwise XOR:\", bitwise_xor)\n",
        "print(\"Bitwise NOT:\", bitwise_not)\n",
        "\n",
        "# Example array\n",
        "arr = np.array([1, 2, 3, 4, 5])\n",
        "\n",
        "# Create a shallow copy\n",
        "shallow_copy = arr.view()\n",
        "\n",
        "# Create a deep copy\n",
        "deep_copy = arr.copy()\n",
        "\n",
        "# Modify the original array\n",
        "arr[0] = 10\n",
        "\n",
        "# Print the copies\n",
        "print(\"Shallow Copy:\", shallow_copy)\n",
        "print(\"Deep Copy:\", deep_copy)\n",
        "\n",
        "# Example array\n",
        "arr = np.array([1, 2, 3, 4, 5])\n",
        "\n",
        "# Create a view of the array\n",
        "arr_view = arr.view()\n",
        "\n",
        "# Modify the view\n",
        "arr_view[0] = 10\n",
        "\n",
        "# Print the original array\n",
        "print(\"Original Array:\", arr)\n",
        "\n",
        "# Print the view\n",
        "print(\"Array View:\", arr_view)\n",
        "\n",
        "# Example arrays\n",
        "arr1 = np.array([1, 2, 3])\n",
        "arr2 = np.array([4, 5, 6])\n",
        "\n",
        "# Data stacking\n",
        "stacked = np.column_stack((arr1, arr2))\n",
        "print(\"Stacked Array:\")\n",
        "print(stacked)\n",
        "\n",
        "# Example array\n",
        "arr = np.array([1, 2, 3, 4, 5])\n",
        "\n",
        "# Searching\n",
        "value = 3\n",
        "indices = np.where(arr == value)\n",
        "print(\"Indices of\", value, \"in the array:\", indices)\n",
        "\n",
        "# Example array\n",
        "arr = np.array([5, 2, 8, 1, 4])\n",
        "\n",
        "# Sorting\n",
        "sorted_arr = np.sort(arr)\n",
        "print(\"Sorted Array:\", sorted_arr)\n",
        "\n",
        "# Example array\n",
        "arr = np.array([1, 2, 2, 3, 3, 3, 4, 4, 4, 4])\n",
        "\n",
        "# Counting occurrences\n",
        "unique_values, counts = np.unique(arr, return_counts=True)\n",
        "for value, count in zip(unique_values, counts):\n",
        "    print(value, \"occurs\", count, \"times\")\n",
        "\n",
        "# Example array\n",
        "arr = np.array([[1, 2, 3], [4, 5, 6]])\n",
        "\n",
        "# Broadcasting\n",
        "scalar = 2\n",
        "broadcasted = arr * scalar\n",
        "print(\"Broadcasted Array:\")\n",
        "print(broadcasted)"
      ],
      "metadata": {
        "colab": {
          "base_uri": "https://localhost:8080/"
        },
        "id": "RRfOymshhLEA",
        "outputId": "39be5bef-70b0-4e65-92a5-b5b2c3e92cc0"
      },
      "execution_count": 15,
      "outputs": [
        {
          "output_type": "stream",
          "name": "stdout",
          "text": [
            "[[801.    43.05  27.79  28.7   27.79]\n",
            " [802.    43.47  28.52  28.98  27.89]\n",
            " [803.    42.24  28.16  28.16  25.63]\n",
            " [804.    39.24  26.16  26.16  26.16]\n",
            " [805.    40.9   26.03  27.27  25.65]\n",
            " [806.    39.47  26.31  26.31  25.21]\n",
            " [807.    41.68  25.63  27.79  25.46]\n",
            " [808.    42.19  27.61  28.13  26.21]\n",
            " [809.    44.75  28.35  29.83  28.21]\n",
            " [810.    46.95  28.88  31.3   28.53]]\n",
            "Mean values: [805.5    42.394  27.344  28.263  26.674]\n",
            "Horizontal stacking:\n",
            "[[ 1  2  3  7  8  9]\n",
            " [ 4  5  6 10 11 12]]\n",
            "Vertical stacking:\n",
            "[[ 1  2  3]\n",
            " [ 4  5  6]\n",
            " [ 7  8  9]\n",
            " [10 11 12]]\n",
            "Custom sequence: [1 3 5 7 9]\n",
            "Addition: [3 4 5 6 7]\n",
            "Subtraction: [-1  0  1  2  3]\n",
            "Multiplication: [ 2  4  6  8 10]\n",
            "Division: [0.5 1.  1.5 2.  2.5]\n",
            "Mean: 3.0\n",
            "Median: 3.0\n",
            "Standard Deviation: 1.4142135623730951\n",
            "Square Root: [1.         1.41421356 1.73205081 2.         2.23606798]\n",
            "Exponential: [  2.71828183   7.3890561   20.08553692  54.59815003 148.4131591 ]\n",
            "Logarithm: [0.         0.69314718 1.09861229 1.38629436 1.60943791]\n",
            "Bitwise AND: [0 2 2 0 0]\n",
            "Bitwise OR: [3 2 3 6 7]\n",
            "Bitwise XOR: [3 0 1 6 7]\n",
            "Bitwise NOT: [-2 -3 -4 -5 -6]\n",
            "Shallow Copy: [10  2  3  4  5]\n",
            "Deep Copy: [1 2 3 4 5]\n",
            "Original Array: [10  2  3  4  5]\n",
            "Array View: [10  2  3  4  5]\n",
            "Stacked Array:\n",
            "[[1 4]\n",
            " [2 5]\n",
            " [3 6]]\n",
            "Indices of 3 in the array: (array([2]),)\n",
            "Sorted Array: [1 2 4 5 8]\n",
            "1 occurs 1 times\n",
            "2 occurs 2 times\n",
            "3 occurs 3 times\n",
            "4 occurs 4 times\n",
            "Broadcasted Array:\n",
            "[[ 2  4  6]\n",
            " [ 8 10 12]]\n"
          ]
        }
      ]
    },
    {
      "cell_type": "code",
      "source": [
        "import numpy as np\n",
        "import pandas as pd\n",
        "\n",
        "# Read the CSV file into a Pandas DataFrame\n",
        "filename = \"/content/drive/MyDrive/testmarks1.csv\"\n",
        "data = pd.read_csv(filename)\n",
        "print(\"Read csv file\")\n",
        "print(data)\n",
        "print()\n",
        "\n",
        "# Convert the DataFrame to a Numpy array\n",
        "array_data = data.to_numpy()\n",
        "print(\"Read the dataset into an array\")\n",
        "print(array_data)\n",
        "print()\n",
        "\n",
        "# 1. Perform all matrix operations\n",
        "matrix_operations = np.array(array_data[:, 1:], dtype=float)\n",
        "print(\"Matrix Operations:\")\n",
        "print(matrix_operations)\n",
        "print()\n",
        "\n",
        "# 2. Horizontal and vertical stacking of Numpy Arrays\n",
        "stacked_horizontal = np.hstack((matrix_operations, matrix_operations))\n",
        "stacked_vertical = np.vstack((matrix_operations, matrix_operations))\n",
        "print(\"Horizontal Stacking:\")\n",
        "print(stacked_horizontal)\n",
        "print()\n",
        "print(\"Vertical Stacking:\")\n",
        "print(stacked_vertical)\n",
        "print()\n",
        "\n",
        "# 3. Custom sequence generation\n",
        "sequence = np.arange(1, 11)\n",
        "print(\"Custom Sequence Generation:\")\n",
        "print(sequence)\n",
        "print()\n",
        "\n",
        "# 4. Arithmetic and Statistical Operations, Mathematical Operations, Bitwise Operators\n",
        "# Arithmetic Operations\n",
        "addition = matrix_operations + 5\n",
        "subtraction = matrix_operations - 2\n",
        "multiplication = matrix_operations * 3\n",
        "division = matrix_operations / 4\n",
        "\n",
        "# Statistical Operations\n",
        "mean = np.mean(matrix_operations)\n",
        "median = np.median(matrix_operations)\n",
        "std_dev = np.std(matrix_operations)\n",
        "\n",
        "# Mathematical Operations\n",
        "square_root = np.sqrt(matrix_operations)\n",
        "exponential = np.exp(matrix_operations)\n",
        "\n",
        "# Bitwise Operators\n",
        "bitwise_and = matrix_operations.astype(int) & 2\n",
        "bitwise_or = matrix_operations.astype(int) | 2\n",
        "bitwise_xor = matrix_operations.astype(int) ^ 2\n",
        "\n",
        "print(\"Arithmetic and Statistical Operations:\")\n",
        "print(\"Addition:\")\n",
        "print(addition)\n",
        "print()\n",
        "print(\"Subtraction:\")\n",
        "print(subtraction)\n",
        "print()\n",
        "print(\"Multiplication:\")\n",
        "print(multiplication)\n",
        "print()\n",
        "print(\"Division:\")\n",
        "print(division)\n",
        "print()\n",
        "print(\"Statistical Operations:\")\n",
        "print(\"Mean:\", mean)\n",
        "print(\"Median:\", median)\n",
        "print(\"Standard Deviation:\", std_dev)\n",
        "print()\n",
        "print(\"Mathematical Operations:\")\n",
        "print(\"Square Root:\")\n",
        "print(square_root)\n",
        "print()\n",
        "print(\"Exponential:\")\n",
        "print(exponential)\n",
        "print()\n",
        "print(\"Bitwise Operators:\")\n",
        "print(\"Bitwise AND:\")\n",
        "print(bitwise_and)\n",
        "print()\n",
        "print(\"Bitwise OR:\")\n",
        "print(bitwise_or)\n",
        "print()\n",
        "print(\"Bitwise XOR:\")\n",
        "print(bitwise_xor)\n",
        "print()\n",
        "\n",
        "# 5. Copying and viewing arrays\n",
        "copied_array = matrix_operations.copy()\n",
        "view_array = matrix_operations.view()\n",
        "\n",
        "print(\"Copying and Viewing Arrays:\")\n",
        "print(\"Copied Array:\")\n",
        "print(copied_array)\n",
        "print()\n",
        "print(\"View Array:\")\n",
        "print(view_array)\n",
        "print()\n",
        "\n",
        "# 6. Data Stacking, Searching, Sorting, Counting, Broadcasting\n",
        "# Data Stacking\n",
        "stacked_data = np.hstack((matrix_operations, copied_array))\n",
        "\n",
        "# Searching\n",
        "indices = np.where(matrix_operations == 28.16)\n",
        "\n",
        "# Sorting\n",
        "sorted_data = np.sort(matrix_operations)\n",
        "\n",
        "# Counting\n",
        "count = np.count_nonzero(matrix_operations > 27.5)\n",
        "\n",
        "# Broadcasting\n",
        "broadcasted_data = matrix_operations + np.array([1, 2, 3, 4])\n",
        "\n",
        "print(\"Data Stacking, Searching, Sorting, Counting, Broadcasting:\")\n",
        "print(\"Stacked Data:\")\n",
        "print(stacked_data)\n",
        "print()\n",
        "print(\"Indices of 28.16:\")\n",
        "print(indices)\n",
        "print()\n",
        "print(\"Sorted Data:\")\n",
        "print(sorted_data)\n",
        "print()\n",
        "print(\"Count:\", count)\n",
        "print()\n",
        "print(\"Broadcasted Data:\")\n",
        "print(broadcasted_data)"
      ],
      "metadata": {
        "colab": {
          "base_uri": "https://localhost:8080/"
        },
        "id": "O4jDay7miwcZ",
        "outputId": "93e24a34-dc33-4b86-9352-74bd1be2d8ee"
      },
      "execution_count": 16,
      "outputs": [
        {
          "output_type": "stream",
          "name": "stdout",
          "text": [
            "Read csv file\n",
            "   RollNo    EDS    SON     DT     ET\n",
            "0     801  43.05  27.79  28.70  27.79\n",
            "1     802  43.47  28.52  28.98  27.89\n",
            "2     803  42.24  28.16  28.16  25.63\n",
            "3     804  39.24  26.16  26.16  26.16\n",
            "4     805  40.90  26.03  27.27  25.65\n",
            "5     806  39.47  26.31  26.31  25.21\n",
            "6     807  41.68  25.63  27.79  25.46\n",
            "7     808  42.19  27.61  28.13  26.21\n",
            "8     809  44.75  28.35  29.83  28.21\n",
            "9     810  46.95  28.88  31.30  28.53\n",
            "\n",
            "Read the dataset into an array\n",
            "[[801.    43.05  27.79  28.7   27.79]\n",
            " [802.    43.47  28.52  28.98  27.89]\n",
            " [803.    42.24  28.16  28.16  25.63]\n",
            " [804.    39.24  26.16  26.16  26.16]\n",
            " [805.    40.9   26.03  27.27  25.65]\n",
            " [806.    39.47  26.31  26.31  25.21]\n",
            " [807.    41.68  25.63  27.79  25.46]\n",
            " [808.    42.19  27.61  28.13  26.21]\n",
            " [809.    44.75  28.35  29.83  28.21]\n",
            " [810.    46.95  28.88  31.3   28.53]]\n",
            "\n",
            "Matrix Operations:\n",
            "[[43.05 27.79 28.7  27.79]\n",
            " [43.47 28.52 28.98 27.89]\n",
            " [42.24 28.16 28.16 25.63]\n",
            " [39.24 26.16 26.16 26.16]\n",
            " [40.9  26.03 27.27 25.65]\n",
            " [39.47 26.31 26.31 25.21]\n",
            " [41.68 25.63 27.79 25.46]\n",
            " [42.19 27.61 28.13 26.21]\n",
            " [44.75 28.35 29.83 28.21]\n",
            " [46.95 28.88 31.3  28.53]]\n",
            "\n",
            "Horizontal Stacking:\n",
            "[[43.05 27.79 28.7  27.79 43.05 27.79 28.7  27.79]\n",
            " [43.47 28.52 28.98 27.89 43.47 28.52 28.98 27.89]\n",
            " [42.24 28.16 28.16 25.63 42.24 28.16 28.16 25.63]\n",
            " [39.24 26.16 26.16 26.16 39.24 26.16 26.16 26.16]\n",
            " [40.9  26.03 27.27 25.65 40.9  26.03 27.27 25.65]\n",
            " [39.47 26.31 26.31 25.21 39.47 26.31 26.31 25.21]\n",
            " [41.68 25.63 27.79 25.46 41.68 25.63 27.79 25.46]\n",
            " [42.19 27.61 28.13 26.21 42.19 27.61 28.13 26.21]\n",
            " [44.75 28.35 29.83 28.21 44.75 28.35 29.83 28.21]\n",
            " [46.95 28.88 31.3  28.53 46.95 28.88 31.3  28.53]]\n",
            "\n",
            "Vertical Stacking:\n",
            "[[43.05 27.79 28.7  27.79]\n",
            " [43.47 28.52 28.98 27.89]\n",
            " [42.24 28.16 28.16 25.63]\n",
            " [39.24 26.16 26.16 26.16]\n",
            " [40.9  26.03 27.27 25.65]\n",
            " [39.47 26.31 26.31 25.21]\n",
            " [41.68 25.63 27.79 25.46]\n",
            " [42.19 27.61 28.13 26.21]\n",
            " [44.75 28.35 29.83 28.21]\n",
            " [46.95 28.88 31.3  28.53]\n",
            " [43.05 27.79 28.7  27.79]\n",
            " [43.47 28.52 28.98 27.89]\n",
            " [42.24 28.16 28.16 25.63]\n",
            " [39.24 26.16 26.16 26.16]\n",
            " [40.9  26.03 27.27 25.65]\n",
            " [39.47 26.31 26.31 25.21]\n",
            " [41.68 25.63 27.79 25.46]\n",
            " [42.19 27.61 28.13 26.21]\n",
            " [44.75 28.35 29.83 28.21]\n",
            " [46.95 28.88 31.3  28.53]]\n",
            "\n",
            "Custom Sequence Generation:\n",
            "[ 1  2  3  4  5  6  7  8  9 10]\n",
            "\n",
            "Arithmetic and Statistical Operations:\n",
            "Addition:\n",
            "[[48.05 32.79 33.7  32.79]\n",
            " [48.47 33.52 33.98 32.89]\n",
            " [47.24 33.16 33.16 30.63]\n",
            " [44.24 31.16 31.16 31.16]\n",
            " [45.9  31.03 32.27 30.65]\n",
            " [44.47 31.31 31.31 30.21]\n",
            " [46.68 30.63 32.79 30.46]\n",
            " [47.19 32.61 33.13 31.21]\n",
            " [49.75 33.35 34.83 33.21]\n",
            " [51.95 33.88 36.3  33.53]]\n",
            "\n",
            "Subtraction:\n",
            "[[41.05 25.79 26.7  25.79]\n",
            " [41.47 26.52 26.98 25.89]\n",
            " [40.24 26.16 26.16 23.63]\n",
            " [37.24 24.16 24.16 24.16]\n",
            " [38.9  24.03 25.27 23.65]\n",
            " [37.47 24.31 24.31 23.21]\n",
            " [39.68 23.63 25.79 23.46]\n",
            " [40.19 25.61 26.13 24.21]\n",
            " [42.75 26.35 27.83 26.21]\n",
            " [44.95 26.88 29.3  26.53]]\n",
            "\n",
            "Multiplication:\n",
            "[[129.15  83.37  86.1   83.37]\n",
            " [130.41  85.56  86.94  83.67]\n",
            " [126.72  84.48  84.48  76.89]\n",
            " [117.72  78.48  78.48  78.48]\n",
            " [122.7   78.09  81.81  76.95]\n",
            " [118.41  78.93  78.93  75.63]\n",
            " [125.04  76.89  83.37  76.38]\n",
            " [126.57  82.83  84.39  78.63]\n",
            " [134.25  85.05  89.49  84.63]\n",
            " [140.85  86.64  93.9   85.59]]\n",
            "\n",
            "Division:\n",
            "[[10.7625  6.9475  7.175   6.9475]\n",
            " [10.8675  7.13    7.245   6.9725]\n",
            " [10.56    7.04    7.04    6.4075]\n",
            " [ 9.81    6.54    6.54    6.54  ]\n",
            " [10.225   6.5075  6.8175  6.4125]\n",
            " [ 9.8675  6.5775  6.5775  6.3025]\n",
            " [10.42    6.4075  6.9475  6.365 ]\n",
            " [10.5475  6.9025  7.0325  6.5525]\n",
            " [11.1875  7.0875  7.4575  7.0525]\n",
            " [11.7375  7.22    7.825   7.1325]]\n",
            "\n",
            "Statistical Operations:\n",
            "Mean: 31.16875\n",
            "Median: 28.16\n",
            "Standard Deviation: 6.692269864365901\n",
            "\n",
            "Mathematical Operations:\n",
            "Square Root:\n",
            "[[6.56124988 5.27162214 5.35723809 5.27162214]\n",
            " [6.59317829 5.34041197 5.38330753 5.28109837]\n",
            " [6.49923072 5.30659966 5.30659966 5.06260802]\n",
            " [6.26418391 5.11468474 5.11468474 5.11468474]\n",
            " [6.39531078 5.10196041 5.22206856 5.0645829 ]\n",
            " [6.28251542 5.12932744 5.12932744 5.02095608]\n",
            " [6.45600496 5.06260802 5.27162214 5.04579032]\n",
            " [6.49538298 5.25452186 5.30377224 5.11957029]\n",
            " [6.68954408 5.3244718  5.46168472 5.31130869]\n",
            " [6.85200701 5.37401154 5.59464029 5.34134814]]\n",
            "\n",
            "Exponential:\n",
            "[[4.97024098e+18 1.17231319e+12 2.91240408e+12 1.17231319e+12]\n",
            " [7.56451570e+18 2.43264437e+12 3.85348866e+12 1.29560645e+12]\n",
            " [2.21105179e+18 1.69719839e+12 1.69719839e+12 1.35197161e+11]\n",
            " [1.10081787e+17 2.29690824e+11 2.29690824e+11 2.29690824e+11]\n",
            " [5.78954335e+17 2.01690463e+11 6.96964281e+11 1.37928325e+11]\n",
            " [1.38548938e+17 2.66862665e+11 2.66862665e+11 8.88308645e+10]\n",
            " [1.26297282e+18 1.35197161e+11 1.17231319e+12 1.14061088e+11]\n",
            " [2.10321752e+18 9.79198288e+11 1.64703859e+12 2.41467325e+11]\n",
            " [2.72068377e+19 2.05233647e+12 9.01580262e+12 1.78421561e+12]\n",
            " [2.45542077e+20 3.48678073e+12 3.92118456e+13 2.45709285e+12]]\n",
            "\n",
            "Bitwise Operators:\n",
            "Bitwise AND:\n",
            "[[2 2 0 2]\n",
            " [2 0 0 2]\n",
            " [2 0 0 0]\n",
            " [2 2 2 2]\n",
            " [0 2 2 0]\n",
            " [2 2 2 0]\n",
            " [0 0 2 0]\n",
            " [2 2 0 2]\n",
            " [0 0 0 0]\n",
            " [2 0 2 0]]\n",
            "\n",
            "Bitwise OR:\n",
            "[[43 27 30 27]\n",
            " [43 30 30 27]\n",
            " [42 30 30 27]\n",
            " [39 26 26 26]\n",
            " [42 26 27 27]\n",
            " [39 26 26 27]\n",
            " [43 27 27 27]\n",
            " [42 27 30 26]\n",
            " [46 30 31 30]\n",
            " [46 30 31 30]]\n",
            "\n",
            "Bitwise XOR:\n",
            "[[41 25 30 25]\n",
            " [41 30 30 25]\n",
            " [40 30 30 27]\n",
            " [37 24 24 24]\n",
            " [42 24 25 27]\n",
            " [37 24 24 27]\n",
            " [43 27 25 27]\n",
            " [40 25 30 24]\n",
            " [46 30 31 30]\n",
            " [44 30 29 30]]\n",
            "\n",
            "Copying and Viewing Arrays:\n",
            "Copied Array:\n",
            "[[43.05 27.79 28.7  27.79]\n",
            " [43.47 28.52 28.98 27.89]\n",
            " [42.24 28.16 28.16 25.63]\n",
            " [39.24 26.16 26.16 26.16]\n",
            " [40.9  26.03 27.27 25.65]\n",
            " [39.47 26.31 26.31 25.21]\n",
            " [41.68 25.63 27.79 25.46]\n",
            " [42.19 27.61 28.13 26.21]\n",
            " [44.75 28.35 29.83 28.21]\n",
            " [46.95 28.88 31.3  28.53]]\n",
            "\n",
            "View Array:\n",
            "[[43.05 27.79 28.7  27.79]\n",
            " [43.47 28.52 28.98 27.89]\n",
            " [42.24 28.16 28.16 25.63]\n",
            " [39.24 26.16 26.16 26.16]\n",
            " [40.9  26.03 27.27 25.65]\n",
            " [39.47 26.31 26.31 25.21]\n",
            " [41.68 25.63 27.79 25.46]\n",
            " [42.19 27.61 28.13 26.21]\n",
            " [44.75 28.35 29.83 28.21]\n",
            " [46.95 28.88 31.3  28.53]]\n",
            "\n",
            "Data Stacking, Searching, Sorting, Counting, Broadcasting:\n",
            "Stacked Data:\n",
            "[[43.05 27.79 28.7  27.79 43.05 27.79 28.7  27.79]\n",
            " [43.47 28.52 28.98 27.89 43.47 28.52 28.98 27.89]\n",
            " [42.24 28.16 28.16 25.63 42.24 28.16 28.16 25.63]\n",
            " [39.24 26.16 26.16 26.16 39.24 26.16 26.16 26.16]\n",
            " [40.9  26.03 27.27 25.65 40.9  26.03 27.27 25.65]\n",
            " [39.47 26.31 26.31 25.21 39.47 26.31 26.31 25.21]\n",
            " [41.68 25.63 27.79 25.46 41.68 25.63 27.79 25.46]\n",
            " [42.19 27.61 28.13 26.21 42.19 27.61 28.13 26.21]\n",
            " [44.75 28.35 29.83 28.21 44.75 28.35 29.83 28.21]\n",
            " [46.95 28.88 31.3  28.53 46.95 28.88 31.3  28.53]]\n",
            "\n",
            "Indices of 28.16:\n",
            "(array([2, 2]), array([1, 2]))\n",
            "\n",
            "Sorted Data:\n",
            "[[27.79 27.79 28.7  43.05]\n",
            " [27.89 28.52 28.98 43.47]\n",
            " [25.63 28.16 28.16 42.24]\n",
            " [26.16 26.16 26.16 39.24]\n",
            " [25.65 26.03 27.27 40.9 ]\n",
            " [25.21 26.31 26.31 39.47]\n",
            " [25.46 25.63 27.79 41.68]\n",
            " [26.21 27.61 28.13 42.19]\n",
            " [28.21 28.35 29.83 44.75]\n",
            " [28.53 28.88 31.3  46.95]]\n",
            "\n",
            "Count: 27\n",
            "\n",
            "Broadcasted Data:\n",
            "[[44.05 29.79 31.7  31.79]\n",
            " [44.47 30.52 31.98 31.89]\n",
            " [43.24 30.16 31.16 29.63]\n",
            " [40.24 28.16 29.16 30.16]\n",
            " [41.9  28.03 30.27 29.65]\n",
            " [40.47 28.31 29.31 29.21]\n",
            " [42.68 27.63 30.79 29.46]\n",
            " [43.19 29.61 31.13 30.21]\n",
            " [45.75 30.35 32.83 32.21]\n",
            " [47.95 30.88 34.3  32.53]]\n"
          ]
        }
      ]
    },
    {
      "cell_type": "code",
      "source": [
        "import matplotlib.pyplot as pyplot\n",
        "\n",
        "slice = ['1758', '1664','230', '76']\n",
        "activities = ['2023', '2022', '2021', '2020']\n",
        "cols = ['r','b','c','g']\n",
        "pyplot.pie(slice,\n",
        "labels =activities,\n",
        "colors = cols,\n",
        "startangle = 90,\n",
        "shadow = True,\n",
        "explode =(0,0.1,0,0),\n",
        "autopct ='%1.1f%%')\n",
        "pyplot.title('No. of employe in each year')\n",
        "\n",
        "# Print the chart\n",
        "pyplot.show()"
      ],
      "metadata": {
        "colab": {
          "base_uri": "https://localhost:8080/",
          "height": 428
        },
        "id": "YZsfjck3i9c5",
        "outputId": "2764b4fe-aaeb-4384-8081-9721b37bdf0a"
      },
      "execution_count": 18,
      "outputs": [
        {
          "output_type": "display_data",
          "data": {
            "text/plain": [
              "<Figure size 640x480 with 1 Axes>"
            ],
            "image/png": "[encoded data removed]"
          },
          "metadata": {}
        }
      ]
    },
    {
      "cell_type": "code",
      "source": [
        "import matplotlib.pyplot as plt\n",
        "import pandas as pd\n",
        "df1 = pd.read_excel(\"/content/drive/MyDrive/data layering.xlsx\")\n",
        "a = df1[\"rollno\"]\n",
        "b = df1[\"sgpa\"]\n",
        "xpoints = a\n",
        "ypoints = b\n",
        "plt.xlabel(\"Roll No.\")\n",
        "plt.ylabel(\"SGPA\")\n",
        "plt.title(\"SGPA vs Roll No.\")\n",
        "plt.plot(xpoints, ypoints,linestyle=\"-\")\n",
        "plt.show()"
      ],
      "metadata": {
        "colab": {
          "base_uri": "https://localhost:8080/",
          "height": 472
        },
        "id": "02Z4d6lykkhs",
        "outputId": "6dc25f7a-7ed8-4fc4-cb11-b0787ce75875"
      },
      "execution_count": 22,
      "outputs": [
        {
          "output_type": "display_data",
          "data": {
            "text/plain": [
              "<Figure size 640x480 with 1 Axes>"
            ],
            "image/png": "[encoded data removed]"
          },
          "metadata": {}
        }
      ]
    },
    {
      "cell_type": "code",
      "source": [
        "\n",
        "import matplotlib.pyplot as plt\n",
        "slice = ['7.8', '8.3','8.5','8.2','6','7.9','7.6','8','7.9','8.7']\n",
        "activities = ['401','402','403','404','405','406','407','408','409','410']\n",
        "plt.pie(slice,\n",
        "labels =activities,\n",
        "startangle = 90,\n",
        "shadow = True,\n",
        "explode =(0,0.1,0,0.1,0,0.1,0,0.1,0,0.1),\n",
        "autopct ='%1.1f%%')\n",
        "plt.title('sgpa of the students')\n",
        "\n",
        "# Print the chart\n",
        "plt.show()"
      ],
      "metadata": {
        "colab": {
          "base_uri": "https://localhost:8080/",
          "height": 428
        },
        "id": "iftjyOsCpN7p",
        "outputId": "f0e694e1-e662-4849-82eb-165b8a72e3d4"
      },
      "execution_count": 23,
      "outputs": [
        {
          "output_type": "display_data",
          "data": {
            "text/plain": [
              "<Figure size 640x480 with 1 Axes>"
            ],
            "image/png": "[encoded data removed]"
          },
          "metadata": {}
        }
      ]
    },
    {
      "cell_type": "code",
      "source": [
        "plt.bar(xpoints, ypoints)\n",
        "plt.show()"
      ],
      "metadata": {
        "colab": {
          "base_uri": "https://localhost:8080/",
          "height": 430
        },
        "id": "VAcQvQBYpiFa",
        "outputId": "701e4765-60dd-47fa-f6b8-44153abf4cd6"
      },
      "execution_count": 24,
      "outputs": [
        {
          "output_type": "display_data",
          "data": {
            "text/plain": [
              "<Figure size 640x480 with 1 Axes>"
            ],
            "image/png": "[encoded data removed]"
          },
          "metadata": {}
        }
      ]
    },
    {
      "cell_type": "code",
      "source": [
        "plt.scatter(xpoints, ypoints)\n",
        "plt.show()"
      ],
      "metadata": {
        "colab": {
          "base_uri": "https://localhost:8080/",
          "height": 430
        },
        "id": "9GZXV9-6psKJ",
        "outputId": "71805d23-b7dc-428b-9039-dfe47b0b0919"
      },
      "execution_count": 25,
      "outputs": [
        {
          "output_type": "display_data",
          "data": {
            "text/plain": [
              "<Figure size 640x480 with 1 Axes>"
            ],
            "image/png": "[encoded data removed]"
          },
          "metadata": {}
        }
      ]
    },
    {
      "cell_type": "code",
      "source": [
        "plt.hist2d(xpoints, ypoints)\n",
        "plt.show()"
      ],
      "metadata": {
        "colab": {
          "base_uri": "https://localhost:8080/",
          "height": 430
        },
        "id": "iWWuGT9Qpxi0",
        "outputId": "9cf84ff1-fe60-4833-940c-5fe81f08c719"
      },
      "execution_count": 26,
      "outputs": [
        {
          "output_type": "display_data",
          "data": {
            "text/plain": [
              "<Figure size 640x480 with 1 Axes>"
            ],
            "image/png": "[encoded data removed]"
          },
          "metadata": {}
        }
      ]
    },
    {
      "cell_type": "code",
      "source": [
        "plt.stackplot(xpoints, ypoints)\n",
        "plt.show()"
      ],
      "metadata": {
        "colab": {
          "base_uri": "https://localhost:8080/",
          "height": 430
        },
        "id": "FSkUGVc3p08N",
        "outputId": "c5370a80-5317-4977-b134-04ec436f6f96"
      },
      "execution_count": 27,
      "outputs": [
        {
          "output_type": "display_data",
          "data": {
            "text/plain": [
              "<Figure size 640x480 with 1 Axes>"
            ],
            "image/png": "[encoded data removed]"
          },
          "metadata": {}
        }
      ]
    },
    {
      "cell_type": "code",
      "source": [
        "plt.stem(xpoints, ypoints)\n",
        "plt.show()"
      ],
      "metadata": {
        "colab": {
          "base_uri": "https://localhost:8080/",
          "height": 430
        },
        "id": "H_OFIRIrp5Ii",
        "outputId": "0830310a-7936-4e81-b7e2-6a90c5e975ef"
      },
      "execution_count": 28,
      "outputs": [
        {
          "output_type": "display_data",
          "data": {
            "text/plain": [
              "<Figure size 640x480 with 1 Axes>"
            ],
            "image/png": "[encoded data removed]"
          },
          "metadata": {}
        }
      ]
    },
    {
      "cell_type": "code",
      "source": [
        "plt.step(xpoints, ypoints)\n",
        "plt.show()"
      ],
      "metadata": {
        "colab": {
          "base_uri": "https://localhost:8080/",
          "height": 430
        },
        "id": "GoCk0MqLp95T",
        "outputId": "f5e569cd-5a3c-41f1-9181-a2202f01c55c"
      },
      "execution_count": 29,
      "outputs": [
        {
          "output_type": "display_data",
          "data": {
            "text/plain": [
              "<Figure size 640x480 with 1 Axes>"
            ],
            "image/png": "[encoded data removed]"
          },
          "metadata": {}
        }
      ]
    },
    {
      "cell_type": "code",
      "source": [
        "import matplotlib.pyplot as plt\n",
        "import pandas as pd\n",
        "df = pd.read_excel(\"/content/drive/MyDrive/data layering.xlsx\")\n",
        "data = df.values.tolist()\n",
        "f = pd.DataFrame(df)\n",
        "\n",
        "a = df[\"rollno\"]\n",
        "print()\n",
        "b = df[\"name\"]\n",
        "c = df[\"attandance\"]\n",
        "d = df[\"batch\"]\n",
        "e = [\"sgpa\"]\n",
        "\n",
        "#Graining with respect to slice\n",
        "c = print(data[2:10])\n",
        "#print(c)\n",
        "df.rollno = df.rollno.astype(\"int64\")\n",
        "#Graining with respect to conditions\n",
        "df[\"name\"][df.rollno>27]\n",
        "print()\n",
        "def student(a,b):\n",
        "  print(\"Student Detail :\",a,b)\n",
        "  # Graining with slice\n",
        "  #print(\"stud:\",a,b)\n",
        "student(a,b)\n",
        "plt.plot(a,b)"
      ],
      "metadata": {
        "colab": {
          "base_uri": "https://localhost:8080/",
          "height": 1000
        },
        "id": "QIa9ZXaPqHhQ",
        "outputId": "a157e92f-f80c-415f-feda-22f5963911b9"
      },
      "execution_count": 36,
      "outputs": [
        {
          "output_type": "stream",
          "name": "stdout",
          "text": [
            "\n",
            "[['aranth', 'D1', 98, 8.5, 403], ['ankit', 'D1', 98, 8.2, 404], ['abhay', 'D1', 76, 6.0, 405], ['atharav', 'D1', 80, 7.9, 406], ['ishika', 'D1', 80, 7.6, 407], ['dhanashree', 'D1', 91, 8.0, 408], ['om', 'D1', 80, 7.9, 409], ['sankalp', 'D1', 78, 8.7, 410]]\n",
            "\n",
            "Student Detail : 0     401\n",
            "1     402\n",
            "2     403\n",
            "3     404\n",
            "4     405\n",
            "5     406\n",
            "6     407\n",
            "7     408\n",
            "8     409\n",
            "9     410\n",
            "10    411\n",
            "11    412\n",
            "12    413\n",
            "13    414\n",
            "14    415\n",
            "15    416\n",
            "16    417\n",
            "17    418\n",
            "18    419\n",
            "19    420\n",
            "20    421\n",
            "21    422\n",
            "22    423\n",
            "23    424\n",
            "24    425\n",
            "25    426\n",
            "26    427\n",
            "27    428\n",
            "28    429\n",
            "29    430\n",
            "30    431\n",
            "31    432\n",
            "32    433\n",
            "33    434\n",
            "34    435\n",
            "35    436\n",
            "36    437\n",
            "37    438\n",
            "38    439\n",
            "39    440\n",
            "40    441\n",
            "41    442\n",
            "42    443\n",
            "43    444\n",
            "44    445\n",
            "45    446\n",
            "Name: rollno, dtype: int64 0              alvin\n",
            "1              arpan\n",
            "2             aranth\n",
            "3              ankit\n",
            "4              abhay\n",
            "5            atharav\n",
            "6             ishika\n",
            "7         dhanashree\n",
            "8                 om\n",
            "9            sankalp\n",
            "10           anirudh\n",
            "11            vishal\n",
            "12             pooja\n",
            "13            pragti\n",
            "14           janhavi\n",
            "15            akshay\n",
            "16          priyanka\n",
            "17             mayur\n",
            "18             gauri\n",
            "19             anish\n",
            "20             punit\n",
            "21            lukesh\n",
            "22             rohan\n",
            "23             vipul\n",
            "24            yaseen\n",
            "25    om raghuvanshi\n",
            "26            aayush\n",
            "27          kaustubh\n",
            "28            bharat\n",
            "29            suyash\n",
            "30              yash\n",
            "31            nirmal\n",
            "32             kunal\n",
            "33            vedant\n",
            "34            chetan\n",
            "35            sameer\n",
            "36           swapnil\n",
            "37          sudanshu\n",
            "38             vinay\n",
            "39            shreya\n",
            "40            anurag\n",
            "41            piyush\n",
            "42             rohit\n",
            "43           samkalp\n",
            "44           rishabh\n",
            "45           mallika\n",
            "Name: name, dtype: object\n"
          ]
        },
        {
          "output_type": "execute_result",
          "data": {
            "text/plain": [
              "[<matplotlib.lines.Line2D at 0x7f7d6d52c610>]"
            ]
          },
          "metadata": {},
          "execution_count": 36
        },
        {
          "output_type": "display_data",
          "data": {
            "text/plain": [
              "<Figure size 640x480 with 1 Axes>"
            ],
            "image/png": "[encoded data removed]"
          },
          "metadata": {}
        }
      ]
    },
    {
      "cell_type": "code",
      "source": [
        "import matplotlib.pyplot as plt\n",
        "import pandas as pd\n",
        "df = pd.read_excel(\"/content/drive/MyDrive/data layering.xlsx\")\n",
        "data = df.values.tolist()\n",
        "f = pd.DataFrame(df)\n",
        "f\n",
        "print()\n",
        "list1 = df[\"sgpa\"]\n",
        "list2 = list(list1)\n",
        "print(list2)\n",
        "print()\n",
        "print(\"sgpa of students >=9 :\")\n",
        "for i in range(len(list2)):\n",
        "  if(i>=9):\n",
        "    print(i)"
      ],
      "metadata": {
        "colab": {
          "base_uri": "https://localhost:8080/"
        },
        "id": "NBABc062wrf0",
        "outputId": "63ac5c7a-d601-4ae3-fe99-c6b26b505c35"
      },
      "execution_count": 37,
      "outputs": [
        {
          "output_type": "stream",
          "name": "stdout",
          "text": [
            "\n",
            "[7.8, 8.3, 8.5, 8.2, 6.0, 7.9, 7.6, 8.0, 7.9, 8.7, 9.2, 8.7, 8.0, 7.6, 9.1, 7.9, 8.0, 9.1, 7.0, 8.2, 8.7, 7.9, 7.9, 9.0, 9.9, 8.8, 7.9, 8.2, 8.0, 7.0, 8.2, 7.7, 7.9, 8.2, 8.8, 8.6, 7.6, 6.9, 7.6, 7.4, 8.3, 8.2, 8.0, 7.9, 7.8, 6.9]\n",
            "\n",
            "sgpa of students >=9 :\n",
            "9\n",
            "10\n",
            "11\n",
            "12\n",
            "13\n",
            "14\n",
            "15\n",
            "16\n",
            "17\n",
            "18\n",
            "19\n",
            "20\n",
            "21\n",
            "22\n",
            "23\n",
            "24\n",
            "25\n",
            "26\n",
            "27\n",
            "28\n",
            "29\n",
            "30\n",
            "31\n",
            "32\n",
            "33\n",
            "34\n",
            "35\n",
            "36\n",
            "37\n",
            "38\n",
            "39\n",
            "40\n",
            "41\n",
            "42\n",
            "43\n",
            "44\n",
            "45\n"
          ]
        }
      ]
    },
    {
      "cell_type": "code",
      "source": [
        "\n",
        "list1 = df[\"attandance\"]\n",
        "list2 = list(list1)\n",
        "print(list2)\n",
        "print()\n",
        "print(\"attandance of students >= 80 :\")\n",
        "for i in range(len(list2)):\n",
        "  if(i>=80):\n",
        "    print(i)"
      ],
      "metadata": {
        "colab": {
          "base_uri": "https://localhost:8080/"
        },
        "id": "gafR5YQ1w_mU",
        "outputId": "dcfaa449-2713-4899-9358-47c7c83b6d91"
      },
      "execution_count": 38,
      "outputs": [
        {
          "output_type": "stream",
          "name": "stdout",
          "text": [
            "[99, 100, 98, 98, 76, 80, 80, 91, 80, 78, 92, 86, 77, 78, 80, 76, 80, 90, 76, 89, 100, 70, 80, 100, 96, 55, 80, 90, 80, 89, 98, 78, 80, 98, 79, 90, 66, 88, 70, 79, 80, 66, 80, 66, 100, 60]\n",
            "\n",
            "attandance of students >= 80 :\n"
          ]
        }
      ]
    },
    {
      "cell_type": "code",
      "source": [
        "list1 = df[\"attandance\"]\n",
        "list2 = list(list1)\n",
        "print(list2)\n",
        "c = print(list[2:5])\n",
        "print(c)"
      ],
      "metadata": {
        "colab": {
          "base_uri": "https://localhost:8080/"
        },
        "id": "7T8BbQ9VxBpS",
        "outputId": "8ebd3b54-871f-448b-aee2-3931a592b0f1"
      },
      "execution_count": 39,
      "outputs": [
        {
          "output_type": "stream",
          "name": "stdout",
          "text": [
            "[99, 100, 98, 98, 76, 80, 80, 91, 80, 78, 92, 86, 77, 78, 80, 76, 80, 90, 76, 89, 100, 70, 80, 100, 96, 55, 80, 90, 80, 89, 98, 78, 80, 98, 79, 90, 66, 88, 70, 79, 80, 66, 80, 66, 100, 60]\n",
            "list[slice(2, 5, None)]\n",
            "None\n"
          ]
        }
      ]
    },
    {
      "cell_type": "code",
      "source": [
        "list1 = df[\"rollno\"]\n",
        "list2 = list(list1)\n",
        "print(list2)\n",
        "c = print(list[2:5])\n",
        "print(c)"
      ],
      "metadata": {
        "colab": {
          "base_uri": "https://localhost:8080/"
        },
        "id": "rmyMp6yTxB8l",
        "outputId": "b26dda28-fa40-4e32-a85b-dabffba51fee"
      },
      "execution_count": 40,
      "outputs": [
        {
          "output_type": "stream",
          "name": "stdout",
          "text": [
            "[401, 402, 403, 404, 405, 406, 407, 408, 409, 410, 411, 412, 413, 414, 415, 416, 417, 418, 419, 420, 421, 422, 423, 424, 425, 426, 427, 428, 429, 430, 431, 432, 433, 434, 435, 436, 437, 438, 439, 440, 441, 442, 443, 444, 445, 446]\n",
            "list[slice(2, 5, None)]\n",
            "None\n"
          ]
        }
      ]
    },
    {
      "cell_type": "code",
      "source": [
        "import matplotlib.pyplot as plt\n",
        "import pandas as pd\n",
        "df = pd.read_excel(\"/content/drive/MyDrive/data layering.xlsx\")\n",
        "data = df.values.tolist()\n",
        "f = pd.DataFrame(df)\n",
        "print(data)\n",
        "print()\n",
        "a = df[\"attandance\"]\n",
        "b = df[\"sgpa\"]\n",
        "#Graining with respect to slice\n",
        "c = print(data[2:46])\n",
        "df.rollno = df.rollno.astype(\"int64\")\n",
        "#Graining with respect to conditions\n",
        "df[\"sgpa\"][df.attandance>80]\n",
        "print()\n",
        "def student(a,b):\n",
        "  print(\"Student Detail :\",a,b)\n",
        "# Graining with slice\n",
        "#print(\"stud:\",a,b)\n",
        "print()\n",
        "student(a,b)\n",
        "plt.plot(a,b)"
      ],
      "metadata": {
        "colab": {
          "base_uri": "https://localhost:8080/",
          "height": 1000
        },
        "id": "LZhkSBtMxCAH",
        "outputId": "e13e4dd3-8297-4c90-eb7d-81e80c360d49"
      },
      "execution_count": 41,
      "outputs": [
        {
          "output_type": "stream",
          "name": "stdout",
          "text": [
            "[['alvin', 'D1', 99, 7.8, 401], ['arpan', 'D1', 100, 8.3, 402], ['aranth', 'D1', 98, 8.5, 403], ['ankit', 'D1', 98, 8.2, 404], ['abhay', 'D1', 76, 6.0, 405], ['atharav', 'D1', 80, 7.9, 406], ['ishika', 'D1', 80, 7.6, 407], ['dhanashree', 'D1', 91, 8.0, 408], ['om', 'D1', 80, 7.9, 409], ['sankalp', 'D1', 78, 8.7, 410], ['anirudh', 'D1', 92, 9.2, 411], ['vishal', 'D1', 86, 8.7, 412], ['pooja', 'D2', 77, 8.0, 413], ['pragti', 'D2', 78, 7.6, 414], ['janhavi', 'D2', 80, 9.1, 415], ['akshay', 'D2', 76, 7.9, 416], ['priyanka', 'D2', 80, 8.0, 417], ['mayur', 'D2', 90, 9.1, 418], ['gauri', 'D2', 76, 7.0, 419], ['anish', 'D2', 89, 8.2, 420], ['punit', 'D2', 100, 8.7, 421], ['lukesh', 'D2', 70, 7.9, 422], ['rohan', 'D2', 80, 7.9, 423], ['vipul', 'D2', 100, 9.0, 424], ['yaseen', 'D2', 96, 9.9, 425], ['om raghuvanshi', 'D3', 55, 8.8, 426], ['aayush', 'D3', 80, 7.9, 427], ['kaustubh', 'D3', 90, 8.2, 428], ['bharat', 'D3', 80, 8.0, 429], ['suyash', 'D3', 89, 7.0, 430], ['yash', 'D3', 98, 8.2, 431], ['nirmal', 'D3', 78, 7.7, 432], ['kunal', 'D3', 80, 7.9, 433], ['vedant', 'D3', 98, 8.2, 434], ['chetan', 'D3', 79, 8.8, 435], ['sameer', 'D3', 90, 8.6, 436], ['swapnil', 'D3', 66, 7.6, 437], ['sudanshu', 'D3', 88, 6.9, 438], ['vinay', 'D4', 70, 7.6, 439], ['shreya', 'D4', 79, 7.4, 440], ['anurag', 'D4', 80, 8.3, 441], ['piyush', 'D4', 66, 8.2, 442], ['rohit', 'D4', 80, 8.0, 443], ['samkalp', 'D4', 66, 7.9, 444], ['rishabh', 'D4', 100, 7.8, 445], ['mallika', 'D4', 60, 6.9, 446]]\n",
            "\n",
            "[['aranth', 'D1', 98, 8.5, 403], ['ankit', 'D1', 98, 8.2, 404], ['abhay', 'D1', 76, 6.0, 405], ['atharav', 'D1', 80, 7.9, 406], ['ishika', 'D1', 80, 7.6, 407], ['dhanashree', 'D1', 91, 8.0, 408], ['om', 'D1', 80, 7.9, 409], ['sankalp', 'D1', 78, 8.7, 410], ['anirudh', 'D1', 92, 9.2, 411], ['vishal', 'D1', 86, 8.7, 412], ['pooja', 'D2', 77, 8.0, 413], ['pragti', 'D2', 78, 7.6, 414], ['janhavi', 'D2', 80, 9.1, 415], ['akshay', 'D2', 76, 7.9, 416], ['priyanka', 'D2', 80, 8.0, 417], ['mayur', 'D2', 90, 9.1, 418], ['gauri', 'D2', 76, 7.0, 419], ['anish', 'D2', 89, 8.2, 420], ['punit', 'D2', 100, 8.7, 421], ['lukesh', 'D2', 70, 7.9, 422], ['rohan', 'D2', 80, 7.9, 423], ['vipul', 'D2', 100, 9.0, 424], ['yaseen', 'D2', 96, 9.9, 425], ['om raghuvanshi', 'D3', 55, 8.8, 426], ['aayush', 'D3', 80, 7.9, 427], ['kaustubh', 'D3', 90, 8.2, 428], ['bharat', 'D3', 80, 8.0, 429], ['suyash', 'D3', 89, 7.0, 430], ['yash', 'D3', 98, 8.2, 431], ['nirmal', 'D3', 78, 7.7, 432], ['kunal', 'D3', 80, 7.9, 433], ['vedant', 'D3', 98, 8.2, 434], ['chetan', 'D3', 79, 8.8, 435], ['sameer', 'D3', 90, 8.6, 436], ['swapnil', 'D3', 66, 7.6, 437], ['sudanshu', 'D3', 88, 6.9, 438], ['vinay', 'D4', 70, 7.6, 439], ['shreya', 'D4', 79, 7.4, 440], ['anurag', 'D4', 80, 8.3, 441], ['piyush', 'D4', 66, 8.2, 442], ['rohit', 'D4', 80, 8.0, 443], ['samkalp', 'D4', 66, 7.9, 444], ['rishabh', 'D4', 100, 7.8, 445], ['mallika', 'D4', 60, 6.9, 446]]\n",
            "\n",
            "\n",
            "Student Detail : 0      99\n",
            "1     100\n",
            "2      98\n",
            "3      98\n",
            "4      76\n",
            "5      80\n",
            "6      80\n",
            "7      91\n",
            "8      80\n",
            "9      78\n",
            "10     92\n",
            "11     86\n",
            "12     77\n",
            "13     78\n",
            "14     80\n",
            "15     76\n",
            "16     80\n",
            "17     90\n",
            "18     76\n",
            "19     89\n",
            "20    100\n",
            "21     70\n",
            "22     80\n",
            "23    100\n",
            "24     96\n",
            "25     55\n",
            "26     80\n",
            "27     90\n",
            "28     80\n",
            "29     89\n",
            "30     98\n",
            "31     78\n",
            "32     80\n",
            "33     98\n",
            "34     79\n",
            "35     90\n",
            "36     66\n",
            "37     88\n",
            "38     70\n",
            "39     79\n",
            "40     80\n",
            "41     66\n",
            "42     80\n",
            "43     66\n",
            "44    100\n",
            "45     60\n",
            "Name: attandance, dtype: int64 0     7.8\n",
            "1     8.3\n",
            "2     8.5\n",
            "3     8.2\n",
            "4     6.0\n",
            "5     7.9\n",
            "6     7.6\n",
            "7     8.0\n",
            "8     7.9\n",
            "9     8.7\n",
            "10    9.2\n",
            "11    8.7\n",
            "12    8.0\n",
            "13    7.6\n",
            "14    9.1\n",
            "15    7.9\n",
            "16    8.0\n",
            "17    9.1\n",
            "18    7.0\n",
            "19    8.2\n",
            "20    8.7\n",
            "21    7.9\n",
            "22    7.9\n",
            "23    9.0\n",
            "24    9.9\n",
            "25    8.8\n",
            "26    7.9\n",
            "27    8.2\n",
            "28    8.0\n",
            "29    7.0\n",
            "30    8.2\n",
            "31    7.7\n",
            "32    7.9\n",
            "33    8.2\n",
            "34    8.8\n",
            "35    8.6\n",
            "36    7.6\n",
            "37    6.9\n",
            "38    7.6\n",
            "39    7.4\n",
            "40    8.3\n",
            "41    8.2\n",
            "42    8.0\n",
            "43    7.9\n",
            "44    7.8\n",
            "45    6.9\n",
            "Name: sgpa, dtype: float64\n"
          ]
        },
        {
          "output_type": "execute_result",
          "data": {
            "text/plain": [
              "[<matplotlib.lines.Line2D at 0x7f7d6d6cb6a0>]"
            ]
          },
          "metadata": {},
          "execution_count": 41
        },
        {
          "output_type": "display_data",
          "data": {
            "text/plain": [
              "<Figure size 640x480 with 1 Axes>"
            ],
            "image/png": "[encoded data removed]"
          },
          "metadata": {}
        }
      ]
    },
    {
      "cell_type": "code",
      "source": [
        "import matplotlib.pyplot as plt\n",
        "import pandas as pd\n",
        "df = pd.read_excel(\"/content/drive/MyDrive/data layering.xlsx\")\n",
        "data = df.values.tolist()\n",
        "f = pd.DataFrame(df)\n",
        "print(data)\n",
        "print()\n",
        "a = df.groupby(\"name\")[\"rollno\"].count()>=15\n",
        "#Graining with respect to slice\n",
        "c = print(data[2:20])\n",
        "df.rollno = df.rollno.astype(\"int64\")\n",
        "#Graining with respect to conditions\n",
        "df[\"sgpa\"][df.attandance>80]\n",
        "print()\n",
        "def student(a):\n",
        "  print(\"Student Detail :\",a)\n",
        "# Graining with slice\n",
        "#print(\"stud:\",a,b)\n",
        "student(a)\n",
        "plt.plot(a)"
      ],
      "metadata": {
        "colab": {
          "base_uri": "https://localhost:8080/",
          "height": 1000
        },
        "id": "m6I9SGdvxOzS",
        "outputId": "f63cb6e8-48ff-4a8a-ac6f-dc5f3f255f38"
      },
      "execution_count": 42,
      "outputs": [
        {
          "output_type": "stream",
          "name": "stdout",
          "text": [
            "[['alvin', 'D1', 99, 7.8, 401], ['arpan', 'D1', 100, 8.3, 402], ['aranth', 'D1', 98, 8.5, 403], ['ankit', 'D1', 98, 8.2, 404], ['abhay', 'D1', 76, 6.0, 405], ['atharav', 'D1', 80, 7.9, 406], ['ishika', 'D1', 80, 7.6, 407], ['dhanashree', 'D1', 91, 8.0, 408], ['om', 'D1', 80, 7.9, 409], ['sankalp', 'D1', 78, 8.7, 410], ['anirudh', 'D1', 92, 9.2, 411], ['vishal', 'D1', 86, 8.7, 412], ['pooja', 'D2', 77, 8.0, 413], ['pragti', 'D2', 78, 7.6, 414], ['janhavi', 'D2', 80, 9.1, 415], ['akshay', 'D2', 76, 7.9, 416], ['priyanka', 'D2', 80, 8.0, 417], ['mayur', 'D2', 90, 9.1, 418], ['gauri', 'D2', 76, 7.0, 419], ['anish', 'D2', 89, 8.2, 420], ['punit', 'D2', 100, 8.7, 421], ['lukesh', 'D2', 70, 7.9, 422], ['rohan', 'D2', 80, 7.9, 423], ['vipul', 'D2', 100, 9.0, 424], ['yaseen', 'D2', 96, 9.9, 425], ['om raghuvanshi', 'D3', 55, 8.8, 426], ['aayush', 'D3', 80, 7.9, 427], ['kaustubh', 'D3', 90, 8.2, 428], ['bharat', 'D3', 80, 8.0, 429], ['suyash', 'D3', 89, 7.0, 430], ['yash', 'D3', 98, 8.2, 431], ['nirmal', 'D3', 78, 7.7, 432], ['kunal', 'D3', 80, 7.9, 433], ['vedant', 'D3', 98, 8.2, 434], ['chetan', 'D3', 79, 8.8, 435], ['sameer', 'D3', 90, 8.6, 436], ['swapnil', 'D3', 66, 7.6, 437], ['sudanshu', 'D3', 88, 6.9, 438], ['vinay', 'D4', 70, 7.6, 439], ['shreya', 'D4', 79, 7.4, 440], ['anurag', 'D4', 80, 8.3, 441], ['piyush', 'D4', 66, 8.2, 442], ['rohit', 'D4', 80, 8.0, 443], ['samkalp', 'D4', 66, 7.9, 444], ['rishabh', 'D4', 100, 7.8, 445], ['mallika', 'D4', 60, 6.9, 446]]\n",
            "\n",
            "[['aranth', 'D1', 98, 8.5, 403], ['ankit', 'D1', 98, 8.2, 404], ['abhay', 'D1', 76, 6.0, 405], ['atharav', 'D1', 80, 7.9, 406], ['ishika', 'D1', 80, 7.6, 407], ['dhanashree', 'D1', 91, 8.0, 408], ['om', 'D1', 80, 7.9, 409], ['sankalp', 'D1', 78, 8.7, 410], ['anirudh', 'D1', 92, 9.2, 411], ['vishal', 'D1', 86, 8.7, 412], ['pooja', 'D2', 77, 8.0, 413], ['pragti', 'D2', 78, 7.6, 414], ['janhavi', 'D2', 80, 9.1, 415], ['akshay', 'D2', 76, 7.9, 416], ['priyanka', 'D2', 80, 8.0, 417], ['mayur', 'D2', 90, 9.1, 418], ['gauri', 'D2', 76, 7.0, 419], ['anish', 'D2', 89, 8.2, 420]]\n",
            "\n",
            "Student Detail : name\n",
            "aayush            False\n",
            "abhay             False\n",
            "akshay            False\n",
            "alvin             False\n",
            "anirudh           False\n",
            "anish             False\n",
            "ankit             False\n",
            "anurag            False\n",
            "aranth            False\n",
            "arpan             False\n",
            "atharav           False\n",
            "bharat            False\n",
            "chetan            False\n",
            "dhanashree        False\n",
            "gauri             False\n",
            "ishika            False\n",
            "janhavi           False\n",
            "kaustubh          False\n",
            "kunal             False\n",
            "lukesh            False\n",
            "mallika           False\n",
            "mayur             False\n",
            "nirmal            False\n",
            "om                False\n",
            "om raghuvanshi    False\n",
            "piyush            False\n",
            "pooja             False\n",
            "pragti            False\n",
            "priyanka          False\n",
            "punit             False\n",
            "rishabh           False\n",
            "rohan             False\n",
            "rohit             False\n",
            "sameer            False\n",
            "samkalp           False\n",
            "sankalp           False\n",
            "shreya            False\n",
            "sudanshu          False\n",
            "suyash            False\n",
            "swapnil           False\n",
            "vedant            False\n",
            "vinay             False\n",
            "vipul             False\n",
            "vishal            False\n",
            "yaseen            False\n",
            "yash              False\n",
            "Name: rollno, dtype: bool\n"
          ]
        },
        {
          "output_type": "execute_result",
          "data": {
            "text/plain": [
              "[<matplotlib.lines.Line2D at 0x7f7d6d423100>]"
            ]
          },
          "metadata": {},
          "execution_count": 42
        },
        {
          "output_type": "display_data",
          "data": {
            "text/plain": [
              "<Figure size 640x480 with 1 Axes>"
            ],
            "image/png": "[encoded data removed]"
          },
          "metadata": {}
        }
      ]
    },
    {
      "cell_type": "code",
      "source": [
        "import matplotlib.pyplot as plt\n",
        "import pandas as pd\n",
        "df = pd.read_excel(\"/content/drive/MyDrive/data layering.xlsx\")\n",
        "data = df.values.tolist()\n",
        "f = pd.DataFrame(df)\n",
        "print(data)\n",
        "print()\n",
        "a = df[\"attandance\"]\n",
        "b = df[\"sgpa\"]\n",
        "print(a)\n",
        "print(b)\n",
        "c = list(a)\n",
        "d = list(b)\n",
        "print(c)\n",
        "print(d)\n",
        "def student(c,d):\n",
        "  print(\"Student Detail :\",c,d)\n",
        "# Graining with slice\n",
        "#print(\"stud:\",c,d)\n",
        "print()\n",
        "student(c,d)\n",
        "plt.plot(c,d)"
      ],
      "metadata": {
        "colab": {
          "base_uri": "https://localhost:8080/",
          "height": 1000
        },
        "id": "TxSITvRRxPZf",
        "outputId": "1235448e-6eae-404f-97c5-8ce3cad59501"
      },
      "execution_count": 43,
      "outputs": [
        {
          "output_type": "stream",
          "name": "stdout",
          "text": [
            "[['alvin', 'D1', 99, 7.8, 401], ['arpan', 'D1', 100, 8.3, 402], ['aranth', 'D1', 98, 8.5, 403], ['ankit', 'D1', 98, 8.2, 404], ['abhay', 'D1', 76, 6.0, 405], ['atharav', 'D1', 80, 7.9, 406], ['ishika', 'D1', 80, 7.6, 407], ['dhanashree', 'D1', 91, 8.0, 408], ['om', 'D1', 80, 7.9, 409], ['sankalp', 'D1', 78, 8.7, 410], ['anirudh', 'D1', 92, 9.2, 411], ['vishal', 'D1', 86, 8.7, 412], ['pooja', 'D2', 77, 8.0, 413], ['pragti', 'D2', 78, 7.6, 414], ['janhavi', 'D2', 80, 9.1, 415], ['akshay', 'D2', 76, 7.9, 416], ['priyanka', 'D2', 80, 8.0, 417], ['mayur', 'D2', 90, 9.1, 418], ['gauri', 'D2', 76, 7.0, 419], ['anish', 'D2', 89, 8.2, 420], ['punit', 'D2', 100, 8.7, 421], ['lukesh', 'D2', 70, 7.9, 422], ['rohan', 'D2', 80, 7.9, 423], ['vipul', 'D2', 100, 9.0, 424], ['yaseen', 'D2', 96, 9.9, 425], ['om raghuvanshi', 'D3', 55, 8.8, 426], ['aayush', 'D3', 80, 7.9, 427], ['kaustubh', 'D3', 90, 8.2, 428], ['bharat', 'D3', 80, 8.0, 429], ['suyash', 'D3', 89, 7.0, 430], ['yash', 'D3', 98, 8.2, 431], ['nirmal', 'D3', 78, 7.7, 432], ['kunal', 'D3', 80, 7.9, 433], ['vedant', 'D3', 98, 8.2, 434], ['chetan', 'D3', 79, 8.8, 435], ['sameer', 'D3', 90, 8.6, 436], ['swapnil', 'D3', 66, 7.6, 437], ['sudanshu', 'D3', 88, 6.9, 438], ['vinay', 'D4', 70, 7.6, 439], ['shreya', 'D4', 79, 7.4, 440], ['anurag', 'D4', 80, 8.3, 441], ['piyush', 'D4', 66, 8.2, 442], ['rohit', 'D4', 80, 8.0, 443], ['samkalp', 'D4', 66, 7.9, 444], ['rishabh', 'D4', 100, 7.8, 445], ['mallika', 'D4', 60, 6.9, 446]]\n",
            "\n",
            "0      99\n",
            "1     100\n",
            "2      98\n",
            "3      98\n",
            "4      76\n",
            "5      80\n",
            "6      80\n",
            "7      91\n",
            "8      80\n",
            "9      78\n",
            "10     92\n",
            "11     86\n",
            "12     77\n",
            "13     78\n",
            "14     80\n",
            "15     76\n",
            "16     80\n",
            "17     90\n",
            "18     76\n",
            "19     89\n",
            "20    100\n",
            "21     70\n",
            "22     80\n",
            "23    100\n",
            "24     96\n",
            "25     55\n",
            "26     80\n",
            "27     90\n",
            "28     80\n",
            "29     89\n",
            "30     98\n",
            "31     78\n",
            "32     80\n",
            "33     98\n",
            "34     79\n",
            "35     90\n",
            "36     66\n",
            "37     88\n",
            "38     70\n",
            "39     79\n",
            "40     80\n",
            "41     66\n",
            "42     80\n",
            "43     66\n",
            "44    100\n",
            "45     60\n",
            "Name: attandance, dtype: int64\n",
            "0     7.8\n",
            "1     8.3\n",
            "2     8.5\n",
            "3     8.2\n",
            "4     6.0\n",
            "5     7.9\n",
            "6     7.6\n",
            "7     8.0\n",
            "8     7.9\n",
            "9     8.7\n",
            "10    9.2\n",
            "11    8.7\n",
            "12    8.0\n",
            "13    7.6\n",
            "14    9.1\n",
            "15    7.9\n",
            "16    8.0\n",
            "17    9.1\n",
            "18    7.0\n",
            "19    8.2\n",
            "20    8.7\n",
            "21    7.9\n",
            "22    7.9\n",
            "23    9.0\n",
            "24    9.9\n",
            "25    8.8\n",
            "26    7.9\n",
            "27    8.2\n",
            "28    8.0\n",
            "29    7.0\n",
            "30    8.2\n",
            "31    7.7\n",
            "32    7.9\n",
            "33    8.2\n",
            "34    8.8\n",
            "35    8.6\n",
            "36    7.6\n",
            "37    6.9\n",
            "38    7.6\n",
            "39    7.4\n",
            "40    8.3\n",
            "41    8.2\n",
            "42    8.0\n",
            "43    7.9\n",
            "44    7.8\n",
            "45    6.9\n",
            "Name: sgpa, dtype: float64\n",
            "[99, 100, 98, 98, 76, 80, 80, 91, 80, 78, 92, 86, 77, 78, 80, 76, 80, 90, 76, 89, 100, 70, 80, 100, 96, 55, 80, 90, 80, 89, 98, 78, 80, 98, 79, 90, 66, 88, 70, 79, 80, 66, 80, 66, 100, 60]\n",
            "[7.8, 8.3, 8.5, 8.2, 6.0, 7.9, 7.6, 8.0, 7.9, 8.7, 9.2, 8.7, 8.0, 7.6, 9.1, 7.9, 8.0, 9.1, 7.0, 8.2, 8.7, 7.9, 7.9, 9.0, 9.9, 8.8, 7.9, 8.2, 8.0, 7.0, 8.2, 7.7, 7.9, 8.2, 8.8, 8.6, 7.6, 6.9, 7.6, 7.4, 8.3, 8.2, 8.0, 7.9, 7.8, 6.9]\n",
            "\n",
            "Student Detail : [99, 100, 98, 98, 76, 80, 80, 91, 80, 78, 92, 86, 77, 78, 80, 76, 80, 90, 76, 89, 100, 70, 80, 100, 96, 55, 80, 90, 80, 89, 98, 78, 80, 98, 79, 90, 66, 88, 70, 79, 80, 66, 80, 66, 100, 60] [7.8, 8.3, 8.5, 8.2, 6.0, 7.9, 7.6, 8.0, 7.9, 8.7, 9.2, 8.7, 8.0, 7.6, 9.1, 7.9, 8.0, 9.1, 7.0, 8.2, 8.7, 7.9, 7.9, 9.0, 9.9, 8.8, 7.9, 8.2, 8.0, 7.0, 8.2, 7.7, 7.9, 8.2, 8.8, 8.6, 7.6, 6.9, 7.6, 7.4, 8.3, 8.2, 8.0, 7.9, 7.8, 6.9]\n"
          ]
        },
        {
          "output_type": "execute_result",
          "data": {
            "text/plain": [
              "[<matplotlib.lines.Line2D at 0x7f7d6d3e41f0>]"
            ]
          },
          "metadata": {},
          "execution_count": 43
        },
        {
          "output_type": "display_data",
          "data": {
            "text/plain": [
              "<Figure size 640x480 with 1 Axes>"
            ],
            "image/png": "[encoded data removed]"
          },
          "metadata": {}
        }
      ]
    },
    {
      "cell_type": "code",
      "source": [
        "import pandas as pd\n",
        "import matplotlib.pyplot as plt\n",
        "from sklearn.cluster import KMeans\n",
        "df = pd.read_excel(\"/content/drive/MyDrive/data layering.xlsx\")\n",
        "print(df)\n",
        "print()\n",
        "print(\"sgpa\")\n",
        "x = df[\"sgpa\"]\n",
        "print(x)\n",
        "x1 = list(x)\n",
        "print(x1)\n",
        "print()\n",
        "print(\"attandance\")\n",
        "y = df[\"attandance\"]\n",
        "print(y)\n",
        "y1 = list(y)\n",
        "print(y1)\n",
        "plt.scatter(x1,y1)\n",
        "plt.show()\n",
        "data = list(zip(x1,y1))\n",
        "inertia = []\n",
        "for i in range(1,46):\n",
        "  kmeans = KMeans(n_clusters=i)\n",
        "  kmeans.fit(data)\n",
        "  inertia.append(kmeans.inertia_)\n",
        "plt.plot(range(1,46),inertia, marker = \"o\")\n",
        "plt.xlabel(\"sgpa\")\n",
        "plt.ylabel(\"attandance\")\n",
        "plt.show()\n",
        "kmeans = KMeans(n_clusters=10)\n",
        "kmeans.fit(data)\n",
        "plt.scatter(x1,y1,c = kmeans.labels_)\n",
        "plt.show()"
      ],
      "metadata": {
        "colab": {
          "base_uri": "https://localhost:8080/",
          "height": 1000
        },
        "id": "WklPlfPAxPli",
        "outputId": "d789817b-990e-4e1d-830c-7e6aa355560f"
      },
      "execution_count": 44,
      "outputs": [
        {
          "output_type": "stream",
          "name": "stdout",
          "text": [
            "              name batch  attandance  sgpa  rollno\n",
            "0            alvin    D1          99   7.8     401\n",
            "1            arpan    D1         100   8.3     402\n",
            "2           aranth    D1          98   8.5     403\n",
            "3            ankit    D1          98   8.2     404\n",
            "4            abhay    D1          76   6.0     405\n",
            "5          atharav    D1          80   7.9     406\n",
            "6           ishika    D1          80   7.6     407\n",
            "7       dhanashree    D1          91   8.0     408\n",
            "8               om    D1          80   7.9     409\n",
            "9          sankalp    D1          78   8.7     410\n",
            "10         anirudh    D1          92   9.2     411\n",
            "11          vishal    D1          86   8.7     412\n",
            "12           pooja    D2          77   8.0     413\n",
            "13          pragti    D2          78   7.6     414\n",
            "14         janhavi    D2          80   9.1     415\n",
            "15          akshay    D2          76   7.9     416\n",
            "16        priyanka    D2          80   8.0     417\n",
            "17           mayur    D2          90   9.1     418\n",
            "18           gauri    D2          76   7.0     419\n",
            "19           anish    D2          89   8.2     420\n",
            "20           punit    D2         100   8.7     421\n",
            "21          lukesh    D2          70   7.9     422\n",
            "22           rohan    D2          80   7.9     423\n",
            "23           vipul    D2         100   9.0     424\n",
            "24          yaseen    D2          96   9.9     425\n",
            "25  om raghuvanshi    D3          55   8.8     426\n",
            "26          aayush    D3          80   7.9     427\n",
            "27        kaustubh    D3          90   8.2     428\n",
            "28          bharat    D3          80   8.0     429\n",
            "29          suyash    D3          89   7.0     430\n",
            "30            yash    D3          98   8.2     431\n",
            "31          nirmal    D3          78   7.7     432\n",
            "32           kunal    D3          80   7.9     433\n",
            "33          vedant    D3          98   8.2     434\n",
            "34          chetan    D3          79   8.8     435\n",
            "35          sameer    D3          90   8.6     436\n",
            "36         swapnil    D3          66   7.6     437\n",
            "37        sudanshu    D3          88   6.9     438\n",
            "38           vinay    D4          70   7.6     439\n",
            "39          shreya    D4          79   7.4     440\n",
            "40          anurag    D4          80   8.3     441\n",
            "41          piyush    D4          66   8.2     442\n",
            "42           rohit    D4          80   8.0     443\n",
            "43         samkalp    D4          66   7.9     444\n",
            "44         rishabh    D4         100   7.8     445\n",
            "45         mallika    D4          60   6.9     446\n",
            "\n",
            "sgpa\n",
            "0     7.8\n",
            "1     8.3\n",
            "2     8.5\n",
            "3     8.2\n",
            "4     6.0\n",
            "5     7.9\n",
            "6     7.6\n",
            "7     8.0\n",
            "8     7.9\n",
            "9     8.7\n",
            "10    9.2\n",
            "11    8.7\n",
            "12    8.0\n",
            "13    7.6\n",
            "14    9.1\n",
            "15    7.9\n",
            "16    8.0\n",
            "17    9.1\n",
            "18    7.0\n",
            "19    8.2\n",
            "20    8.7\n",
            "21    7.9\n",
            "22    7.9\n",
            "23    9.0\n",
            "24    9.9\n",
            "25    8.8\n",
            "26    7.9\n",
            "27    8.2\n",
            "28    8.0\n",
            "29    7.0\n",
            "30    8.2\n",
            "31    7.7\n",
            "32    7.9\n",
            "33    8.2\n",
            "34    8.8\n",
            "35    8.6\n",
            "36    7.6\n",
            "37    6.9\n",
            "38    7.6\n",
            "39    7.4\n",
            "40    8.3\n",
            "41    8.2\n",
            "42    8.0\n",
            "43    7.9\n",
            "44    7.8\n",
            "45    6.9\n",
            "Name: sgpa, dtype: float64\n",
            "[7.8, 8.3, 8.5, 8.2, 6.0, 7.9, 7.6, 8.0, 7.9, 8.7, 9.2, 8.7, 8.0, 7.6, 9.1, 7.9, 8.0, 9.1, 7.0, 8.2, 8.7, 7.9, 7.9, 9.0, 9.9, 8.8, 7.9, 8.2, 8.0, 7.0, 8.2, 7.7, 7.9, 8.2, 8.8, 8.6, 7.6, 6.9, 7.6, 7.4, 8.3, 8.2, 8.0, 7.9, 7.8, 6.9]\n",
            "\n",
            "attandance\n",
            "0      99\n",
            "1     100\n",
            "2      98\n",
            "3      98\n",
            "4      76\n",
            "5      80\n",
            "6      80\n",
            "7      91\n",
            "8      80\n",
            "9      78\n",
            "10     92\n",
            "11     86\n",
            "12     77\n",
            "13     78\n",
            "14     80\n",
            "15     76\n",
            "16     80\n",
            "17     90\n",
            "18     76\n",
            "19     89\n",
            "20    100\n",
            "21     70\n",
            "22     80\n",
            "23    100\n",
            "24     96\n",
            "25     55\n",
            "26     80\n",
            "27     90\n",
            "28     80\n",
            "29     89\n",
            "30     98\n",
            "31     78\n",
            "32     80\n",
            "33     98\n",
            "34     79\n",
            "35     90\n",
            "36     66\n",
            "37     88\n",
            "38     70\n",
            "39     79\n",
            "40     80\n",
            "41     66\n",
            "42     80\n",
            "43     66\n",
            "44    100\n",
            "45     60\n",
            "Name: attandance, dtype: int64\n",
            "[99, 100, 98, 98, 76, 80, 80, 91, 80, 78, 92, 86, 77, 78, 80, 76, 80, 90, 76, 89, 100, 70, 80, 100, 96, 55, 80, 90, 80, 89, 98, 78, 80, 98, 79, 90, 66, 88, 70, 79, 80, 66, 80, 66, 100, 60]\n"
          ]
        },
        {
          "output_type": "display_data",
          "data": {
            "text/plain": [
              "<Figure size 640x480 with 1 Axes>"
            ],
            "image/png": "[encoded data removed]"
          },
          "metadata": {}
        },
        {
          "output_type": "stream",
          "name": "stderr",
          "text": [
            "/usr/local/lib/python3.10/dist-packages/sklearn/cluster/_kmeans.py:870: FutureWarning: The default value of `n_init` will change from 10 to 'auto' in 1.4. Set the value of `n_init` explicitly to suppress the warning\n",
            "  warnings.warn(\n",
            "/usr/local/lib/python3.10/dist-packages/sklearn/cluster/_kmeans.py:870: FutureWarning: The default value of `n_init` will change from 10 to 'auto' in 1.4. Set the value of `n_init` explicitly to suppress the warning\n",
            "  warnings.warn(\n",
            "/usr/local/lib/python3.10/dist-packages/sklearn/cluster/_kmeans.py:870: FutureWarning: The default value of `n_init` will change from 10 to 'auto' in 1.4. Set the value of `n_init` explicitly to suppress the warning\n",
            "  warnings.warn(\n",
            "/usr/local/lib/python3.10/dist-packages/sklearn/cluster/_kmeans.py:870: FutureWarning: The default value of `n_init` will change from 10 to 'auto' in 1.4. Set the value of `n_init` explicitly to suppress the warning\n",
            "  warnings.warn(\n",
            "/usr/local/lib/python3.10/dist-packages/sklearn/cluster/_kmeans.py:870: FutureWarning: The default value of `n_init` will change from 10 to 'auto' in 1.4. Set the value of `n_init` explicitly to suppress the warning\n",
            "  warnings.warn(\n",
            "/usr/local/lib/python3.10/dist-packages/sklearn/cluster/_kmeans.py:870: FutureWarning: The default value of `n_init` will change from 10 to 'auto' in 1.4. Set the value of `n_init` explicitly to suppress the warning\n",
            "  warnings.warn(\n",
            "/usr/local/lib/python3.10/dist-packages/sklearn/cluster/_kmeans.py:870: FutureWarning: The default value of `n_init` will change from 10 to 'auto' in 1.4. Set the value of `n_init` explicitly to suppress the warning\n",
            "  warnings.warn(\n",
            "/usr/local/lib/python3.10/dist-packages/sklearn/cluster/_kmeans.py:870: FutureWarning: The default value of `n_init` will change from 10 to 'auto' in 1.4. Set the value of `n_init` explicitly to suppress the warning\n",
            "  warnings.warn(\n",
            "/usr/local/lib/python3.10/dist-packages/sklearn/cluster/_kmeans.py:870: FutureWarning: The default value of `n_init` will change from 10 to 'auto' in 1.4. Set the value of `n_init` explicitly to suppress the warning\n",
            "  warnings.warn(\n",
            "/usr/local/lib/python3.10/dist-packages/sklearn/cluster/_kmeans.py:870: FutureWarning: The default value of `n_init` will change from 10 to 'auto' in 1.4. Set the value of `n_init` explicitly to suppress the warning\n",
            "  warnings.warn(\n",
            "/usr/local/lib/python3.10/dist-packages/sklearn/cluster/_kmeans.py:870: FutureWarning: The default value of `n_init` will change from 10 to 'auto' in 1.4. Set the value of `n_init` explicitly to suppress the warning\n",
            "  warnings.warn(\n",
            "/usr/local/lib/python3.10/dist-packages/sklearn/cluster/_kmeans.py:870: FutureWarning: The default value of `n_init` will change from 10 to 'auto' in 1.4. Set the value of `n_init` explicitly to suppress the warning\n",
            "  warnings.warn(\n",
            "/usr/local/lib/python3.10/dist-packages/sklearn/cluster/_kmeans.py:870: FutureWarning: The default value of `n_init` will change from 10 to 'auto' in 1.4. Set the value of `n_init` explicitly to suppress the warning\n",
            "  warnings.warn(\n",
            "/usr/local/lib/python3.10/dist-packages/sklearn/cluster/_kmeans.py:870: FutureWarning: The default value of `n_init` will change from 10 to 'auto' in 1.4. Set the value of `n_init` explicitly to suppress the warning\n",
            "  warnings.warn(\n",
            "/usr/local/lib/python3.10/dist-packages/sklearn/cluster/_kmeans.py:870: FutureWarning: The default value of `n_init` will change from 10 to 'auto' in 1.4. Set the value of `n_init` explicitly to suppress the warning\n",
            "  warnings.warn(\n",
            "/usr/local/lib/python3.10/dist-packages/sklearn/cluster/_kmeans.py:870: FutureWarning: The default value of `n_init` will change from 10 to 'auto' in 1.4. Set the value of `n_init` explicitly to suppress the warning\n",
            "  warnings.warn(\n",
            "/usr/local/lib/python3.10/dist-packages/sklearn/cluster/_kmeans.py:870: FutureWarning: The default value of `n_init` will change from 10 to 'auto' in 1.4. Set the value of `n_init` explicitly to suppress the warning\n",
            "  warnings.warn(\n",
            "/usr/local/lib/python3.10/dist-packages/sklearn/cluster/_kmeans.py:870: FutureWarning: The default value of `n_init` will change from 10 to 'auto' in 1.4. Set the value of `n_init` explicitly to suppress the warning\n",
            "  warnings.warn(\n",
            "/usr/local/lib/python3.10/dist-packages/sklearn/cluster/_kmeans.py:870: FutureWarning: The default value of `n_init` will change from 10 to 'auto' in 1.4. Set the value of `n_init` explicitly to suppress the warning\n",
            "  warnings.warn(\n",
            "/usr/local/lib/python3.10/dist-packages/sklearn/cluster/_kmeans.py:870: FutureWarning: The default value of `n_init` will change from 10 to 'auto' in 1.4. Set the value of `n_init` explicitly to suppress the warning\n",
            "  warnings.warn(\n",
            "/usr/local/lib/python3.10/dist-packages/sklearn/cluster/_kmeans.py:870: FutureWarning: The default value of `n_init` will change from 10 to 'auto' in 1.4. Set the value of `n_init` explicitly to suppress the warning\n",
            "  warnings.warn(\n",
            "/usr/local/lib/python3.10/dist-packages/sklearn/cluster/_kmeans.py:870: FutureWarning: The default value of `n_init` will change from 10 to 'auto' in 1.4. Set the value of `n_init` explicitly to suppress the warning\n",
            "  warnings.warn(\n",
            "/usr/local/lib/python3.10/dist-packages/sklearn/cluster/_kmeans.py:870: FutureWarning: The default value of `n_init` will change from 10 to 'auto' in 1.4. Set the value of `n_init` explicitly to suppress the warning\n",
            "  warnings.warn(\n",
            "/usr/local/lib/python3.10/dist-packages/sklearn/cluster/_kmeans.py:870: FutureWarning: The default value of `n_init` will change from 10 to 'auto' in 1.4. Set the value of `n_init` explicitly to suppress the warning\n",
            "  warnings.warn(\n",
            "/usr/local/lib/python3.10/dist-packages/sklearn/cluster/_kmeans.py:870: FutureWarning: The default value of `n_init` will change from 10 to 'auto' in 1.4. Set the value of `n_init` explicitly to suppress the warning\n",
            "  warnings.warn(\n",
            "/usr/local/lib/python3.10/dist-packages/sklearn/cluster/_kmeans.py:870: FutureWarning: The default value of `n_init` will change from 10 to 'auto' in 1.4. Set the value of `n_init` explicitly to suppress the warning\n",
            "  warnings.warn(\n",
            "/usr/local/lib/python3.10/dist-packages/sklearn/cluster/_kmeans.py:870: FutureWarning: The default value of `n_init` will change from 10 to 'auto' in 1.4. Set the value of `n_init` explicitly to suppress the warning\n",
            "  warnings.warn(\n",
            "/usr/local/lib/python3.10/dist-packages/sklearn/cluster/_kmeans.py:870: FutureWarning: The default value of `n_init` will change from 10 to 'auto' in 1.4. Set the value of `n_init` explicitly to suppress the warning\n",
            "  warnings.warn(\n",
            "/usr/local/lib/python3.10/dist-packages/sklearn/cluster/_kmeans.py:870: FutureWarning: The default value of `n_init` will change from 10 to 'auto' in 1.4. Set the value of `n_init` explicitly to suppress the warning\n",
            "  warnings.warn(\n",
            "/usr/local/lib/python3.10/dist-packages/sklearn/cluster/_kmeans.py:870: FutureWarning: The default value of `n_init` will change from 10 to 'auto' in 1.4. Set the value of `n_init` explicitly to suppress the warning\n",
            "  warnings.warn(\n",
            "/usr/local/lib/python3.10/dist-packages/sklearn/cluster/_kmeans.py:870: FutureWarning: The default value of `n_init` will change from 10 to 'auto' in 1.4. Set the value of `n_init` explicitly to suppress the warning\n",
            "  warnings.warn(\n",
            "/usr/local/lib/python3.10/dist-packages/sklearn/cluster/_kmeans.py:870: FutureWarning: The default value of `n_init` will change from 10 to 'auto' in 1.4. Set the value of `n_init` explicitly to suppress the warning\n",
            "  warnings.warn(\n",
            "/usr/local/lib/python3.10/dist-packages/sklearn/cluster/_kmeans.py:870: FutureWarning: The default value of `n_init` will change from 10 to 'auto' in 1.4. Set the value of `n_init` explicitly to suppress the warning\n",
            "  warnings.warn(\n",
            "/usr/local/lib/python3.10/dist-packages/sklearn/cluster/_kmeans.py:870: FutureWarning: The default value of `n_init` will change from 10 to 'auto' in 1.4. Set the value of `n_init` explicitly to suppress the warning\n",
            "  warnings.warn(\n",
            "/usr/local/lib/python3.10/dist-packages/sklearn/cluster/_kmeans.py:870: FutureWarning: The default value of `n_init` will change from 10 to 'auto' in 1.4. Set the value of `n_init` explicitly to suppress the warning\n",
            "  warnings.warn(\n",
            "/usr/local/lib/python3.10/dist-packages/sklearn/cluster/_kmeans.py:870: FutureWarning: The default value of `n_init` will change from 10 to 'auto' in 1.4. Set the value of `n_init` explicitly to suppress the warning\n",
            "  warnings.warn(\n",
            "/usr/local/lib/python3.10/dist-packages/sklearn/cluster/_kmeans.py:870: FutureWarning: The default value of `n_init` will change from 10 to 'auto' in 1.4. Set the value of `n_init` explicitly to suppress the warning\n",
            "  warnings.warn(\n",
            "/usr/local/lib/python3.10/dist-packages/sklearn/cluster/_kmeans.py:870: FutureWarning: The default value of `n_init` will change from 10 to 'auto' in 1.4. Set the value of `n_init` explicitly to suppress the warning\n",
            "  warnings.warn(\n",
            "/usr/local/lib/python3.10/dist-packages/sklearn/cluster/_kmeans.py:870: FutureWarning: The default value of `n_init` will change from 10 to 'auto' in 1.4. Set the value of `n_init` explicitly to suppress the warning\n",
            "  warnings.warn(\n",
            "<ipython-input-44-dd695b154e72>:24: ConvergenceWarning: Number of distinct clusters (38) found smaller than n_clusters (39). Possibly due to duplicate points in X.\n",
            "  kmeans.fit(data)\n",
            "/usr/local/lib/python3.10/dist-packages/sklearn/cluster/_kmeans.py:870: FutureWarning: The default value of `n_init` will change from 10 to 'auto' in 1.4. Set the value of `n_init` explicitly to suppress the warning\n",
            "  warnings.warn(\n",
            "<ipython-input-44-dd695b154e72>:24: ConvergenceWarning: Number of distinct clusters (38) found smaller than n_clusters (40). Possibly due to duplicate points in X.\n",
            "  kmeans.fit(data)\n",
            "/usr/local/lib/python3.10/dist-packages/sklearn/cluster/_kmeans.py:870: FutureWarning: The default value of `n_init` will change from 10 to 'auto' in 1.4. Set the value of `n_init` explicitly to suppress the warning\n",
            "  warnings.warn(\n",
            "<ipython-input-44-dd695b154e72>:24: ConvergenceWarning: Number of distinct clusters (38) found smaller than n_clusters (41). Possibly due to duplicate points in X.\n",
            "  kmeans.fit(data)\n",
            "/usr/local/lib/python3.10/dist-packages/sklearn/cluster/_kmeans.py:870: FutureWarning: The default value of `n_init` will change from 10 to 'auto' in 1.4. Set the value of `n_init` explicitly to suppress the warning\n",
            "  warnings.warn(\n",
            "<ipython-input-44-dd695b154e72>:24: ConvergenceWarning: Number of distinct clusters (38) found smaller than n_clusters (42). Possibly due to duplicate points in X.\n",
            "  kmeans.fit(data)\n",
            "/usr/local/lib/python3.10/dist-packages/sklearn/cluster/_kmeans.py:870: FutureWarning: The default value of `n_init` will change from 10 to 'auto' in 1.4. Set the value of `n_init` explicitly to suppress the warning\n",
            "  warnings.warn(\n",
            "<ipython-input-44-dd695b154e72>:24: ConvergenceWarning: Number of distinct clusters (38) found smaller than n_clusters (43). Possibly due to duplicate points in X.\n",
            "  kmeans.fit(data)\n",
            "/usr/local/lib/python3.10/dist-packages/sklearn/cluster/_kmeans.py:870: FutureWarning: The default value of `n_init` will change from 10 to 'auto' in 1.4. Set the value of `n_init` explicitly to suppress the warning\n",
            "  warnings.warn(\n",
            "<ipython-input-44-dd695b154e72>:24: ConvergenceWarning: Number of distinct clusters (38) found smaller than n_clusters (44). Possibly due to duplicate points in X.\n",
            "  kmeans.fit(data)\n",
            "/usr/local/lib/python3.10/dist-packages/sklearn/cluster/_kmeans.py:870: FutureWarning: The default value of `n_init` will change from 10 to 'auto' in 1.4. Set the value of `n_init` explicitly to suppress the warning\n",
            "  warnings.warn(\n",
            "<ipython-input-44-dd695b154e72>:24: ConvergenceWarning: Number of distinct clusters (38) found smaller than n_clusters (45). Possibly due to duplicate points in X.\n",
            "  kmeans.fit(data)\n"
          ]
        },
        {
          "output_type": "display_data",
          "data": {
            "text/plain": [
              "<Figure size 640x480 with 1 Axes>"
            ],
            "image/png": "[encoded data removed]"
          },
          "metadata": {}
        },
        {
          "output_type": "stream",
          "name": "stderr",
          "text": [
            "/usr/local/lib/python3.10/dist-packages/sklearn/cluster/_kmeans.py:870: FutureWarning: The default value of `n_init` will change from 10 to 'auto' in 1.4. Set the value of `n_init` explicitly to suppress the warning\n",
            "  warnings.warn(\n"
          ]
        },
        {
          "output_type": "display_data",
          "data": {
            "text/plain": [
              "<Figure size 640x480 with 1 Axes>"
            ],
            "image/png": "[encoded data removed]"
          },
          "metadata": {}
        }
      ]
    }
  ]
}